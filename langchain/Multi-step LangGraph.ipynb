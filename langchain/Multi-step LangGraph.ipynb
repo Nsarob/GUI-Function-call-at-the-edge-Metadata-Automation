{
 "cells": [
  {
   "cell_type": "code",
   "execution_count": 3,
   "metadata": {
    "colab": {
     "base_uri": "https://localhost:8080/"
    },
    "executionInfo": {
     "elapsed": 7260,
     "status": "ok",
     "timestamp": 1738451813239,
     "user": {
      "displayName": "Charles Wiecha",
      "userId": "08158400620140352840"
     },
     "user_tz": 300
    },
    "id": "EilSowgLtLtv",
    "outputId": "a90063bb-b5b1-47ca-9800-970b23944c0e"
   },
   "outputs": [
    {
     "name": "stdout",
     "output_type": "stream",
     "text": [
      "\u001b[?25l   \u001b[90m━━━━━━━━━━━━━━━━━━━━━━━━━━━━━━━━━━━━━━━━\u001b[0m \u001b[32m0.0/2.5 MB\u001b[0m \u001b[31m?\u001b[0m eta \u001b[36m-:--:--\u001b[0m\r\n",
      "\u001b[2K   \u001b[91m━━━━━\u001b[0m\u001b[91m╸\u001b[0m\u001b[90m━━━━━━━━━━━━━━━━━━━━━━━━━━━━━━━━━━\u001b[0m \u001b[32m0.4/2.5 MB\u001b[0m \u001b[31m10.9 MB/s\u001b[0m eta \u001b[36m0:00:01\u001b[0m\r\n",
      "\u001b[2K   \u001b[91m━━━━━━━━━━━━━━━━━━━━━━━━━━━━━━━━━━━━━━━\u001b[0m\u001b[91m╸\u001b[0m \u001b[32m2.5/2.5 MB\u001b[0m \u001b[31m37.9 MB/s\u001b[0m eta \u001b[36m0:00:01\u001b[0m\r\n",
      "\u001b[2K   \u001b[90m━━━━━━━━━━━━━━━━━━━━━━━━━━━━━━━━━━━━━━━━\u001b[0m \u001b[32m2.5/2.5 MB\u001b[0m \u001b[31m29.4 MB/s\u001b[0m eta \u001b[36m0:00:00\u001b[0m\n",
      "\u001b[2K   \u001b[90m━━━━━━━━━━━━━━━━━━━━━━━━━━━━━━━━━━━━━━━━\u001b[0m \u001b[32m148.7/148.7 kB\u001b[0m \u001b[31m14.6 MB/s\u001b[0m eta \u001b[36m0:00:00\u001b[0m\n",
      "\u001b[2K   \u001b[90m━━━━━━━━━━━━━━━━━━━━━━━━━━━━━━━━━━━━━━━━\u001b[0m \u001b[32m44.7/44.7 kB\u001b[0m \u001b[31m3.9 MB/s\u001b[0m eta \u001b[36m0:00:00\u001b[0m\n",
      "\u001b[2K   \u001b[90m━━━━━━━━━━━━━━━━━━━━━━━━━━━━━━━━━━━━━━━━\u001b[0m \u001b[32m50.8/50.8 kB\u001b[0m \u001b[31m4.8 MB/s\u001b[0m eta \u001b[36m0:00:00\u001b[0m\n",
      "\u001b[?25h"
     ]
    }
   ],
   "source": [
    "!pip install --quiet --upgrade langchain-text-splitters langchain-community langgraph"
   ]
  },
  {
   "cell_type": "code",
   "execution_count": 4,
   "metadata": {
    "colab": {
     "base_uri": "https://localhost:8080/"
    },
    "executionInfo": {
     "elapsed": 9402,
     "status": "ok",
     "timestamp": 1738451824810,
     "user": {
      "displayName": "Charles Wiecha",
      "userId": "08158400620140352840"
     },
     "user_tz": 300
    },
    "id": "s50qS0KBtVGI",
    "outputId": "bde607a4-9f71-425a-89a3-5e4640090e62"
   },
   "outputs": [
    {
     "name": "stdout",
     "output_type": "stream",
     "text": [
      "\u001b[?25l   \u001b[90m━━━━━━━━━━━━━━━━━━━━━━━━━━━━━━━━━━━━━━━━\u001b[0m \u001b[32m0.0/54.5 kB\u001b[0m \u001b[31m?\u001b[0m eta \u001b[36m-:--:--\u001b[0m\r\n",
      "\u001b[2K   \u001b[90m━━━━━━━━━━━━━━━━━━━━━━━━━━━━━━━━━━━━━━━━\u001b[0m \u001b[32m54.5/54.5 kB\u001b[0m \u001b[31m3.6 MB/s\u001b[0m eta \u001b[36m0:00:00\u001b[0m\n",
      "\u001b[2K   \u001b[90m━━━━━━━━━━━━━━━━━━━━━━━━━━━━━━━━━━━━━━━━\u001b[0m \u001b[32m412.7/412.7 kB\u001b[0m \u001b[31m8.0 MB/s\u001b[0m eta \u001b[36m0:00:00\u001b[0m\n",
      "\u001b[2K   \u001b[90m━━━━━━━━━━━━━━━━━━━━━━━━━━━━━━━━━━━━━━━━\u001b[0m \u001b[32m1.2/1.2 MB\u001b[0m \u001b[31m24.8 MB/s\u001b[0m eta \u001b[36m0:00:00\u001b[0m\n",
      "\u001b[?25h"
     ]
    }
   ],
   "source": [
    "!pip install -qU langchain-openai"
   ]
  },
  {
   "cell_type": "code",
   "execution_count": 5,
   "metadata": {
    "colab": {
     "base_uri": "https://localhost:8080/"
    },
    "collapsed": true,
    "executionInfo": {
     "elapsed": 20782,
     "status": "ok",
     "timestamp": 1738451848657,
     "user": {
      "displayName": "Charles Wiecha",
      "userId": "08158400620140352840"
     },
     "user_tz": 300
    },
    "id": "aOEW31bYvm9H",
    "jupyter": {
     "outputs_hidden": true
    },
    "outputId": "7706147c-e62b-452e-8b74-1404564cab01"
   },
   "outputs": [
    {
     "name": "stdout",
     "output_type": "stream",
     "text": [
      "Requirement already satisfied: langchain in /usr/local/lib/python3.11/dist-packages (0.3.16)\n",
      "Requirement already satisfied: PyYAML>=5.3 in /usr/local/lib/python3.11/dist-packages (from langchain) (6.0.2)\n",
      "Requirement already satisfied: SQLAlchemy<3,>=1.4 in /usr/local/lib/python3.11/dist-packages (from langchain) (2.0.37)\n",
      "Requirement already satisfied: aiohttp<4.0.0,>=3.8.3 in /usr/local/lib/python3.11/dist-packages (from langchain) (3.11.11)\n",
      "Requirement already satisfied: langchain-core<0.4.0,>=0.3.32 in /usr/local/lib/python3.11/dist-packages (from langchain) (0.3.33)\n",
      "Requirement already satisfied: langchain-text-splitters<0.4.0,>=0.3.3 in /usr/local/lib/python3.11/dist-packages (from langchain) (0.3.5)\n",
      "Requirement already satisfied: langsmith<0.4,>=0.1.17 in /usr/local/lib/python3.11/dist-packages (from langchain) (0.3.2)\n",
      "Requirement already satisfied: numpy<2,>=1.22.4 in /usr/local/lib/python3.11/dist-packages (from langchain) (1.26.4)\n",
      "Requirement already satisfied: pydantic<3.0.0,>=2.7.4 in /usr/local/lib/python3.11/dist-packages (from langchain) (2.10.6)\n",
      "Requirement already satisfied: requests<3,>=2 in /usr/local/lib/python3.11/dist-packages (from langchain) (2.32.3)\n",
      "Requirement already satisfied: tenacity!=8.4.0,<10,>=8.1.0 in /usr/local/lib/python3.11/dist-packages (from langchain) (9.0.0)\n",
      "Requirement already satisfied: aiohappyeyeballs>=2.3.0 in /usr/local/lib/python3.11/dist-packages (from aiohttp<4.0.0,>=3.8.3->langchain) (2.4.4)\n",
      "Requirement already satisfied: aiosignal>=1.1.2 in /usr/local/lib/python3.11/dist-packages (from aiohttp<4.0.0,>=3.8.3->langchain) (1.3.2)\n",
      "Requirement already satisfied: attrs>=17.3.0 in /usr/local/lib/python3.11/dist-packages (from aiohttp<4.0.0,>=3.8.3->langchain) (25.1.0)\n",
      "Requirement already satisfied: frozenlist>=1.1.1 in /usr/local/lib/python3.11/dist-packages (from aiohttp<4.0.0,>=3.8.3->langchain) (1.5.0)\n",
      "Requirement already satisfied: multidict<7.0,>=4.5 in /usr/local/lib/python3.11/dist-packages (from aiohttp<4.0.0,>=3.8.3->langchain) (6.1.0)\n",
      "Requirement already satisfied: propcache>=0.2.0 in /usr/local/lib/python3.11/dist-packages (from aiohttp<4.0.0,>=3.8.3->langchain) (0.2.1)\n",
      "Requirement already satisfied: yarl<2.0,>=1.17.0 in /usr/local/lib/python3.11/dist-packages (from aiohttp<4.0.0,>=3.8.3->langchain) (1.18.3)\n",
      "Requirement already satisfied: jsonpatch<2.0,>=1.33 in /usr/local/lib/python3.11/dist-packages (from langchain-core<0.4.0,>=0.3.32->langchain) (1.33)\n",
      "Requirement already satisfied: packaging<25,>=23.2 in /usr/local/lib/python3.11/dist-packages (from langchain-core<0.4.0,>=0.3.32->langchain) (24.2)\n",
      "Requirement already satisfied: typing-extensions>=4.7 in /usr/local/lib/python3.11/dist-packages (from langchain-core<0.4.0,>=0.3.32->langchain) (4.12.2)\n",
      "Requirement already satisfied: httpx<1,>=0.23.0 in /usr/local/lib/python3.11/dist-packages (from langsmith<0.4,>=0.1.17->langchain) (0.28.1)\n",
      "Requirement already satisfied: orjson<4.0.0,>=3.9.14 in /usr/local/lib/python3.11/dist-packages (from langsmith<0.4,>=0.1.17->langchain) (3.10.15)\n",
      "Requirement already satisfied: requests-toolbelt<2.0.0,>=1.0.0 in /usr/local/lib/python3.11/dist-packages (from langsmith<0.4,>=0.1.17->langchain) (1.0.0)\n",
      "Requirement already satisfied: zstandard<0.24.0,>=0.23.0 in /usr/local/lib/python3.11/dist-packages (from langsmith<0.4,>=0.1.17->langchain) (0.23.0)\n",
      "Requirement already satisfied: annotated-types>=0.6.0 in /usr/local/lib/python3.11/dist-packages (from pydantic<3.0.0,>=2.7.4->langchain) (0.7.0)\n",
      "Requirement already satisfied: pydantic-core==2.27.2 in /usr/local/lib/python3.11/dist-packages (from pydantic<3.0.0,>=2.7.4->langchain) (2.27.2)\n",
      "Requirement already satisfied: charset-normalizer<4,>=2 in /usr/local/lib/python3.11/dist-packages (from requests<3,>=2->langchain) (3.4.1)\n",
      "Requirement already satisfied: idna<4,>=2.5 in /usr/local/lib/python3.11/dist-packages (from requests<3,>=2->langchain) (3.10)\n",
      "Requirement already satisfied: urllib3<3,>=1.21.1 in /usr/local/lib/python3.11/dist-packages (from requests<3,>=2->langchain) (2.3.0)\n",
      "Requirement already satisfied: certifi>=2017.4.17 in /usr/local/lib/python3.11/dist-packages (from requests<3,>=2->langchain) (2024.12.14)\n",
      "Requirement already satisfied: greenlet!=0.4.17 in /usr/local/lib/python3.11/dist-packages (from SQLAlchemy<3,>=1.4->langchain) (3.1.1)\n",
      "Requirement already satisfied: anyio in /usr/local/lib/python3.11/dist-packages (from httpx<1,>=0.23.0->langsmith<0.4,>=0.1.17->langchain) (3.7.1)\n",
      "Requirement already satisfied: httpcore==1.* in /usr/local/lib/python3.11/dist-packages (from httpx<1,>=0.23.0->langsmith<0.4,>=0.1.17->langchain) (1.0.7)\n",
      "Requirement already satisfied: h11<0.15,>=0.13 in /usr/local/lib/python3.11/dist-packages (from httpcore==1.*->httpx<1,>=0.23.0->langsmith<0.4,>=0.1.17->langchain) (0.14.0)\n",
      "Requirement already satisfied: jsonpointer>=1.9 in /usr/local/lib/python3.11/dist-packages (from jsonpatch<2.0,>=1.33->langchain-core<0.4.0,>=0.3.32->langchain) (3.0.0)\n",
      "Requirement already satisfied: sniffio>=1.1 in /usr/local/lib/python3.11/dist-packages (from anyio->httpx<1,>=0.23.0->langsmith<0.4,>=0.1.17->langchain) (1.3.1)\n",
      "Requirement already satisfied: langchain_core in /usr/local/lib/python3.11/dist-packages (0.3.33)\n",
      "Requirement already satisfied: PyYAML>=5.3 in /usr/local/lib/python3.11/dist-packages (from langchain_core) (6.0.2)\n",
      "Requirement already satisfied: jsonpatch<2.0,>=1.33 in /usr/local/lib/python3.11/dist-packages (from langchain_core) (1.33)\n",
      "Requirement already satisfied: langsmith<0.4,>=0.1.125 in /usr/local/lib/python3.11/dist-packages (from langchain_core) (0.3.2)\n",
      "Requirement already satisfied: packaging<25,>=23.2 in /usr/local/lib/python3.11/dist-packages (from langchain_core) (24.2)\n",
      "Requirement already satisfied: pydantic<3.0.0,>=2.5.2 in /usr/local/lib/python3.11/dist-packages (from langchain_core) (2.10.6)\n",
      "Requirement already satisfied: tenacity!=8.4.0,<10.0.0,>=8.1.0 in /usr/local/lib/python3.11/dist-packages (from langchain_core) (9.0.0)\n",
      "Requirement already satisfied: typing-extensions>=4.7 in /usr/local/lib/python3.11/dist-packages (from langchain_core) (4.12.2)\n",
      "Requirement already satisfied: jsonpointer>=1.9 in /usr/local/lib/python3.11/dist-packages (from jsonpatch<2.0,>=1.33->langchain_core) (3.0.0)\n",
      "Requirement already satisfied: httpx<1,>=0.23.0 in /usr/local/lib/python3.11/dist-packages (from langsmith<0.4,>=0.1.125->langchain_core) (0.28.1)\n",
      "Requirement already satisfied: orjson<4.0.0,>=3.9.14 in /usr/local/lib/python3.11/dist-packages (from langsmith<0.4,>=0.1.125->langchain_core) (3.10.15)\n",
      "Requirement already satisfied: requests<3,>=2 in /usr/local/lib/python3.11/dist-packages (from langsmith<0.4,>=0.1.125->langchain_core) (2.32.3)\n",
      "Requirement already satisfied: requests-toolbelt<2.0.0,>=1.0.0 in /usr/local/lib/python3.11/dist-packages (from langsmith<0.4,>=0.1.125->langchain_core) (1.0.0)\n",
      "Requirement already satisfied: zstandard<0.24.0,>=0.23.0 in /usr/local/lib/python3.11/dist-packages (from langsmith<0.4,>=0.1.125->langchain_core) (0.23.0)\n",
      "Requirement already satisfied: annotated-types>=0.6.0 in /usr/local/lib/python3.11/dist-packages (from pydantic<3.0.0,>=2.5.2->langchain_core) (0.7.0)\n",
      "Requirement already satisfied: pydantic-core==2.27.2 in /usr/local/lib/python3.11/dist-packages (from pydantic<3.0.0,>=2.5.2->langchain_core) (2.27.2)\n",
      "Requirement already satisfied: anyio in /usr/local/lib/python3.11/dist-packages (from httpx<1,>=0.23.0->langsmith<0.4,>=0.1.125->langchain_core) (3.7.1)\n",
      "Requirement already satisfied: certifi in /usr/local/lib/python3.11/dist-packages (from httpx<1,>=0.23.0->langsmith<0.4,>=0.1.125->langchain_core) (2024.12.14)\n",
      "Requirement already satisfied: httpcore==1.* in /usr/local/lib/python3.11/dist-packages (from httpx<1,>=0.23.0->langsmith<0.4,>=0.1.125->langchain_core) (1.0.7)\n",
      "Requirement already satisfied: idna in /usr/local/lib/python3.11/dist-packages (from httpx<1,>=0.23.0->langsmith<0.4,>=0.1.125->langchain_core) (3.10)\n",
      "Requirement already satisfied: h11<0.15,>=0.13 in /usr/local/lib/python3.11/dist-packages (from httpcore==1.*->httpx<1,>=0.23.0->langsmith<0.4,>=0.1.125->langchain_core) (0.14.0)\n",
      "Requirement already satisfied: charset-normalizer<4,>=2 in /usr/local/lib/python3.11/dist-packages (from requests<3,>=2->langsmith<0.4,>=0.1.125->langchain_core) (3.4.1)\n",
      "Requirement already satisfied: urllib3<3,>=1.21.1 in /usr/local/lib/python3.11/dist-packages (from requests<3,>=2->langsmith<0.4,>=0.1.125->langchain_core) (2.3.0)\n",
      "Requirement already satisfied: sniffio>=1.1 in /usr/local/lib/python3.11/dist-packages (from anyio->httpx<1,>=0.23.0->langsmith<0.4,>=0.1.125->langchain_core) (1.3.1)\n",
      "Requirement already satisfied: beautifulsoup4 in /usr/local/lib/python3.11/dist-packages (4.12.3)\n",
      "Requirement already satisfied: soupsieve>1.2 in /usr/local/lib/python3.11/dist-packages (from beautifulsoup4) (2.6)\n",
      "Collecting faiss-cpu\n",
      "  Downloading faiss_cpu-1.10.0-cp311-cp311-manylinux_2_28_x86_64.whl.metadata (4.4 kB)\n",
      "Requirement already satisfied: numpy<3.0,>=1.25.0 in /usr/local/lib/python3.11/dist-packages (from faiss-cpu) (1.26.4)\n",
      "Requirement already satisfied: packaging in /usr/local/lib/python3.11/dist-packages (from faiss-cpu) (24.2)\n",
      "Downloading faiss_cpu-1.10.0-cp311-cp311-manylinux_2_28_x86_64.whl (30.7 MB)\n",
      "\u001b[2K   \u001b[90m━━━━━━━━━━━━━━━━━━━━━━━━━━━━━━━━━━━━━━━━\u001b[0m \u001b[32m30.7/30.7 MB\u001b[0m \u001b[31m43.4 MB/s\u001b[0m eta \u001b[36m0:00:00\u001b[0m\n",
      "\u001b[?25hInstalling collected packages: faiss-cpu\n",
      "Successfully installed faiss-cpu-1.10.0\n"
     ]
    }
   ],
   "source": [
    "!pip install langchain\n",
    "!pip install langchain_core\n",
    "!pip install beautifulsoup4\n",
    "!pip install faiss-cpu"
   ]
  },
  {
   "cell_type": "code",
   "execution_count": null,
   "metadata": {
    "executionInfo": {
     "elapsed": 2757,
     "status": "ok",
     "timestamp": 1738451868702,
     "user": {
      "displayName": "Charles Wiecha",
      "userId": "08158400620140352840"
     },
     "user_tz": 300
    },
    "id": "h2ui4iDctheI"
   },
   "outputs": [],
   "source": [
    "import getpass\n",
    "import os\n",
    "\n",
    "if not os.environ.get(\"OPENAI_API_KEY\"):\n",
    "  os.environ[\"OPENAI_API_KEY\"] = \"\"\n",
    "\n",
    "from langchain_openai import ChatOpenAI\n",
    "\n",
    "llm = ChatOpenAI(model=\"gpt-4o-mini\")"
   ]
  },
  {
   "cell_type": "code",
   "execution_count": null,
   "metadata": {
    "executionInfo": {
     "elapsed": 177,
     "status": "ok",
     "timestamp": 1738451879295,
     "user": {
      "displayName": "Charles Wiecha",
      "userId": "08158400620140352840"
     },
     "user_tz": 300
    },
    "id": "8xWXXh_1vEYK"
   },
   "outputs": [],
   "source": [
    "from getpass import getpass\n",
    "ACCESS_TOKEN = \"\""
   ]
  },
  {
   "cell_type": "code",
   "execution_count": null,
   "metadata": {
    "executionInfo": {
     "elapsed": 164,
     "status": "ok",
     "timestamp": 1738451880841,
     "user": {
      "displayName": "Charles Wiecha",
      "userId": "08158400620140352840"
     },
     "user_tz": 300
    },
    "id": "FFDdnXeJvOr7"
   },
   "outputs": [],
   "source": [
    "os.environ[\"OPENAI_API_KEY\"] = \"\"\n",
    "os.environ[\"LANGSMITH_TRACING\"] = \"true\"\n",
    "os.environ[\"LANGCHAIN_TRACING_V2\"] = \"true\"\n",
    "os.environ[\"LANGSMITH_ENDPOINT\"] = \"https://api.smith.langchain.com\"\n",
    "os.environ[\"LANGSMITH_API_KEY\"] = \"\"\n",
    "os.environ[\"LANGSMITH_PROJECT\"] = \"capstone_test\""
   ]
  },
  {
   "cell_type": "code",
   "execution_count": null,
   "metadata": {
    "id": "FczEPu_Ku7FW"
   },
   "outputs": [],
   "source": [
    "from langchain.document_loaders import GithubFileLoader\n",
    "\n",
    "loader = GithubFileLoader(\n",
    "    repo=\"\",  # the repo name\n",
    "    access_token=ACCESS_TOKEN,\n",
    "    github_api_url=\"https://api.github.com\",\n",
    "    file_filter=lambda file_path: file_path.endswith(\n",
    "        \".txt\"\n",
    "    ),  # load all text files.\n",
    ")\n",
    "documents = loader.load()"
   ]
  },
  {
   "cell_type": "code",
   "execution_count": null,
   "metadata": {
    "id": "FYelVTVxvU2A"
   },
   "outputs": [],
   "source": [
    "from langchain_openai import ChatOpenAI\n",
    "\n",
    "llm = ChatOpenAI(openai_api_key=\"\")"
   ]
  },
  {
   "cell_type": "code",
   "execution_count": null,
   "metadata": {
    "id": "uosHra27tmiT"
   },
   "outputs": [],
   "source": [
    "from langchain_openai import OpenAIEmbeddings\n",
    "\n",
    "embeddings = OpenAIEmbeddings(openai_api_key=\"\")"
   ]
  },
  {
   "cell_type": "code",
   "execution_count": null,
   "metadata": {
    "id": "1Ywas0ztt3aH"
   },
   "outputs": [],
   "source": [
    "from langchain_community.vectorstores import FAISS\n",
    "from langchain_text_splitters import RecursiveCharacterTextSplitter\n",
    "\n",
    "\n",
    "text_splitter = RecursiveCharacterTextSplitter()\n",
    "documents = text_splitter.split_documents(documents)\n",
    "vector = FAISS.from_documents(documents, embeddings)"
   ]
  },
  {
   "cell_type": "code",
   "execution_count": null,
   "metadata": {
    "colab": {
     "base_uri": "https://localhost:8080/"
    },
    "executionInfo": {
     "elapsed": 38382,
     "status": "ok",
     "timestamp": 1738442779662,
     "user": {
      "displayName": "Charles Wiecha",
      "userId": "08158400620140352840"
     },
     "user_tz": 300
    },
    "id": "bP1Tws0_ngfz",
    "outputId": "0aaf4f3a-8000-4584-d5fc-3d21f3b4dc77"
   },
   "outputs": [
    {
     "name": "stdout",
     "output_type": "stream",
     "text": [
      "TAVILY_API_KEY: ··········\n"
     ]
    }
   ],
   "source": [
    "import getpass\n",
    "import os\n",
    "\n",
    "def _set_env(var: str):\n",
    "    if not os.environ.get(var):\n",
    "        os.environ[var] = getpass.getpass(f\"{var}: \")\n",
    "\n",
    "_set_env(\"TAVILY_API_KEY\")"
   ]
  },
  {
   "cell_type": "code",
   "execution_count": null,
   "metadata": {
    "colab": {
     "base_uri": "https://localhost:8080/",
     "height": 451
    },
    "executionInfo": {
     "elapsed": 162,
     "status": "error",
     "timestamp": 1738442779822,
     "user": {
      "displayName": "Charles Wiecha",
      "userId": "08158400620140352840"
     },
     "user_tz": 300
    },
    "id": "i3Vkku5Ankdb",
    "outputId": "22c28738-9918-4fd5-d918-88545114ee02"
   },
   "outputs": [
    {
     "ename": "ValidationError",
     "evalue": "1 validation error for TavilySearchAPIWrapper\n  Value error, Did not find tavily_api_key, please add an environment variable `TAVILY_API_KEY` which contains it, or pass `tavily_api_key` as a named parameter. [type=value_error, input_value={}, input_type=dict]\n    For further information visit https://errors.pydantic.dev/2.10/v/value_error",
     "output_type": "error",
     "traceback": [
      "\u001b[0;31m---------------------------------------------------------------------------\u001b[0m",
      "\u001b[0;31mValidationError\u001b[0m                           Traceback (most recent call last)",
      "\u001b[0;32m<ipython-input-12-852d874246cf>\u001b[0m in \u001b[0;36m<cell line: 0>\u001b[0;34m()\u001b[0m\n\u001b[1;32m      1\u001b[0m \u001b[0;32mfrom\u001b[0m \u001b[0mlangchain_community\u001b[0m\u001b[0;34m.\u001b[0m\u001b[0mtools\u001b[0m\u001b[0;34m.\u001b[0m\u001b[0mtavily_search\u001b[0m \u001b[0;32mimport\u001b[0m \u001b[0mTavilySearchResults\u001b[0m\u001b[0;34m\u001b[0m\u001b[0;34m\u001b[0m\u001b[0m\n\u001b[1;32m      2\u001b[0m \u001b[0;34m\u001b[0m\u001b[0m\n\u001b[0;32m----> 3\u001b[0;31m \u001b[0mtavily_tool\u001b[0m \u001b[0;34m=\u001b[0m \u001b[0mTavilySearchResults\u001b[0m\u001b[0;34m(\u001b[0m\u001b[0mmax_results\u001b[0m\u001b[0;34m=\u001b[0m\u001b[0;36m2\u001b[0m\u001b[0;34m)\u001b[0m\u001b[0;34m\u001b[0m\u001b[0;34m\u001b[0m\u001b[0m\n\u001b[0m\u001b[1;32m      4\u001b[0m \u001b[0mtools_list\u001b[0m \u001b[0;34m=\u001b[0m \u001b[0;34m[\u001b[0m\u001b[0mtavily_tool\u001b[0m\u001b[0;34m]\u001b[0m\u001b[0;34m\u001b[0m\u001b[0;34m\u001b[0m\u001b[0m\n\u001b[1;32m      5\u001b[0m \u001b[0;31m#tavily_tool.invoke(\"What's a 'node' in LangGraph?\")\u001b[0m\u001b[0;34m\u001b[0m\u001b[0;34m\u001b[0m\u001b[0m\n",
      "\u001b[0;32m/usr/local/lib/python3.11/dist-packages/langchain_core/tools/base.py\u001b[0m in \u001b[0;36m__init__\u001b[0;34m(self, **kwargs)\u001b[0m\n\u001b[1;32m    430\u001b[0m             )\n\u001b[1;32m    431\u001b[0m             \u001b[0;32mraise\u001b[0m \u001b[0mTypeError\u001b[0m\u001b[0;34m(\u001b[0m\u001b[0mmsg\u001b[0m\u001b[0;34m)\u001b[0m\u001b[0;34m\u001b[0m\u001b[0;34m\u001b[0m\u001b[0m\n\u001b[0;32m--> 432\u001b[0;31m         \u001b[0msuper\u001b[0m\u001b[0;34m(\u001b[0m\u001b[0;34m)\u001b[0m\u001b[0;34m.\u001b[0m\u001b[0m__init__\u001b[0m\u001b[0;34m(\u001b[0m\u001b[0;34m**\u001b[0m\u001b[0mkwargs\u001b[0m\u001b[0;34m)\u001b[0m\u001b[0;34m\u001b[0m\u001b[0;34m\u001b[0m\u001b[0m\n\u001b[0m\u001b[1;32m    433\u001b[0m \u001b[0;34m\u001b[0m\u001b[0m\n\u001b[1;32m    434\u001b[0m     model_config = ConfigDict(\n",
      "\u001b[0;32m/usr/local/lib/python3.11/dist-packages/langchain_core/load/serializable.py\u001b[0m in \u001b[0;36m__init__\u001b[0;34m(self, *args, **kwargs)\u001b[0m\n\u001b[1;32m    123\u001b[0m     \u001b[0;32mdef\u001b[0m \u001b[0m__init__\u001b[0m\u001b[0;34m(\u001b[0m\u001b[0mself\u001b[0m\u001b[0;34m,\u001b[0m \u001b[0;34m*\u001b[0m\u001b[0margs\u001b[0m\u001b[0;34m:\u001b[0m \u001b[0mAny\u001b[0m\u001b[0;34m,\u001b[0m \u001b[0;34m**\u001b[0m\u001b[0mkwargs\u001b[0m\u001b[0;34m:\u001b[0m \u001b[0mAny\u001b[0m\u001b[0;34m)\u001b[0m \u001b[0;34m->\u001b[0m \u001b[0;32mNone\u001b[0m\u001b[0;34m:\u001b[0m\u001b[0;34m\u001b[0m\u001b[0;34m\u001b[0m\u001b[0m\n\u001b[1;32m    124\u001b[0m         \u001b[0;34m\"\"\"\"\"\"\u001b[0m\u001b[0;34m\u001b[0m\u001b[0;34m\u001b[0m\u001b[0m\n\u001b[0;32m--> 125\u001b[0;31m         \u001b[0msuper\u001b[0m\u001b[0;34m(\u001b[0m\u001b[0;34m)\u001b[0m\u001b[0;34m.\u001b[0m\u001b[0m__init__\u001b[0m\u001b[0;34m(\u001b[0m\u001b[0;34m*\u001b[0m\u001b[0margs\u001b[0m\u001b[0;34m,\u001b[0m \u001b[0;34m**\u001b[0m\u001b[0mkwargs\u001b[0m\u001b[0;34m)\u001b[0m\u001b[0;34m\u001b[0m\u001b[0;34m\u001b[0m\u001b[0m\n\u001b[0m\u001b[1;32m    126\u001b[0m \u001b[0;34m\u001b[0m\u001b[0m\n\u001b[1;32m    127\u001b[0m     \u001b[0;34m@\u001b[0m\u001b[0mclassmethod\u001b[0m\u001b[0;34m\u001b[0m\u001b[0;34m\u001b[0m\u001b[0m\n",
      "    \u001b[0;31m[... skipping hidden 1 frame]\u001b[0m\n",
      "\u001b[0;32m/usr/local/lib/python3.11/dist-packages/pydantic/main.py\u001b[0m in \u001b[0;36m__init__\u001b[0;34m(self, **data)\u001b[0m\n\u001b[1;32m    212\u001b[0m         \u001b[0;31m# `__tracebackhide__` tells pytest and some other tools to omit this function from tracebacks\u001b[0m\u001b[0;34m\u001b[0m\u001b[0;34m\u001b[0m\u001b[0m\n\u001b[1;32m    213\u001b[0m         \u001b[0m__tracebackhide__\u001b[0m \u001b[0;34m=\u001b[0m \u001b[0;32mTrue\u001b[0m\u001b[0;34m\u001b[0m\u001b[0;34m\u001b[0m\u001b[0m\n\u001b[0;32m--> 214\u001b[0;31m         \u001b[0mvalidated_self\u001b[0m \u001b[0;34m=\u001b[0m \u001b[0mself\u001b[0m\u001b[0;34m.\u001b[0m\u001b[0m__pydantic_validator__\u001b[0m\u001b[0;34m.\u001b[0m\u001b[0mvalidate_python\u001b[0m\u001b[0;34m(\u001b[0m\u001b[0mdata\u001b[0m\u001b[0;34m,\u001b[0m \u001b[0mself_instance\u001b[0m\u001b[0;34m=\u001b[0m\u001b[0mself\u001b[0m\u001b[0;34m)\u001b[0m\u001b[0;34m\u001b[0m\u001b[0;34m\u001b[0m\u001b[0m\n\u001b[0m\u001b[1;32m    215\u001b[0m         \u001b[0;32mif\u001b[0m \u001b[0mself\u001b[0m \u001b[0;32mis\u001b[0m \u001b[0;32mnot\u001b[0m \u001b[0mvalidated_self\u001b[0m\u001b[0;34m:\u001b[0m\u001b[0;34m\u001b[0m\u001b[0;34m\u001b[0m\u001b[0m\n\u001b[1;32m    216\u001b[0m             warnings.warn(\n",
      "\u001b[0;31mValidationError\u001b[0m: 1 validation error for TavilySearchAPIWrapper\n  Value error, Did not find tavily_api_key, please add an environment variable `TAVILY_API_KEY` which contains it, or pass `tavily_api_key` as a named parameter. [type=value_error, input_value={}, input_type=dict]\n    For further information visit https://errors.pydantic.dev/2.10/v/value_error"
     ]
    }
   ],
   "source": [
    "from langchain_community.tools.tavily_search import TavilySearchResults\n",
    "\n",
    "tavily_tool = TavilySearchResults(max_results=2)\n",
    "tools_list = [tavily_tool]\n",
    "#tavily_tool.invoke(\"What's a 'node' in LangGraph?\")\n",
    "\n",
    "llm_with_tools = llm.bind_tools(tools_list)"
   ]
  },
  {
   "cell_type": "code",
   "execution_count": 9,
   "metadata": {
    "executionInfo": {
     "elapsed": 163,
     "status": "ok",
     "timestamp": 1738451894861,
     "user": {
      "displayName": "Charles Wiecha",
      "userId": "08158400620140352840"
     },
     "user_tz": 300
    },
    "id": "U_seeJo5Mqso"
   },
   "outputs": [],
   "source": [
    "\n",
    "from langchain_core.tools import tool\n",
    "\n",
    "@tool(\"input_tool\", return_direct=False)\n",
    "def input_tool(start_date, end_date, from_city, to_city) -> str:\n",
    "  \"\"\"\n",
    "    Use this tool when you need to collect inputs for car rental.\n",
    "    Check that all the inputs are present.  Do not make up these data but ask the user if any are missing.\n",
    "    Return \"inputs\" if some are missing, otherwise \"booking\" if the user can proceed to selecting a car.\n",
    "  \"\"\"\n",
    "\n",
    "  # check for the values we have been given\n",
    "  print(start_date, end_date, from_city, to_city)\n",
    "\n",
    "  if start_date != \"None\" and end_date != \"None\" and from_city != \"None\" and to_city != \"None\":\n",
    "    return {\"status\":\"booking\", \"start_date\": start_date, \"end_date\": end_date, \"from_city\": from_city, \"to_city\": to_city}\n",
    "  else :\n",
    "    return {\"status\":\"inputs\", \"start_date\": start_date, \"end_date\": end_date, \"from_city\": from_city, \"to_city\": to_city}\n",
    "\n",
    "@tool(\"booking_tool\", return_direct=False)\n",
    "def booking_tool(selected_car, start_date, end_date, from_city, to_city) -> str:\n",
    "  \"\"\"\n",
    "    Use this tool when you need to search for available cars to rent given inputs provided by the user.\n",
    "    Return \"confirmed\" if the user has selected a car.\n",
    "  \"\"\"\n",
    "\n",
    "  # check for the values we have been given\n",
    "  print(\"Entering booking_tool with dates and selected car variable \" + str(selected_car))\n",
    "\n",
    "  if selected_car == None or selected_car == \"None\":\n",
    "    return {\"status\":\"booking\", \"selected_car\": \"None\", \"available_cars\": [\"Honda\", \"Toyota\", \"Volvo\"]}\n",
    "  else :\n",
    "    return {\"status\":\"confirmed\", \"selected_car\":selected_car}\n"
   ]
  },
  {
   "cell_type": "code",
   "execution_count": 10,
   "metadata": {
    "executionInfo": {
     "elapsed": 140,
     "status": "ok",
     "timestamp": 1738451897137,
     "user": {
      "displayName": "Charles Wiecha",
      "userId": "08158400620140352840"
     },
     "user_tz": 300
    },
    "id": "YTdtg7Rynp7n"
   },
   "outputs": [],
   "source": [
    "import json\n",
    "\n",
    "from langchain_core.messages import ToolMessage\n",
    "\n",
    "class BasicToolNode:\n",
    "    \"\"\"A node that runs the tools requested in the last AIMessage.\"\"\"\n",
    "\n",
    "    def __init__(self, tools: list) -> None:\n",
    "        self.tools_by_name = {tool.name: tool for tool in tools}\n",
    "\n",
    "    def __call__(self, inputs: dict):\n",
    "        if messages := inputs.get(\"messages\", []):\n",
    "            message = messages[-1]\n",
    "        else:\n",
    "            raise ValueError(\"No message found in input\")\n",
    "        outputs = []\n",
    "        for tool_call in message.tool_calls:\n",
    "            print(\"Calling tool \" + tool_call[\"name\"] + \" with args \" + str(tool_call[\"args\"]))\n",
    "\n",
    "            tool_result = self.tools_by_name[tool_call[\"name\"]].invoke(\n",
    "                tool_call[\"args\"]\n",
    "            )\n",
    "            outputs.append(\n",
    "                ToolMessage(\n",
    "                    content=json.dumps(tool_result),\n",
    "                    name=tool_call[\"name\"],\n",
    "                    tool_call_id=tool_call[\"id\"],\n",
    "                )\n",
    "            )\n",
    "        print( \"Tool return value is \" + str(tool_result) )\n",
    "        return {\"messages\": outputs} | tool_result\n",
    "\n"
   ]
  },
  {
   "cell_type": "code",
   "execution_count": 11,
   "metadata": {
    "executionInfo": {
     "elapsed": 144,
     "status": "ok",
     "timestamp": 1738451898740,
     "user": {
      "displayName": "Charles Wiecha",
      "userId": "08158400620140352840"
     },
     "user_tz": 300
    },
    "id": "Rz-oPKQi9AAa"
   },
   "outputs": [],
   "source": [
    "from langgraph.graph import MessagesState\n",
    "from typing_extensions import List, TypedDict\n",
    "from langgraph.checkpoint.memory import MemorySaver\n",
    "from typing import Annotated\n",
    "from langgraph.graph.message import add_messages\n",
    "from typing import Sequence\n",
    "from langchain_core.messages import BaseMessage\n",
    "from langchain_core.documents import Document\n",
    "\n",
    "class State(TypedDict):\n",
    "    messages: Annotated[Sequence[BaseMessage], add_messages]\n",
    "    available_cars: List[str]\n",
    "    selected_car: str\n",
    "    start_date: str\n",
    "    end_date: str\n",
    "    from_city: str\n",
    "    to_city: str\n",
    "    status: str # one of \"inputs\", \"booking\", or \"confirmed\"\n",
    "\n",
    "# Set up memory\n",
    "memory = MemorySaver()\n"
   ]
  },
  {
   "cell_type": "code",
   "execution_count": 12,
   "metadata": {
    "executionInfo": {
     "elapsed": 93,
     "status": "ok",
     "timestamp": 1738451900500,
     "user": {
      "displayName": "Charles Wiecha",
      "userId": "08158400620140352840"
     },
     "user_tz": 300
    },
    "id": "TY19J6hE46Xg"
   },
   "outputs": [],
   "source": [
    "from langchain_core.prompts import ChatPromptTemplate, MessagesPlaceholder\n",
    "\n",
    "inputs_prompt = ChatPromptTemplate.from_messages(\n",
    "    [\n",
    "        (\"system\", \"You are an assistant for booking car rentals.  Focus on asking the user for their rental start and end dates and also which cities they will drive from and to.  Use the inputs_tool to validate these data.  Do not make up these data but ask for the user to provide them if missing.\"),\n",
    "        MessagesPlaceholder(\"messages\"),\n",
    "        \"Please fill out this form: {start_date}, {end_date}, {from_city}, {to_city}\"\n",
    "    ]\n",
    ")\n",
    "\n",
    "booking_prompt = ChatPromptTemplate.from_messages(\n",
    "    [\n",
    "        (\"system\", \"You are an assistant for booking car rentals. Given rental dates with cities provided by the user help the user select from available cars at those times and cities.  Do not make up the selected_car but use the booking tool to get a list of available cars and ask for the user to select one.\"),\n",
    "        MessagesPlaceholder(\"messages\")\n",
    "    ]\n",
    ")"
   ]
  },
  {
   "cell_type": "code",
   "execution_count": 13,
   "metadata": {
    "executionInfo": {
     "elapsed": 187,
     "status": "ok",
     "timestamp": 1738451902137,
     "user": {
      "displayName": "Charles Wiecha",
      "userId": "08158400620140352840"
     },
     "user_tz": 300
    },
    "id": "Gv0KWTXZWxA6"
   },
   "outputs": [],
   "source": [
    "def route_tools(\n",
    "    state: State,\n",
    "):\n",
    "    \"\"\"\n",
    "    Use in the conditional_edge to route to the ToolNode if the last message\n",
    "    has tool calls. Otherwise, route to the end.\n",
    "    \"\"\"\n",
    "    if isinstance(state, list):\n",
    "        ai_message = state[-1]\n",
    "    elif messages := state.get(\"messages\", []):\n",
    "        ai_message = messages[-1]\n",
    "    else:\n",
    "        raise ValueError(f\"No messages found in input state to tool_edge: {state}\")\n",
    "    if hasattr(ai_message, \"tool_calls\") and len(ai_message.tool_calls) > 0:\n",
    "        return \"tools\"\n",
    "    return END\n",
    "\n",
    "def get_status(state: State):\n",
    "    \"\"\"\n",
    "    Use in the conditional_edge to route based on state.\n",
    "    \"\"\"\n",
    "    return state[\"status\"]"
   ]
  },
  {
   "cell_type": "code",
   "execution_count": 14,
   "metadata": {
    "colab": {
     "base_uri": "https://localhost:8080/"
    },
    "executionInfo": {
     "elapsed": 652,
     "status": "ok",
     "timestamp": 1738451903965,
     "user": {
      "displayName": "Charles Wiecha",
      "userId": "08158400620140352840"
     },
     "user_tz": 300
    },
    "id": "BzxwiuTY52fd",
    "outputId": "9213bfbe-f608-4ae0-9f61-5c3293760c3e"
   },
   "outputs": [
    {
     "name": "stderr",
     "output_type": "stream",
     "text": [
      "WARNING:langchain_community.utils.user_agent:USER_AGENT environment variable not set, consider setting it to identify your requests.\n"
     ]
    }
   ],
   "source": [
    "import bs4\n",
    "from langchain import hub\n",
    "from langchain_community.document_loaders import WebBaseLoader\n",
    "from langchain_core.documents import Document\n",
    "from langchain_text_splitters import RecursiveCharacterTextSplitter\n",
    "from langgraph.graph import START, END, StateGraph\n",
    "from langgraph.graph import MessagesState\n",
    "from typing_extensions import List, TypedDict\n",
    "from langgraph.checkpoint.memory import MemorySaver\n",
    "from typing import Annotated\n",
    "from langgraph.graph.message import add_messages\n",
    "\n",
    "# Define application steps\n",
    "\n",
    "def inputs(state: State):\n",
    "    print(\"Entering inputs node\")\n",
    "    full_prompt = inputs_prompt.invoke(\n",
    "        {\n",
    "         \"start_date\": state.get(\"start_date\", None),\n",
    "         \"end_date\": state.get(\"end_date\", None),\n",
    "         \"from_city\": state.get(\"from_city\", None),\n",
    "         \"to_city\": state.get(\"to_city\", None),\n",
    "         \"messages\" : state[\"messages\"]}\n",
    "        )\n",
    "    llm_with_tools = llm.bind_tools([input_tool])\n",
    "    result = llm_with_tools.invoke(full_prompt)\n",
    "\n",
    "    return {\"messages\": [result]}\n",
    "\n",
    "# Step 1: collect inputs for car rental\n",
    "\n",
    "graph_builder = StateGraph(State).add_node(inputs)\n",
    "\n",
    "graph_builder.add_conditional_edges(\n",
    "    START,\n",
    "    get_status,\n",
    "    {\"inputs\": \"inputs\", \"booking\": \"booking\"}\n",
    ")\n",
    "\n",
    "tool_node = BasicToolNode(tools=[input_tool])\n",
    "graph_builder.add_node(\"input_tool\", tool_node)\n",
    "\n",
    "graph_builder.add_conditional_edges(\n",
    "    \"inputs\",\n",
    "    route_tools,\n",
    "    {\"tools\": \"input_tool\", END: END},\n",
    ")\n",
    "graph_builder.add_edge(\"input_tool\", \"inputs\")\n",
    "\n",
    "# Step 2: search for available cars and make selection\n",
    "\n",
    "def booking(state: State):\n",
    "    print(\"Entering booking node\")\n",
    "    full_prompt = booking_prompt.invoke(\n",
    "        {\n",
    "         \"start_date\": state.get(\"start_date\", None),\n",
    "         \"end_date\": state.get(\"end_date\", None),\n",
    "         \"from_city\": state.get(\"from_city\", None),\n",
    "         \"to_city\": state.get(\"to_city\", None),\n",
    "         \"messages\" : state[\"messages\"]}\n",
    "        )\n",
    "    llm_with_tools = llm.bind_tools([booking_tool])\n",
    "    result = llm_with_tools.invoke(full_prompt)\n",
    "\n",
    "    return {\"messages\": [result]}\n",
    "\n",
    "tool_node = BasicToolNode(tools=[booking_tool])\n",
    "graph_builder.add_node(\"booking_tool\", tool_node)\n",
    "\n",
    "graph_builder.add_node(booking)\n",
    "graph_builder.add_conditional_edges(\n",
    "    \"booking\",\n",
    "    route_tools,\n",
    "    {\"tools\": \"booking_tool\", END: END},\n",
    ")\n",
    "graph_builder.add_edge(\"booking_tool\", \"booking\")\n",
    "\n",
    "graph = graph_builder.compile(checkpointer=memory)"
   ]
  },
  {
   "cell_type": "code",
   "execution_count": 15,
   "metadata": {
    "colab": {
     "base_uri": "https://localhost:8080/",
     "height": 290
    },
    "executionInfo": {
     "elapsed": 1041,
     "status": "ok",
     "timestamp": 1738451906066,
     "user": {
      "displayName": "Charles Wiecha",
      "userId": "08158400620140352840"
     },
     "user_tz": 300
    },
    "id": "M5e6H3ItwRSk",
    "outputId": "8e1e119d-28bf-4cfb-f0c8-cba7a5c67039"
   },
   "outputs": [
    {
     "data": {
      "image/png": "[encoded data removed]",
      "text/plain": [
       "<IPython.core.display.Image object>"
      ]
     },
     "metadata": {},
     "output_type": "display_data"
    }
   ],
   "source": [
    "from IPython.display import Image, display\n",
    "\n",
    "try:\n",
    "    display(Image(graph.get_graph().draw_mermaid_png()))\n",
    "except Exception:\n",
    "    # This requires some extra dependencies and is optional\n",
    "    pass"
   ]
  },
  {
   "cell_type": "code",
   "execution_count": 27,
   "metadata": {
    "colab": {
     "base_uri": "https://localhost:8080/"
    },
    "executionInfo": {
     "elapsed": 2548,
     "status": "ok",
     "timestamp": 1738452338008,
     "user": {
      "displayName": "Charles Wiecha",
      "userId": "08158400620140352840"
     },
     "user_tz": 300
    },
    "id": "Btpi3_pYocCF",
    "outputId": "68ba9bbf-acc7-4196-c24b-231d947b056a"
   },
   "outputs": [
    {
     "name": "stdout",
     "output_type": "stream",
     "text": [
      "================================\u001b[1m Human Message \u001b[0m=================================\n",
      "\n",
      "yes\n",
      "Entering booking node\n",
      "==================================\u001b[1m Ai Message \u001b[0m==================================\n",
      "Tool Calls:\n",
      "  booking_tool (call_5IIICZtoA6WhVwLwbvoUl9kH)\n",
      " Call ID: call_5IIICZtoA6WhVwLwbvoUl9kH\n",
      "  Args:\n",
      "    selected_car: VW\n",
      "    start_date: 2024-02-10\n",
      "    end_date: 2024-02-28\n",
      "    from_city: Boston\n",
      "    to_city: Austin\n",
      "Calling tool booking_tool with args {'selected_car': 'VW', 'start_date': '2024-02-10', 'end_date': '2024-02-28', 'from_city': 'Boston', 'to_city': 'Austin'}\n",
      "Entering booking_tool with dates and selected car variable VW\n",
      "Tool return value is {'status': 'confirmed', 'selected_car': 'VW'}\n",
      "=================================\u001b[1m Tool Message \u001b[0m=================================\n",
      "Name: booking_tool\n",
      "\n",
      "{\"status\": \"confirmed\", \"selected_car\": \"VW\"}\n",
      "Entering booking node\n",
      "==================================\u001b[1m Ai Message \u001b[0m==================================\n",
      "\n",
      "Your VW car rental has been successfully booked from Boston to Austin, with the following details:\n",
      "\n",
      "- **Car Type:** VW\n",
      "- **Start Date:** February 10, 2024\n",
      "- **End Date:** February 28, 2024\n",
      "\n",
      "If you need any further assistance or have any other questions, feel free to ask!\n"
     ]
    }
   ],
   "source": [
    "config = {\"configurable\": {\"thread_id\": \"3\"}}\n",
    "#graph.update_state(config, {\n",
    "#    \"status\": \"inputs\"\n",
    "#    })\n",
    "\n",
    "#user_input = \"I would like to rent a car\"\n",
    "#user_input = \"pick up on Feb 5 and drop off on Feb 10\"\n",
    "#user_input = \"driving from Boston, arriving in Austin\"\n",
    "\n",
    "#user_input = \"I would like to rent a VW car in Boston driving to Austin, leaving on Feb 10\"\n",
    "#user_input = \"The end date is Feb 28 car to be returned in Austin then\"\n",
    "#user_input = \"I will drive from Boston\"\n",
    "user_input = \"yes\"\n",
    "\n",
    "for event in graph.stream({\"messages\": user_input}, config, stream_mode=\"values\"):\n",
    "    event[\"messages\"][-1].pretty_print()\n"
   ]
  },
  {
   "cell_type": "code",
   "execution_count": null,
   "metadata": {
    "id": "qcXhnHfCEU1d"
   },
   "outputs": [],
   "source": []
  },
  {
   "cell_type": "code",
   "execution_count": null,
   "metadata": {
    "colab": {
     "base_uri": "https://localhost:8080/"
    },
    "collapsed": true,
    "executionInfo": {
     "elapsed": 332,
     "status": "ok",
     "timestamp": 1738439273052,
     "user": {
      "displayName": "Charles Wiecha",
      "userId": "08158400620140352840"
     },
     "user_tz": 300
    },
    "id": "Dx5Vqc0RZnof",
    "jupyter": {
     "outputs_hidden": true
    },
    "outputId": "e0283dcc-40c6-46fd-8659-77123523484b"
   },
   "outputs": [
    {
     "data": {
      "text/plain": [
       "[StateSnapshot(values={'messages': [HumanMessage(content='I would like to rent a car', additional_kwargs={}, response_metadata={}, id='49798cbe-549b-4ece-88db-1cdb3600041c'), AIMessage(content='', additional_kwargs={'tool_calls': [{'id': 'call_ivdY1Opold7yt3hHmQObOE1o', 'function': {'arguments': '{\"start_date\":\"None\",\"end_date\":\"None\",\"from_city\":\"None\",\"to_city\":\"None\"}', 'name': 'input_tool'}, 'type': 'function'}], 'refusal': None}, response_metadata={'token_usage': {'completion_tokens': 31, 'prompt_tokens': 201, 'total_tokens': 232, 'completion_tokens_details': {'accepted_prediction_tokens': 0, 'audio_tokens': 0, 'reasoning_tokens': 0, 'rejected_prediction_tokens': 0}, 'prompt_tokens_details': {'audio_tokens': 0, 'cached_tokens': 0}}, 'model_name': 'gpt-3.5-turbo-0125', 'system_fingerprint': None, 'finish_reason': 'tool_calls', 'logprobs': None}, id='run-8a78b369-1ec0-4ab3-8e82-dc36eca87404-0', tool_calls=[{'name': 'input_tool', 'args': {'start_date': 'None', 'end_date': 'None', 'from_city': 'None', 'to_city': 'None'}, 'id': 'call_ivdY1Opold7yt3hHmQObOE1o', 'type': 'tool_call'}], usage_metadata={'input_tokens': 201, 'output_tokens': 31, 'total_tokens': 232, 'input_token_details': {'audio': 0, 'cache_read': 0}, 'output_token_details': {'audio': 0, 'reasoning': 0}}), ToolMessage(content='{\"status\": \"inputs\", \"start_date\": \"None\", \"end_date\": \"None\", \"from_city\": \"None\", \"to_city\": \"None\"}', name='input_tool', id='005803be-a55f-453d-82cc-c48039393d2f', tool_call_id='call_ivdY1Opold7yt3hHmQObOE1o'), AIMessage(content='When would you like to start the car rental, and when will it end? Also, please provide the cities you will be driving from and to.', additional_kwargs={'refusal': None}, response_metadata={'token_usage': {'completion_tokens': 32, 'prompt_tokens': 273, 'total_tokens': 305, 'completion_tokens_details': {'accepted_prediction_tokens': 0, 'audio_tokens': 0, 'reasoning_tokens': 0, 'rejected_prediction_tokens': 0}, 'prompt_tokens_details': {'audio_tokens': 0, 'cached_tokens': 0}}, 'model_name': 'gpt-3.5-turbo-0125', 'system_fingerprint': None, 'finish_reason': 'stop', 'logprobs': None}, id='run-e7d3a979-7ba3-47c2-96fa-9114593f5b94-0', usage_metadata={'input_tokens': 273, 'output_tokens': 32, 'total_tokens': 305, 'input_token_details': {'audio': 0, 'cache_read': 0}, 'output_token_details': {'audio': 0, 'reasoning': 0}}), HumanMessage(content='pick up on Feb 5 and drop off on Feb 10', additional_kwargs={}, response_metadata={}, id='7100d5df-0e35-486c-9c8e-a75cc5d49606'), AIMessage(content='', additional_kwargs={'tool_calls': [{'id': 'call_GyfirsRuOl2ck57ACm51BvF5', 'function': {'arguments': '{\"start_date\": \"Feb 5\", \"end_date\": \"Feb 10\", \"from_city\": \"None\", \"to_city\": \"None\"}', 'name': 'input_tool'}, 'type': 'function'}, {'id': 'call_zOYCYujtIwYeUgtrtZZkY8rx', 'function': {'arguments': '{\"start_date\": \"Feb 5\", \"end_date\": \"Feb 10\", \"from_city\": \"None\", \"to_city\": \"None\"}', 'name': 'input_tool'}, 'type': 'function'}], 'refusal': None}, response_metadata={'token_usage': {'completion_tokens': 84, 'prompt_tokens': 324, 'total_tokens': 408, 'completion_tokens_details': {'accepted_prediction_tokens': 0, 'audio_tokens': 0, 'reasoning_tokens': 0, 'rejected_prediction_tokens': 0}, 'prompt_tokens_details': {'audio_tokens': 0, 'cached_tokens': 0}}, 'model_name': 'gpt-3.5-turbo-0125', 'system_fingerprint': None, 'finish_reason': 'tool_calls', 'logprobs': None}, id='run-58162032-2c88-4e28-b1fa-6f8267d0f8cc-0', tool_calls=[{'name': 'input_tool', 'args': {'start_date': 'Feb 5', 'end_date': 'Feb 10', 'from_city': 'None', 'to_city': 'None'}, 'id': 'call_GyfirsRuOl2ck57ACm51BvF5', 'type': 'tool_call'}, {'name': 'input_tool', 'args': {'start_date': 'Feb 5', 'end_date': 'Feb 10', 'from_city': 'None', 'to_city': 'None'}, 'id': 'call_zOYCYujtIwYeUgtrtZZkY8rx', 'type': 'tool_call'}], usage_metadata={'input_tokens': 324, 'output_tokens': 84, 'total_tokens': 408, 'input_token_details': {'audio': 0, 'cache_read': 0}, 'output_token_details': {'audio': 0, 'reasoning': 0}}), ToolMessage(content='{\"status\": \"inputs\", \"start_date\": \"Feb 5\", \"end_date\": \"Feb 10\", \"from_city\": \"None\", \"to_city\": \"None\"}', name='input_tool', id='45d844aa-451b-4790-962a-f658fb06b782', tool_call_id='call_GyfirsRuOl2ck57ACm51BvF5'), ToolMessage(content='{\"status\": \"inputs\", \"start_date\": \"Feb 5\", \"end_date\": \"Feb 10\", \"from_city\": \"None\", \"to_city\": \"None\"}', name='input_tool', id='542d234b-f636-45c1-bb59-afdae67e4e3e', tool_call_id='call_zOYCYujtIwYeUgtrtZZkY8rx'), AIMessage(content='', additional_kwargs={'tool_calls': [{'id': 'call_pSyCOZD34MaQwYQtxeWd6R6r', 'function': {'arguments': '{\"start_date\":\"Feb 5\",\"end_date\":\"Feb 10\",\"from_city\":\"None\",\"to_city\":\"None\"}', 'name': 'input_tool'}, 'type': 'function'}], 'refusal': None}, response_metadata={'token_usage': {'completion_tokens': 35, 'prompt_tokens': 499, 'total_tokens': 534, 'completion_tokens_details': {'accepted_prediction_tokens': 0, 'audio_tokens': 0, 'reasoning_tokens': 0, 'rejected_prediction_tokens': 0}, 'prompt_tokens_details': {'audio_tokens': 0, 'cached_tokens': 0}}, 'model_name': 'gpt-3.5-turbo-0125', 'system_fingerprint': None, 'finish_reason': 'tool_calls', 'logprobs': None}, id='run-a807f34d-7990-48ae-a5b9-c44ff084ccc7-0', tool_calls=[{'name': 'input_tool', 'args': {'start_date': 'Feb 5', 'end_date': 'Feb 10', 'from_city': 'None', 'to_city': 'None'}, 'id': 'call_pSyCOZD34MaQwYQtxeWd6R6r', 'type': 'tool_call'}], usage_metadata={'input_tokens': 499, 'output_tokens': 35, 'total_tokens': 534, 'input_token_details': {'audio': 0, 'cache_read': 0}, 'output_token_details': {'audio': 0, 'reasoning': 0}}), ToolMessage(content='{\"status\": \"inputs\", \"start_date\": \"Feb 5\", \"end_date\": \"Feb 10\", \"from_city\": \"None\", \"to_city\": \"None\"}', name='input_tool', id='c5cf5423-04e5-43ca-96bb-04507e091b39', tool_call_id='call_pSyCOZD34MaQwYQtxeWd6R6r'), AIMessage(content='Thank you for providing the rental start and end dates. Now, could you please specify the cities you will be driving from and to?', additional_kwargs={'refusal': None}, response_metadata={'token_usage': {'completion_tokens': 29, 'prompt_tokens': 579, 'total_tokens': 608, 'completion_tokens_details': {'accepted_prediction_tokens': 0, 'audio_tokens': 0, 'reasoning_tokens': 0, 'rejected_prediction_tokens': 0}, 'prompt_tokens_details': {'audio_tokens': 0, 'cached_tokens': 0}}, 'model_name': 'gpt-3.5-turbo-0125', 'system_fingerprint': None, 'finish_reason': 'stop', 'logprobs': None}, id='run-41dab068-007f-4463-b5c2-33590e768f19-0', usage_metadata={'input_tokens': 579, 'output_tokens': 29, 'total_tokens': 608, 'input_token_details': {'audio': 0, 'cache_read': 0}, 'output_token_details': {'audio': 0, 'reasoning': 0}}), HumanMessage(content='driving from Boston, arriving in Austin', additional_kwargs={}, response_metadata={}, id='e48b83ad-995c-4515-9cde-71351ac58b31'), AIMessage(content='', additional_kwargs={'tool_calls': [{'id': 'call_CeHm3W5LYMeDwiX6HHfAbEjF', 'function': {'arguments': '{\"start_date\":\"Feb 5\",\"end_date\":\"Feb 10\",\"from_city\":\"Boston\",\"to_city\":\"Austin\"}', 'name': 'input_tool'}, 'type': 'function'}], 'refusal': None}, response_metadata={'token_usage': {'completion_tokens': 35, 'prompt_tokens': 622, 'total_tokens': 657, 'completion_tokens_details': {'accepted_prediction_tokens': 0, 'audio_tokens': 0, 'reasoning_tokens': 0, 'rejected_prediction_tokens': 0}, 'prompt_tokens_details': {'audio_tokens': 0, 'cached_tokens': 0}}, 'model_name': 'gpt-3.5-turbo-0125', 'system_fingerprint': None, 'finish_reason': 'tool_calls', 'logprobs': None}, id='run-4c63e120-8487-4d1c-9800-6308b1ef723b-0', tool_calls=[{'name': 'input_tool', 'args': {'start_date': 'Feb 5', 'end_date': 'Feb 10', 'from_city': 'Boston', 'to_city': 'Austin'}, 'id': 'call_CeHm3W5LYMeDwiX6HHfAbEjF', 'type': 'tool_call'}], usage_metadata={'input_tokens': 622, 'output_tokens': 35, 'total_tokens': 657, 'input_token_details': {'audio': 0, 'cache_read': 0}, 'output_token_details': {'audio': 0, 'reasoning': 0}}), ToolMessage(content='{\"status\": \"booking\", \"start_date\": \"Feb 5\", \"end_date\": \"Feb 10\", \"from_city\": \"Boston\", \"to_city\": \"Austin\"}', name='input_tool', id='0e9e6b60-7563-4b6e-b85e-a2e8df252e7a', tool_call_id='call_CeHm3W5LYMeDwiX6HHfAbEjF'), AIMessage(content=\"I have all the information I need to proceed with booking the car rental. Let's move on to selecting a car.\", additional_kwargs={'refusal': None}, response_metadata={'token_usage': {'completion_tokens': 26, 'prompt_tokens': 702, 'total_tokens': 728, 'completion_tokens_details': {'accepted_prediction_tokens': 0, 'audio_tokens': 0, 'reasoning_tokens': 0, 'rejected_prediction_tokens': 0}, 'prompt_tokens_details': {'audio_tokens': 0, 'cached_tokens': 0}}, 'model_name': 'gpt-3.5-turbo-0125', 'system_fingerprint': None, 'finish_reason': 'stop', 'logprobs': None}, id='run-4e8c0ce4-8691-434e-8896-0bf47fb8639b-0', usage_metadata={'input_tokens': 702, 'output_tokens': 26, 'total_tokens': 728, 'input_token_details': {'audio': 0, 'cache_read': 0}, 'output_token_details': {'audio': 0, 'reasoning': 0}})], 'start_date': 'Feb 5', 'end_date': 'Feb 10', 'from_city': 'Boston', 'to_city': 'Austin', 'status': 'booking'}, next=(), config={'configurable': {'thread_id': '1', 'checkpoint_ns': '', 'checkpoint_id': '1efe0d56-21ef-6d42-8011-3e05e1d4bec8'}}, metadata={'source': 'loop', 'writes': {'inputs': {'messages': [AIMessage(content=\"I have all the information I need to proceed with booking the car rental. Let's move on to selecting a car.\", additional_kwargs={'refusal': None}, response_metadata={'token_usage': {'completion_tokens': 26, 'prompt_tokens': 702, 'total_tokens': 728, 'completion_tokens_details': {'accepted_prediction_tokens': 0, 'audio_tokens': 0, 'reasoning_tokens': 0, 'rejected_prediction_tokens': 0}, 'prompt_tokens_details': {'audio_tokens': 0, 'cached_tokens': 0}}, 'model_name': 'gpt-3.5-turbo-0125', 'system_fingerprint': None, 'finish_reason': 'stop', 'logprobs': None}, id='run-4e8c0ce4-8691-434e-8896-0bf47fb8639b-0', usage_metadata={'input_tokens': 702, 'output_tokens': 26, 'total_tokens': 728, 'input_token_details': {'audio': 0, 'cache_read': 0}, 'output_token_details': {'audio': 0, 'reasoning': 0}})]}}, 'thread_id': '1', 'step': 17, 'parents': {}}, created_at='2025-02-01T19:47:35.062815+00:00', parent_config={'configurable': {'thread_id': '1', 'checkpoint_ns': '', 'checkpoint_id': '1efe0d56-1d2a-6052-8010-21bf1cce3b0c'}}, tasks=()),\n",
       " StateSnapshot(values={'messages': [HumanMessage(content='I would like to rent a car', additional_kwargs={}, response_metadata={}, id='49798cbe-549b-4ece-88db-1cdb3600041c'), AIMessage(content='', additional_kwargs={'tool_calls': [{'id': 'call_ivdY1Opold7yt3hHmQObOE1o', 'function': {'arguments': '{\"start_date\":\"None\",\"end_date\":\"None\",\"from_city\":\"None\",\"to_city\":\"None\"}', 'name': 'input_tool'}, 'type': 'function'}], 'refusal': None}, response_metadata={'token_usage': {'completion_tokens': 31, 'prompt_tokens': 201, 'total_tokens': 232, 'completion_tokens_details': {'accepted_prediction_tokens': 0, 'audio_tokens': 0, 'reasoning_tokens': 0, 'rejected_prediction_tokens': 0}, 'prompt_tokens_details': {'audio_tokens': 0, 'cached_tokens': 0}}, 'model_name': 'gpt-3.5-turbo-0125', 'system_fingerprint': None, 'finish_reason': 'tool_calls', 'logprobs': None}, id='run-8a78b369-1ec0-4ab3-8e82-dc36eca87404-0', tool_calls=[{'name': 'input_tool', 'args': {'start_date': 'None', 'end_date': 'None', 'from_city': 'None', 'to_city': 'None'}, 'id': 'call_ivdY1Opold7yt3hHmQObOE1o', 'type': 'tool_call'}], usage_metadata={'input_tokens': 201, 'output_tokens': 31, 'total_tokens': 232, 'input_token_details': {'audio': 0, 'cache_read': 0}, 'output_token_details': {'audio': 0, 'reasoning': 0}}), ToolMessage(content='{\"status\": \"inputs\", \"start_date\": \"None\", \"end_date\": \"None\", \"from_city\": \"None\", \"to_city\": \"None\"}', name='input_tool', id='005803be-a55f-453d-82cc-c48039393d2f', tool_call_id='call_ivdY1Opold7yt3hHmQObOE1o'), AIMessage(content='When would you like to start the car rental, and when will it end? Also, please provide the cities you will be driving from and to.', additional_kwargs={'refusal': None}, response_metadata={'token_usage': {'completion_tokens': 32, 'prompt_tokens': 273, 'total_tokens': 305, 'completion_tokens_details': {'accepted_prediction_tokens': 0, 'audio_tokens': 0, 'reasoning_tokens': 0, 'rejected_prediction_tokens': 0}, 'prompt_tokens_details': {'audio_tokens': 0, 'cached_tokens': 0}}, 'model_name': 'gpt-3.5-turbo-0125', 'system_fingerprint': None, 'finish_reason': 'stop', 'logprobs': None}, id='run-e7d3a979-7ba3-47c2-96fa-9114593f5b94-0', usage_metadata={'input_tokens': 273, 'output_tokens': 32, 'total_tokens': 305, 'input_token_details': {'audio': 0, 'cache_read': 0}, 'output_token_details': {'audio': 0, 'reasoning': 0}}), HumanMessage(content='pick up on Feb 5 and drop off on Feb 10', additional_kwargs={}, response_metadata={}, id='7100d5df-0e35-486c-9c8e-a75cc5d49606'), AIMessage(content='', additional_kwargs={'tool_calls': [{'id': 'call_GyfirsRuOl2ck57ACm51BvF5', 'function': {'arguments': '{\"start_date\": \"Feb 5\", \"end_date\": \"Feb 10\", \"from_city\": \"None\", \"to_city\": \"None\"}', 'name': 'input_tool'}, 'type': 'function'}, {'id': 'call_zOYCYujtIwYeUgtrtZZkY8rx', 'function': {'arguments': '{\"start_date\": \"Feb 5\", \"end_date\": \"Feb 10\", \"from_city\": \"None\", \"to_city\": \"None\"}', 'name': 'input_tool'}, 'type': 'function'}], 'refusal': None}, response_metadata={'token_usage': {'completion_tokens': 84, 'prompt_tokens': 324, 'total_tokens': 408, 'completion_tokens_details': {'accepted_prediction_tokens': 0, 'audio_tokens': 0, 'reasoning_tokens': 0, 'rejected_prediction_tokens': 0}, 'prompt_tokens_details': {'audio_tokens': 0, 'cached_tokens': 0}}, 'model_name': 'gpt-3.5-turbo-0125', 'system_fingerprint': None, 'finish_reason': 'tool_calls', 'logprobs': None}, id='run-58162032-2c88-4e28-b1fa-6f8267d0f8cc-0', tool_calls=[{'name': 'input_tool', 'args': {'start_date': 'Feb 5', 'end_date': 'Feb 10', 'from_city': 'None', 'to_city': 'None'}, 'id': 'call_GyfirsRuOl2ck57ACm51BvF5', 'type': 'tool_call'}, {'name': 'input_tool', 'args': {'start_date': 'Feb 5', 'end_date': 'Feb 10', 'from_city': 'None', 'to_city': 'None'}, 'id': 'call_zOYCYujtIwYeUgtrtZZkY8rx', 'type': 'tool_call'}], usage_metadata={'input_tokens': 324, 'output_tokens': 84, 'total_tokens': 408, 'input_token_details': {'audio': 0, 'cache_read': 0}, 'output_token_details': {'audio': 0, 'reasoning': 0}}), ToolMessage(content='{\"status\": \"inputs\", \"start_date\": \"Feb 5\", \"end_date\": \"Feb 10\", \"from_city\": \"None\", \"to_city\": \"None\"}', name='input_tool', id='45d844aa-451b-4790-962a-f658fb06b782', tool_call_id='call_GyfirsRuOl2ck57ACm51BvF5'), ToolMessage(content='{\"status\": \"inputs\", \"start_date\": \"Feb 5\", \"end_date\": \"Feb 10\", \"from_city\": \"None\", \"to_city\": \"None\"}', name='input_tool', id='542d234b-f636-45c1-bb59-afdae67e4e3e', tool_call_id='call_zOYCYujtIwYeUgtrtZZkY8rx'), AIMessage(content='', additional_kwargs={'tool_calls': [{'id': 'call_pSyCOZD34MaQwYQtxeWd6R6r', 'function': {'arguments': '{\"start_date\":\"Feb 5\",\"end_date\":\"Feb 10\",\"from_city\":\"None\",\"to_city\":\"None\"}', 'name': 'input_tool'}, 'type': 'function'}], 'refusal': None}, response_metadata={'token_usage': {'completion_tokens': 35, 'prompt_tokens': 499, 'total_tokens': 534, 'completion_tokens_details': {'accepted_prediction_tokens': 0, 'audio_tokens': 0, 'reasoning_tokens': 0, 'rejected_prediction_tokens': 0}, 'prompt_tokens_details': {'audio_tokens': 0, 'cached_tokens': 0}}, 'model_name': 'gpt-3.5-turbo-0125', 'system_fingerprint': None, 'finish_reason': 'tool_calls', 'logprobs': None}, id='run-a807f34d-7990-48ae-a5b9-c44ff084ccc7-0', tool_calls=[{'name': 'input_tool', 'args': {'start_date': 'Feb 5', 'end_date': 'Feb 10', 'from_city': 'None', 'to_city': 'None'}, 'id': 'call_pSyCOZD34MaQwYQtxeWd6R6r', 'type': 'tool_call'}], usage_metadata={'input_tokens': 499, 'output_tokens': 35, 'total_tokens': 534, 'input_token_details': {'audio': 0, 'cache_read': 0}, 'output_token_details': {'audio': 0, 'reasoning': 0}}), ToolMessage(content='{\"status\": \"inputs\", \"start_date\": \"Feb 5\", \"end_date\": \"Feb 10\", \"from_city\": \"None\", \"to_city\": \"None\"}', name='input_tool', id='c5cf5423-04e5-43ca-96bb-04507e091b39', tool_call_id='call_pSyCOZD34MaQwYQtxeWd6R6r'), AIMessage(content='Thank you for providing the rental start and end dates. Now, could you please specify the cities you will be driving from and to?', additional_kwargs={'refusal': None}, response_metadata={'token_usage': {'completion_tokens': 29, 'prompt_tokens': 579, 'total_tokens': 608, 'completion_tokens_details': {'accepted_prediction_tokens': 0, 'audio_tokens': 0, 'reasoning_tokens': 0, 'rejected_prediction_tokens': 0}, 'prompt_tokens_details': {'audio_tokens': 0, 'cached_tokens': 0}}, 'model_name': 'gpt-3.5-turbo-0125', 'system_fingerprint': None, 'finish_reason': 'stop', 'logprobs': None}, id='run-41dab068-007f-4463-b5c2-33590e768f19-0', usage_metadata={'input_tokens': 579, 'output_tokens': 29, 'total_tokens': 608, 'input_token_details': {'audio': 0, 'cache_read': 0}, 'output_token_details': {'audio': 0, 'reasoning': 0}}), HumanMessage(content='driving from Boston, arriving in Austin', additional_kwargs={}, response_metadata={}, id='e48b83ad-995c-4515-9cde-71351ac58b31'), AIMessage(content='', additional_kwargs={'tool_calls': [{'id': 'call_CeHm3W5LYMeDwiX6HHfAbEjF', 'function': {'arguments': '{\"start_date\":\"Feb 5\",\"end_date\":\"Feb 10\",\"from_city\":\"Boston\",\"to_city\":\"Austin\"}', 'name': 'input_tool'}, 'type': 'function'}], 'refusal': None}, response_metadata={'token_usage': {'completion_tokens': 35, 'prompt_tokens': 622, 'total_tokens': 657, 'completion_tokens_details': {'accepted_prediction_tokens': 0, 'audio_tokens': 0, 'reasoning_tokens': 0, 'rejected_prediction_tokens': 0}, 'prompt_tokens_details': {'audio_tokens': 0, 'cached_tokens': 0}}, 'model_name': 'gpt-3.5-turbo-0125', 'system_fingerprint': None, 'finish_reason': 'tool_calls', 'logprobs': None}, id='run-4c63e120-8487-4d1c-9800-6308b1ef723b-0', tool_calls=[{'name': 'input_tool', 'args': {'start_date': 'Feb 5', 'end_date': 'Feb 10', 'from_city': 'Boston', 'to_city': 'Austin'}, 'id': 'call_CeHm3W5LYMeDwiX6HHfAbEjF', 'type': 'tool_call'}], usage_metadata={'input_tokens': 622, 'output_tokens': 35, 'total_tokens': 657, 'input_token_details': {'audio': 0, 'cache_read': 0}, 'output_token_details': {'audio': 0, 'reasoning': 0}}), ToolMessage(content='{\"status\": \"booking\", \"start_date\": \"Feb 5\", \"end_date\": \"Feb 10\", \"from_city\": \"Boston\", \"to_city\": \"Austin\"}', name='input_tool', id='0e9e6b60-7563-4b6e-b85e-a2e8df252e7a', tool_call_id='call_CeHm3W5LYMeDwiX6HHfAbEjF')], 'start_date': 'Feb 5', 'end_date': 'Feb 10', 'from_city': 'Boston', 'to_city': 'Austin', 'status': 'booking'}, next=('inputs',), config={'configurable': {'thread_id': '1', 'checkpoint_ns': '', 'checkpoint_id': '1efe0d56-1d2a-6052-8010-21bf1cce3b0c'}}, metadata={'source': 'loop', 'writes': {'input_tool': {'messages': [ToolMessage(content='{\"status\": \"booking\", \"start_date\": \"Feb 5\", \"end_date\": \"Feb 10\", \"from_city\": \"Boston\", \"to_city\": \"Austin\"}', name='input_tool', id='0e9e6b60-7563-4b6e-b85e-a2e8df252e7a', tool_call_id='call_CeHm3W5LYMeDwiX6HHfAbEjF')], 'status': 'booking', 'start_date': 'Feb 5', 'end_date': 'Feb 10', 'from_city': 'Boston', 'to_city': 'Austin'}}, 'thread_id': '1', 'step': 16, 'parents': {}}, created_at='2025-02-01T19:47:34.562369+00:00', parent_config={'configurable': {'thread_id': '1', 'checkpoint_ns': '', 'checkpoint_id': '1efe0d56-1d1b-63b5-800f-0ceed06665da'}}, tasks=(PregelTask(id='a02a46cd-12c9-5f14-bcfc-a627eafafc02', name='inputs', path=('__pregel_pull', 'inputs'), error=None, interrupts=(), state=None, result={'messages': [AIMessage(content=\"I have all the information I need to proceed with booking the car rental. Let's move on to selecting a car.\", additional_kwargs={'refusal': None}, response_metadata={'token_usage': {'completion_tokens': 26, 'prompt_tokens': 702, 'total_tokens': 728, 'completion_tokens_details': {'accepted_prediction_tokens': 0, 'audio_tokens': 0, 'reasoning_tokens': 0, 'rejected_prediction_tokens': 0}, 'prompt_tokens_details': {'audio_tokens': 0, 'cached_tokens': 0}}, 'model_name': 'gpt-3.5-turbo-0125', 'system_fingerprint': None, 'finish_reason': 'stop', 'logprobs': None}, id='run-4e8c0ce4-8691-434e-8896-0bf47fb8639b-0', usage_metadata={'input_tokens': 702, 'output_tokens': 26, 'total_tokens': 728, 'input_token_details': {'audio': 0, 'cache_read': 0}, 'output_token_details': {'audio': 0, 'reasoning': 0}})]}),)),\n",
       " StateSnapshot(values={'messages': [HumanMessage(content='I would like to rent a car', additional_kwargs={}, response_metadata={}, id='49798cbe-549b-4ece-88db-1cdb3600041c'), AIMessage(content='', additional_kwargs={'tool_calls': [{'id': 'call_ivdY1Opold7yt3hHmQObOE1o', 'function': {'arguments': '{\"start_date\":\"None\",\"end_date\":\"None\",\"from_city\":\"None\",\"to_city\":\"None\"}', 'name': 'input_tool'}, 'type': 'function'}], 'refusal': None}, response_metadata={'token_usage': {'completion_tokens': 31, 'prompt_tokens': 201, 'total_tokens': 232, 'completion_tokens_details': {'accepted_prediction_tokens': 0, 'audio_tokens': 0, 'reasoning_tokens': 0, 'rejected_prediction_tokens': 0}, 'prompt_tokens_details': {'audio_tokens': 0, 'cached_tokens': 0}}, 'model_name': 'gpt-3.5-turbo-0125', 'system_fingerprint': None, 'finish_reason': 'tool_calls', 'logprobs': None}, id='run-8a78b369-1ec0-4ab3-8e82-dc36eca87404-0', tool_calls=[{'name': 'input_tool', 'args': {'start_date': 'None', 'end_date': 'None', 'from_city': 'None', 'to_city': 'None'}, 'id': 'call_ivdY1Opold7yt3hHmQObOE1o', 'type': 'tool_call'}], usage_metadata={'input_tokens': 201, 'output_tokens': 31, 'total_tokens': 232, 'input_token_details': {'audio': 0, 'cache_read': 0}, 'output_token_details': {'audio': 0, 'reasoning': 0}}), ToolMessage(content='{\"status\": \"inputs\", \"start_date\": \"None\", \"end_date\": \"None\", \"from_city\": \"None\", \"to_city\": \"None\"}', name='input_tool', id='005803be-a55f-453d-82cc-c48039393d2f', tool_call_id='call_ivdY1Opold7yt3hHmQObOE1o'), AIMessage(content='When would you like to start the car rental, and when will it end? Also, please provide the cities you will be driving from and to.', additional_kwargs={'refusal': None}, response_metadata={'token_usage': {'completion_tokens': 32, 'prompt_tokens': 273, 'total_tokens': 305, 'completion_tokens_details': {'accepted_prediction_tokens': 0, 'audio_tokens': 0, 'reasoning_tokens': 0, 'rejected_prediction_tokens': 0}, 'prompt_tokens_details': {'audio_tokens': 0, 'cached_tokens': 0}}, 'model_name': 'gpt-3.5-turbo-0125', 'system_fingerprint': None, 'finish_reason': 'stop', 'logprobs': None}, id='run-e7d3a979-7ba3-47c2-96fa-9114593f5b94-0', usage_metadata={'input_tokens': 273, 'output_tokens': 32, 'total_tokens': 305, 'input_token_details': {'audio': 0, 'cache_read': 0}, 'output_token_details': {'audio': 0, 'reasoning': 0}}), HumanMessage(content='pick up on Feb 5 and drop off on Feb 10', additional_kwargs={}, response_metadata={}, id='7100d5df-0e35-486c-9c8e-a75cc5d49606'), AIMessage(content='', additional_kwargs={'tool_calls': [{'id': 'call_GyfirsRuOl2ck57ACm51BvF5', 'function': {'arguments': '{\"start_date\": \"Feb 5\", \"end_date\": \"Feb 10\", \"from_city\": \"None\", \"to_city\": \"None\"}', 'name': 'input_tool'}, 'type': 'function'}, {'id': 'call_zOYCYujtIwYeUgtrtZZkY8rx', 'function': {'arguments': '{\"start_date\": \"Feb 5\", \"end_date\": \"Feb 10\", \"from_city\": \"None\", \"to_city\": \"None\"}', 'name': 'input_tool'}, 'type': 'function'}], 'refusal': None}, response_metadata={'token_usage': {'completion_tokens': 84, 'prompt_tokens': 324, 'total_tokens': 408, 'completion_tokens_details': {'accepted_prediction_tokens': 0, 'audio_tokens': 0, 'reasoning_tokens': 0, 'rejected_prediction_tokens': 0}, 'prompt_tokens_details': {'audio_tokens': 0, 'cached_tokens': 0}}, 'model_name': 'gpt-3.5-turbo-0125', 'system_fingerprint': None, 'finish_reason': 'tool_calls', 'logprobs': None}, id='run-58162032-2c88-4e28-b1fa-6f8267d0f8cc-0', tool_calls=[{'name': 'input_tool', 'args': {'start_date': 'Feb 5', 'end_date': 'Feb 10', 'from_city': 'None', 'to_city': 'None'}, 'id': 'call_GyfirsRuOl2ck57ACm51BvF5', 'type': 'tool_call'}, {'name': 'input_tool', 'args': {'start_date': 'Feb 5', 'end_date': 'Feb 10', 'from_city': 'None', 'to_city': 'None'}, 'id': 'call_zOYCYujtIwYeUgtrtZZkY8rx', 'type': 'tool_call'}], usage_metadata={'input_tokens': 324, 'output_tokens': 84, 'total_tokens': 408, 'input_token_details': {'audio': 0, 'cache_read': 0}, 'output_token_details': {'audio': 0, 'reasoning': 0}}), ToolMessage(content='{\"status\": \"inputs\", \"start_date\": \"Feb 5\", \"end_date\": \"Feb 10\", \"from_city\": \"None\", \"to_city\": \"None\"}', name='input_tool', id='45d844aa-451b-4790-962a-f658fb06b782', tool_call_id='call_GyfirsRuOl2ck57ACm51BvF5'), ToolMessage(content='{\"status\": \"inputs\", \"start_date\": \"Feb 5\", \"end_date\": \"Feb 10\", \"from_city\": \"None\", \"to_city\": \"None\"}', name='input_tool', id='542d234b-f636-45c1-bb59-afdae67e4e3e', tool_call_id='call_zOYCYujtIwYeUgtrtZZkY8rx'), AIMessage(content='', additional_kwargs={'tool_calls': [{'id': 'call_pSyCOZD34MaQwYQtxeWd6R6r', 'function': {'arguments': '{\"start_date\":\"Feb 5\",\"end_date\":\"Feb 10\",\"from_city\":\"None\",\"to_city\":\"None\"}', 'name': 'input_tool'}, 'type': 'function'}], 'refusal': None}, response_metadata={'token_usage': {'completion_tokens': 35, 'prompt_tokens': 499, 'total_tokens': 534, 'completion_tokens_details': {'accepted_prediction_tokens': 0, 'audio_tokens': 0, 'reasoning_tokens': 0, 'rejected_prediction_tokens': 0}, 'prompt_tokens_details': {'audio_tokens': 0, 'cached_tokens': 0}}, 'model_name': 'gpt-3.5-turbo-0125', 'system_fingerprint': None, 'finish_reason': 'tool_calls', 'logprobs': None}, id='run-a807f34d-7990-48ae-a5b9-c44ff084ccc7-0', tool_calls=[{'name': 'input_tool', 'args': {'start_date': 'Feb 5', 'end_date': 'Feb 10', 'from_city': 'None', 'to_city': 'None'}, 'id': 'call_pSyCOZD34MaQwYQtxeWd6R6r', 'type': 'tool_call'}], usage_metadata={'input_tokens': 499, 'output_tokens': 35, 'total_tokens': 534, 'input_token_details': {'audio': 0, 'cache_read': 0}, 'output_token_details': {'audio': 0, 'reasoning': 0}}), ToolMessage(content='{\"status\": \"inputs\", \"start_date\": \"Feb 5\", \"end_date\": \"Feb 10\", \"from_city\": \"None\", \"to_city\": \"None\"}', name='input_tool', id='c5cf5423-04e5-43ca-96bb-04507e091b39', tool_call_id='call_pSyCOZD34MaQwYQtxeWd6R6r'), AIMessage(content='Thank you for providing the rental start and end dates. Now, could you please specify the cities you will be driving from and to?', additional_kwargs={'refusal': None}, response_metadata={'token_usage': {'completion_tokens': 29, 'prompt_tokens': 579, 'total_tokens': 608, 'completion_tokens_details': {'accepted_prediction_tokens': 0, 'audio_tokens': 0, 'reasoning_tokens': 0, 'rejected_prediction_tokens': 0}, 'prompt_tokens_details': {'audio_tokens': 0, 'cached_tokens': 0}}, 'model_name': 'gpt-3.5-turbo-0125', 'system_fingerprint': None, 'finish_reason': 'stop', 'logprobs': None}, id='run-41dab068-007f-4463-b5c2-33590e768f19-0', usage_metadata={'input_tokens': 579, 'output_tokens': 29, 'total_tokens': 608, 'input_token_details': {'audio': 0, 'cache_read': 0}, 'output_token_details': {'audio': 0, 'reasoning': 0}}), HumanMessage(content='driving from Boston, arriving in Austin', additional_kwargs={}, response_metadata={}, id='e48b83ad-995c-4515-9cde-71351ac58b31'), AIMessage(content='', additional_kwargs={'tool_calls': [{'id': 'call_CeHm3W5LYMeDwiX6HHfAbEjF', 'function': {'arguments': '{\"start_date\":\"Feb 5\",\"end_date\":\"Feb 10\",\"from_city\":\"Boston\",\"to_city\":\"Austin\"}', 'name': 'input_tool'}, 'type': 'function'}], 'refusal': None}, response_metadata={'token_usage': {'completion_tokens': 35, 'prompt_tokens': 622, 'total_tokens': 657, 'completion_tokens_details': {'accepted_prediction_tokens': 0, 'audio_tokens': 0, 'reasoning_tokens': 0, 'rejected_prediction_tokens': 0}, 'prompt_tokens_details': {'audio_tokens': 0, 'cached_tokens': 0}}, 'model_name': 'gpt-3.5-turbo-0125', 'system_fingerprint': None, 'finish_reason': 'tool_calls', 'logprobs': None}, id='run-4c63e120-8487-4d1c-9800-6308b1ef723b-0', tool_calls=[{'name': 'input_tool', 'args': {'start_date': 'Feb 5', 'end_date': 'Feb 10', 'from_city': 'Boston', 'to_city': 'Austin'}, 'id': 'call_CeHm3W5LYMeDwiX6HHfAbEjF', 'type': 'tool_call'}], usage_metadata={'input_tokens': 622, 'output_tokens': 35, 'total_tokens': 657, 'input_token_details': {'audio': 0, 'cache_read': 0}, 'output_token_details': {'audio': 0, 'reasoning': 0}})], 'start_date': 'Feb 5', 'end_date': 'Feb 10', 'from_city': 'None', 'to_city': 'None', 'status': 'inputs'}, next=('input_tool',), config={'configurable': {'thread_id': '1', 'checkpoint_ns': '', 'checkpoint_id': '1efe0d56-1d1b-63b5-800f-0ceed06665da'}}, metadata={'source': 'loop', 'writes': {'inputs': {'messages': [AIMessage(content='', additional_kwargs={'tool_calls': [{'id': 'call_CeHm3W5LYMeDwiX6HHfAbEjF', 'function': {'arguments': '{\"start_date\":\"Feb 5\",\"end_date\":\"Feb 10\",\"from_city\":\"Boston\",\"to_city\":\"Austin\"}', 'name': 'input_tool'}, 'type': 'function'}], 'refusal': None}, response_metadata={'token_usage': {'completion_tokens': 35, 'prompt_tokens': 622, 'total_tokens': 657, 'completion_tokens_details': {'accepted_prediction_tokens': 0, 'audio_tokens': 0, 'reasoning_tokens': 0, 'rejected_prediction_tokens': 0}, 'prompt_tokens_details': {'audio_tokens': 0, 'cached_tokens': 0}}, 'model_name': 'gpt-3.5-turbo-0125', 'system_fingerprint': None, 'finish_reason': 'tool_calls', 'logprobs': None}, id='run-4c63e120-8487-4d1c-9800-6308b1ef723b-0', tool_calls=[{'name': 'input_tool', 'args': {'start_date': 'Feb 5', 'end_date': 'Feb 10', 'from_city': 'Boston', 'to_city': 'Austin'}, 'id': 'call_CeHm3W5LYMeDwiX6HHfAbEjF', 'type': 'tool_call'}], usage_metadata={'input_tokens': 622, 'output_tokens': 35, 'total_tokens': 657, 'input_token_details': {'audio': 0, 'cache_read': 0}, 'output_token_details': {'audio': 0, 'reasoning': 0}})]}}, 'thread_id': '1', 'step': 15, 'parents': {}}, created_at='2025-02-01T19:47:34.556313+00:00', parent_config={'configurable': {'thread_id': '1', 'checkpoint_ns': '', 'checkpoint_id': '1efe0d56-165d-6f8a-800e-62976508996a'}}, tasks=(PregelTask(id='2099a398-7f41-3031-129b-5ecba557e66a', name='input_tool', path=('__pregel_pull', 'input_tool'), error=None, interrupts=(), state=None, result={'messages': [ToolMessage(content='{\"status\": \"booking\", \"start_date\": \"Feb 5\", \"end_date\": \"Feb 10\", \"from_city\": \"Boston\", \"to_city\": \"Austin\"}', name='input_tool', id='0e9e6b60-7563-4b6e-b85e-a2e8df252e7a', tool_call_id='call_CeHm3W5LYMeDwiX6HHfAbEjF')], 'status': 'booking', 'start_date': 'Feb 5', 'end_date': 'Feb 10', 'from_city': 'Boston', 'to_city': 'Austin'}),)),\n",
       " StateSnapshot(values={'messages': [HumanMessage(content='I would like to rent a car', additional_kwargs={}, response_metadata={}, id='49798cbe-549b-4ece-88db-1cdb3600041c'), AIMessage(content='', additional_kwargs={'tool_calls': [{'id': 'call_ivdY1Opold7yt3hHmQObOE1o', 'function': {'arguments': '{\"start_date\":\"None\",\"end_date\":\"None\",\"from_city\":\"None\",\"to_city\":\"None\"}', 'name': 'input_tool'}, 'type': 'function'}], 'refusal': None}, response_metadata={'token_usage': {'completion_tokens': 31, 'prompt_tokens': 201, 'total_tokens': 232, 'completion_tokens_details': {'accepted_prediction_tokens': 0, 'audio_tokens': 0, 'reasoning_tokens': 0, 'rejected_prediction_tokens': 0}, 'prompt_tokens_details': {'audio_tokens': 0, 'cached_tokens': 0}}, 'model_name': 'gpt-3.5-turbo-0125', 'system_fingerprint': None, 'finish_reason': 'tool_calls', 'logprobs': None}, id='run-8a78b369-1ec0-4ab3-8e82-dc36eca87404-0', tool_calls=[{'name': 'input_tool', 'args': {'start_date': 'None', 'end_date': 'None', 'from_city': 'None', 'to_city': 'None'}, 'id': 'call_ivdY1Opold7yt3hHmQObOE1o', 'type': 'tool_call'}], usage_metadata={'input_tokens': 201, 'output_tokens': 31, 'total_tokens': 232, 'input_token_details': {'audio': 0, 'cache_read': 0}, 'output_token_details': {'audio': 0, 'reasoning': 0}}), ToolMessage(content='{\"status\": \"inputs\", \"start_date\": \"None\", \"end_date\": \"None\", \"from_city\": \"None\", \"to_city\": \"None\"}', name='input_tool', id='005803be-a55f-453d-82cc-c48039393d2f', tool_call_id='call_ivdY1Opold7yt3hHmQObOE1o'), AIMessage(content='When would you like to start the car rental, and when will it end? Also, please provide the cities you will be driving from and to.', additional_kwargs={'refusal': None}, response_metadata={'token_usage': {'completion_tokens': 32, 'prompt_tokens': 273, 'total_tokens': 305, 'completion_tokens_details': {'accepted_prediction_tokens': 0, 'audio_tokens': 0, 'reasoning_tokens': 0, 'rejected_prediction_tokens': 0}, 'prompt_tokens_details': {'audio_tokens': 0, 'cached_tokens': 0}}, 'model_name': 'gpt-3.5-turbo-0125', 'system_fingerprint': None, 'finish_reason': 'stop', 'logprobs': None}, id='run-e7d3a979-7ba3-47c2-96fa-9114593f5b94-0', usage_metadata={'input_tokens': 273, 'output_tokens': 32, 'total_tokens': 305, 'input_token_details': {'audio': 0, 'cache_read': 0}, 'output_token_details': {'audio': 0, 'reasoning': 0}}), HumanMessage(content='pick up on Feb 5 and drop off on Feb 10', additional_kwargs={}, response_metadata={}, id='7100d5df-0e35-486c-9c8e-a75cc5d49606'), AIMessage(content='', additional_kwargs={'tool_calls': [{'id': 'call_GyfirsRuOl2ck57ACm51BvF5', 'function': {'arguments': '{\"start_date\": \"Feb 5\", \"end_date\": \"Feb 10\", \"from_city\": \"None\", \"to_city\": \"None\"}', 'name': 'input_tool'}, 'type': 'function'}, {'id': 'call_zOYCYujtIwYeUgtrtZZkY8rx', 'function': {'arguments': '{\"start_date\": \"Feb 5\", \"end_date\": \"Feb 10\", \"from_city\": \"None\", \"to_city\": \"None\"}', 'name': 'input_tool'}, 'type': 'function'}], 'refusal': None}, response_metadata={'token_usage': {'completion_tokens': 84, 'prompt_tokens': 324, 'total_tokens': 408, 'completion_tokens_details': {'accepted_prediction_tokens': 0, 'audio_tokens': 0, 'reasoning_tokens': 0, 'rejected_prediction_tokens': 0}, 'prompt_tokens_details': {'audio_tokens': 0, 'cached_tokens': 0}}, 'model_name': 'gpt-3.5-turbo-0125', 'system_fingerprint': None, 'finish_reason': 'tool_calls', 'logprobs': None}, id='run-58162032-2c88-4e28-b1fa-6f8267d0f8cc-0', tool_calls=[{'name': 'input_tool', 'args': {'start_date': 'Feb 5', 'end_date': 'Feb 10', 'from_city': 'None', 'to_city': 'None'}, 'id': 'call_GyfirsRuOl2ck57ACm51BvF5', 'type': 'tool_call'}, {'name': 'input_tool', 'args': {'start_date': 'Feb 5', 'end_date': 'Feb 10', 'from_city': 'None', 'to_city': 'None'}, 'id': 'call_zOYCYujtIwYeUgtrtZZkY8rx', 'type': 'tool_call'}], usage_metadata={'input_tokens': 324, 'output_tokens': 84, 'total_tokens': 408, 'input_token_details': {'audio': 0, 'cache_read': 0}, 'output_token_details': {'audio': 0, 'reasoning': 0}}), ToolMessage(content='{\"status\": \"inputs\", \"start_date\": \"Feb 5\", \"end_date\": \"Feb 10\", \"from_city\": \"None\", \"to_city\": \"None\"}', name='input_tool', id='45d844aa-451b-4790-962a-f658fb06b782', tool_call_id='call_GyfirsRuOl2ck57ACm51BvF5'), ToolMessage(content='{\"status\": \"inputs\", \"start_date\": \"Feb 5\", \"end_date\": \"Feb 10\", \"from_city\": \"None\", \"to_city\": \"None\"}', name='input_tool', id='542d234b-f636-45c1-bb59-afdae67e4e3e', tool_call_id='call_zOYCYujtIwYeUgtrtZZkY8rx'), AIMessage(content='', additional_kwargs={'tool_calls': [{'id': 'call_pSyCOZD34MaQwYQtxeWd6R6r', 'function': {'arguments': '{\"start_date\":\"Feb 5\",\"end_date\":\"Feb 10\",\"from_city\":\"None\",\"to_city\":\"None\"}', 'name': 'input_tool'}, 'type': 'function'}], 'refusal': None}, response_metadata={'token_usage': {'completion_tokens': 35, 'prompt_tokens': 499, 'total_tokens': 534, 'completion_tokens_details': {'accepted_prediction_tokens': 0, 'audio_tokens': 0, 'reasoning_tokens': 0, 'rejected_prediction_tokens': 0}, 'prompt_tokens_details': {'audio_tokens': 0, 'cached_tokens': 0}}, 'model_name': 'gpt-3.5-turbo-0125', 'system_fingerprint': None, 'finish_reason': 'tool_calls', 'logprobs': None}, id='run-a807f34d-7990-48ae-a5b9-c44ff084ccc7-0', tool_calls=[{'name': 'input_tool', 'args': {'start_date': 'Feb 5', 'end_date': 'Feb 10', 'from_city': 'None', 'to_city': 'None'}, 'id': 'call_pSyCOZD34MaQwYQtxeWd6R6r', 'type': 'tool_call'}], usage_metadata={'input_tokens': 499, 'output_tokens': 35, 'total_tokens': 534, 'input_token_details': {'audio': 0, 'cache_read': 0}, 'output_token_details': {'audio': 0, 'reasoning': 0}}), ToolMessage(content='{\"status\": \"inputs\", \"start_date\": \"Feb 5\", \"end_date\": \"Feb 10\", \"from_city\": \"None\", \"to_city\": \"None\"}', name='input_tool', id='c5cf5423-04e5-43ca-96bb-04507e091b39', tool_call_id='call_pSyCOZD34MaQwYQtxeWd6R6r'), AIMessage(content='Thank you for providing the rental start and end dates. Now, could you please specify the cities you will be driving from and to?', additional_kwargs={'refusal': None}, response_metadata={'token_usage': {'completion_tokens': 29, 'prompt_tokens': 579, 'total_tokens': 608, 'completion_tokens_details': {'accepted_prediction_tokens': 0, 'audio_tokens': 0, 'reasoning_tokens': 0, 'rejected_prediction_tokens': 0}, 'prompt_tokens_details': {'audio_tokens': 0, 'cached_tokens': 0}}, 'model_name': 'gpt-3.5-turbo-0125', 'system_fingerprint': None, 'finish_reason': 'stop', 'logprobs': None}, id='run-41dab068-007f-4463-b5c2-33590e768f19-0', usage_metadata={'input_tokens': 579, 'output_tokens': 29, 'total_tokens': 608, 'input_token_details': {'audio': 0, 'cache_read': 0}, 'output_token_details': {'audio': 0, 'reasoning': 0}}), HumanMessage(content='driving from Boston, arriving in Austin', additional_kwargs={}, response_metadata={}, id='e48b83ad-995c-4515-9cde-71351ac58b31')], 'start_date': 'Feb 5', 'end_date': 'Feb 10', 'from_city': 'None', 'to_city': 'None', 'status': 'inputs'}, next=('inputs',), config={'configurable': {'thread_id': '1', 'checkpoint_ns': '', 'checkpoint_id': '1efe0d56-165d-6f8a-800e-62976508996a'}}, metadata={'source': 'loop', 'writes': None, 'thread_id': '1', 'step': 14, 'parents': {}}, created_at='2025-02-01T19:47:33.849653+00:00', parent_config={'configurable': {'thread_id': '1', 'checkpoint_ns': '', 'checkpoint_id': '1efe0d56-1657-619d-800d-ec83ae8c6a99'}}, tasks=(PregelTask(id='2ff7b9f5-e62c-5fee-9648-da0284c3bfe4', name='inputs', path=('__pregel_pull', 'inputs'), error=None, interrupts=(), state=None, result={'messages': [AIMessage(content='', additional_kwargs={'tool_calls': [{'id': 'call_CeHm3W5LYMeDwiX6HHfAbEjF', 'function': {'arguments': '{\"start_date\":\"Feb 5\",\"end_date\":\"Feb 10\",\"from_city\":\"Boston\",\"to_city\":\"Austin\"}', 'name': 'input_tool'}, 'type': 'function'}], 'refusal': None}, response_metadata={'token_usage': {'completion_tokens': 35, 'prompt_tokens': 622, 'total_tokens': 657, 'completion_tokens_details': {'accepted_prediction_tokens': 0, 'audio_tokens': 0, 'reasoning_tokens': 0, 'rejected_prediction_tokens': 0}, 'prompt_tokens_details': {'audio_tokens': 0, 'cached_tokens': 0}}, 'model_name': 'gpt-3.5-turbo-0125', 'system_fingerprint': None, 'finish_reason': 'tool_calls', 'logprobs': None}, id='run-4c63e120-8487-4d1c-9800-6308b1ef723b-0', tool_calls=[{'name': 'input_tool', 'args': {'start_date': 'Feb 5', 'end_date': 'Feb 10', 'from_city': 'Boston', 'to_city': 'Austin'}, 'id': 'call_CeHm3W5LYMeDwiX6HHfAbEjF', 'type': 'tool_call'}], usage_metadata={'input_tokens': 622, 'output_tokens': 35, 'total_tokens': 657, 'input_token_details': {'audio': 0, 'cache_read': 0}, 'output_token_details': {'audio': 0, 'reasoning': 0}})]}),)),\n",
       " StateSnapshot(values={'messages': [HumanMessage(content='I would like to rent a car', additional_kwargs={}, response_metadata={}, id='49798cbe-549b-4ece-88db-1cdb3600041c'), AIMessage(content='', additional_kwargs={'tool_calls': [{'id': 'call_ivdY1Opold7yt3hHmQObOE1o', 'function': {'arguments': '{\"start_date\":\"None\",\"end_date\":\"None\",\"from_city\":\"None\",\"to_city\":\"None\"}', 'name': 'input_tool'}, 'type': 'function'}], 'refusal': None}, response_metadata={'token_usage': {'completion_tokens': 31, 'prompt_tokens': 201, 'total_tokens': 232, 'completion_tokens_details': {'accepted_prediction_tokens': 0, 'audio_tokens': 0, 'reasoning_tokens': 0, 'rejected_prediction_tokens': 0}, 'prompt_tokens_details': {'audio_tokens': 0, 'cached_tokens': 0}}, 'model_name': 'gpt-3.5-turbo-0125', 'system_fingerprint': None, 'finish_reason': 'tool_calls', 'logprobs': None}, id='run-8a78b369-1ec0-4ab3-8e82-dc36eca87404-0', tool_calls=[{'name': 'input_tool', 'args': {'start_date': 'None', 'end_date': 'None', 'from_city': 'None', 'to_city': 'None'}, 'id': 'call_ivdY1Opold7yt3hHmQObOE1o', 'type': 'tool_call'}], usage_metadata={'input_tokens': 201, 'output_tokens': 31, 'total_tokens': 232, 'input_token_details': {'audio': 0, 'cache_read': 0}, 'output_token_details': {'audio': 0, 'reasoning': 0}}), ToolMessage(content='{\"status\": \"inputs\", \"start_date\": \"None\", \"end_date\": \"None\", \"from_city\": \"None\", \"to_city\": \"None\"}', name='input_tool', id='005803be-a55f-453d-82cc-c48039393d2f', tool_call_id='call_ivdY1Opold7yt3hHmQObOE1o'), AIMessage(content='When would you like to start the car rental, and when will it end? Also, please provide the cities you will be driving from and to.', additional_kwargs={'refusal': None}, response_metadata={'token_usage': {'completion_tokens': 32, 'prompt_tokens': 273, 'total_tokens': 305, 'completion_tokens_details': {'accepted_prediction_tokens': 0, 'audio_tokens': 0, 'reasoning_tokens': 0, 'rejected_prediction_tokens': 0}, 'prompt_tokens_details': {'audio_tokens': 0, 'cached_tokens': 0}}, 'model_name': 'gpt-3.5-turbo-0125', 'system_fingerprint': None, 'finish_reason': 'stop', 'logprobs': None}, id='run-e7d3a979-7ba3-47c2-96fa-9114593f5b94-0', usage_metadata={'input_tokens': 273, 'output_tokens': 32, 'total_tokens': 305, 'input_token_details': {'audio': 0, 'cache_read': 0}, 'output_token_details': {'audio': 0, 'reasoning': 0}}), HumanMessage(content='pick up on Feb 5 and drop off on Feb 10', additional_kwargs={}, response_metadata={}, id='7100d5df-0e35-486c-9c8e-a75cc5d49606'), AIMessage(content='', additional_kwargs={'tool_calls': [{'id': 'call_GyfirsRuOl2ck57ACm51BvF5', 'function': {'arguments': '{\"start_date\": \"Feb 5\", \"end_date\": \"Feb 10\", \"from_city\": \"None\", \"to_city\": \"None\"}', 'name': 'input_tool'}, 'type': 'function'}, {'id': 'call_zOYCYujtIwYeUgtrtZZkY8rx', 'function': {'arguments': '{\"start_date\": \"Feb 5\", \"end_date\": \"Feb 10\", \"from_city\": \"None\", \"to_city\": \"None\"}', 'name': 'input_tool'}, 'type': 'function'}], 'refusal': None}, response_metadata={'token_usage': {'completion_tokens': 84, 'prompt_tokens': 324, 'total_tokens': 408, 'completion_tokens_details': {'accepted_prediction_tokens': 0, 'audio_tokens': 0, 'reasoning_tokens': 0, 'rejected_prediction_tokens': 0}, 'prompt_tokens_details': {'audio_tokens': 0, 'cached_tokens': 0}}, 'model_name': 'gpt-3.5-turbo-0125', 'system_fingerprint': None, 'finish_reason': 'tool_calls', 'logprobs': None}, id='run-58162032-2c88-4e28-b1fa-6f8267d0f8cc-0', tool_calls=[{'name': 'input_tool', 'args': {'start_date': 'Feb 5', 'end_date': 'Feb 10', 'from_city': 'None', 'to_city': 'None'}, 'id': 'call_GyfirsRuOl2ck57ACm51BvF5', 'type': 'tool_call'}, {'name': 'input_tool', 'args': {'start_date': 'Feb 5', 'end_date': 'Feb 10', 'from_city': 'None', 'to_city': 'None'}, 'id': 'call_zOYCYujtIwYeUgtrtZZkY8rx', 'type': 'tool_call'}], usage_metadata={'input_tokens': 324, 'output_tokens': 84, 'total_tokens': 408, 'input_token_details': {'audio': 0, 'cache_read': 0}, 'output_token_details': {'audio': 0, 'reasoning': 0}}), ToolMessage(content='{\"status\": \"inputs\", \"start_date\": \"Feb 5\", \"end_date\": \"Feb 10\", \"from_city\": \"None\", \"to_city\": \"None\"}', name='input_tool', id='45d844aa-451b-4790-962a-f658fb06b782', tool_call_id='call_GyfirsRuOl2ck57ACm51BvF5'), ToolMessage(content='{\"status\": \"inputs\", \"start_date\": \"Feb 5\", \"end_date\": \"Feb 10\", \"from_city\": \"None\", \"to_city\": \"None\"}', name='input_tool', id='542d234b-f636-45c1-bb59-afdae67e4e3e', tool_call_id='call_zOYCYujtIwYeUgtrtZZkY8rx'), AIMessage(content='', additional_kwargs={'tool_calls': [{'id': 'call_pSyCOZD34MaQwYQtxeWd6R6r', 'function': {'arguments': '{\"start_date\":\"Feb 5\",\"end_date\":\"Feb 10\",\"from_city\":\"None\",\"to_city\":\"None\"}', 'name': 'input_tool'}, 'type': 'function'}], 'refusal': None}, response_metadata={'token_usage': {'completion_tokens': 35, 'prompt_tokens': 499, 'total_tokens': 534, 'completion_tokens_details': {'accepted_prediction_tokens': 0, 'audio_tokens': 0, 'reasoning_tokens': 0, 'rejected_prediction_tokens': 0}, 'prompt_tokens_details': {'audio_tokens': 0, 'cached_tokens': 0}}, 'model_name': 'gpt-3.5-turbo-0125', 'system_fingerprint': None, 'finish_reason': 'tool_calls', 'logprobs': None}, id='run-a807f34d-7990-48ae-a5b9-c44ff084ccc7-0', tool_calls=[{'name': 'input_tool', 'args': {'start_date': 'Feb 5', 'end_date': 'Feb 10', 'from_city': 'None', 'to_city': 'None'}, 'id': 'call_pSyCOZD34MaQwYQtxeWd6R6r', 'type': 'tool_call'}], usage_metadata={'input_tokens': 499, 'output_tokens': 35, 'total_tokens': 534, 'input_token_details': {'audio': 0, 'cache_read': 0}, 'output_token_details': {'audio': 0, 'reasoning': 0}}), ToolMessage(content='{\"status\": \"inputs\", \"start_date\": \"Feb 5\", \"end_date\": \"Feb 10\", \"from_city\": \"None\", \"to_city\": \"None\"}', name='input_tool', id='c5cf5423-04e5-43ca-96bb-04507e091b39', tool_call_id='call_pSyCOZD34MaQwYQtxeWd6R6r'), AIMessage(content='Thank you for providing the rental start and end dates. Now, could you please specify the cities you will be driving from and to?', additional_kwargs={'refusal': None}, response_metadata={'token_usage': {'completion_tokens': 29, 'prompt_tokens': 579, 'total_tokens': 608, 'completion_tokens_details': {'accepted_prediction_tokens': 0, 'audio_tokens': 0, 'reasoning_tokens': 0, 'rejected_prediction_tokens': 0}, 'prompt_tokens_details': {'audio_tokens': 0, 'cached_tokens': 0}}, 'model_name': 'gpt-3.5-turbo-0125', 'system_fingerprint': None, 'finish_reason': 'stop', 'logprobs': None}, id='run-41dab068-007f-4463-b5c2-33590e768f19-0', usage_metadata={'input_tokens': 579, 'output_tokens': 29, 'total_tokens': 608, 'input_token_details': {'audio': 0, 'cache_read': 0}, 'output_token_details': {'audio': 0, 'reasoning': 0}})], 'start_date': 'Feb 5', 'end_date': 'Feb 10', 'from_city': 'None', 'to_city': 'None', 'status': 'inputs'}, next=('__start__',), config={'configurable': {'thread_id': '1', 'checkpoint_ns': '', 'checkpoint_id': '1efe0d56-1657-619d-800d-ec83ae8c6a99'}}, metadata={'source': 'input', 'writes': {'__start__': {'messages': 'driving from Boston, arriving in Austin'}}, 'thread_id': '1', 'step': 13, 'parents': {}}, created_at='2025-02-01T19:47:33.846832+00:00', parent_config={'configurable': {'thread_id': '1', 'checkpoint_ns': '', 'checkpoint_id': '1efe0d54-b1f2-6f1f-800c-3ae704b7b37d'}}, tasks=(PregelTask(id='a9adc7b4-1ada-a895-277f-b4671aec0c68', name='__start__', path=('__pregel_pull', '__start__'), error=None, interrupts=(), state=None, result={'messages': 'driving from Boston, arriving in Austin'}),)),\n",
       " StateSnapshot(values={'messages': [HumanMessage(content='I would like to rent a car', additional_kwargs={}, response_metadata={}, id='49798cbe-549b-4ece-88db-1cdb3600041c'), AIMessage(content='', additional_kwargs={'tool_calls': [{'id': 'call_ivdY1Opold7yt3hHmQObOE1o', 'function': {'arguments': '{\"start_date\":\"None\",\"end_date\":\"None\",\"from_city\":\"None\",\"to_city\":\"None\"}', 'name': 'input_tool'}, 'type': 'function'}], 'refusal': None}, response_metadata={'token_usage': {'completion_tokens': 31, 'prompt_tokens': 201, 'total_tokens': 232, 'completion_tokens_details': {'accepted_prediction_tokens': 0, 'audio_tokens': 0, 'reasoning_tokens': 0, 'rejected_prediction_tokens': 0}, 'prompt_tokens_details': {'audio_tokens': 0, 'cached_tokens': 0}}, 'model_name': 'gpt-3.5-turbo-0125', 'system_fingerprint': None, 'finish_reason': 'tool_calls', 'logprobs': None}, id='run-8a78b369-1ec0-4ab3-8e82-dc36eca87404-0', tool_calls=[{'name': 'input_tool', 'args': {'start_date': 'None', 'end_date': 'None', 'from_city': 'None', 'to_city': 'None'}, 'id': 'call_ivdY1Opold7yt3hHmQObOE1o', 'type': 'tool_call'}], usage_metadata={'input_tokens': 201, 'output_tokens': 31, 'total_tokens': 232, 'input_token_details': {'audio': 0, 'cache_read': 0}, 'output_token_details': {'audio': 0, 'reasoning': 0}}), ToolMessage(content='{\"status\": \"inputs\", \"start_date\": \"None\", \"end_date\": \"None\", \"from_city\": \"None\", \"to_city\": \"None\"}', name='input_tool', id='005803be-a55f-453d-82cc-c48039393d2f', tool_call_id='call_ivdY1Opold7yt3hHmQObOE1o'), AIMessage(content='When would you like to start the car rental, and when will it end? Also, please provide the cities you will be driving from and to.', additional_kwargs={'refusal': None}, response_metadata={'token_usage': {'completion_tokens': 32, 'prompt_tokens': 273, 'total_tokens': 305, 'completion_tokens_details': {'accepted_prediction_tokens': 0, 'audio_tokens': 0, 'reasoning_tokens': 0, 'rejected_prediction_tokens': 0}, 'prompt_tokens_details': {'audio_tokens': 0, 'cached_tokens': 0}}, 'model_name': 'gpt-3.5-turbo-0125', 'system_fingerprint': None, 'finish_reason': 'stop', 'logprobs': None}, id='run-e7d3a979-7ba3-47c2-96fa-9114593f5b94-0', usage_metadata={'input_tokens': 273, 'output_tokens': 32, 'total_tokens': 305, 'input_token_details': {'audio': 0, 'cache_read': 0}, 'output_token_details': {'audio': 0, 'reasoning': 0}}), HumanMessage(content='pick up on Feb 5 and drop off on Feb 10', additional_kwargs={}, response_metadata={}, id='7100d5df-0e35-486c-9c8e-a75cc5d49606'), AIMessage(content='', additional_kwargs={'tool_calls': [{'id': 'call_GyfirsRuOl2ck57ACm51BvF5', 'function': {'arguments': '{\"start_date\": \"Feb 5\", \"end_date\": \"Feb 10\", \"from_city\": \"None\", \"to_city\": \"None\"}', 'name': 'input_tool'}, 'type': 'function'}, {'id': 'call_zOYCYujtIwYeUgtrtZZkY8rx', 'function': {'arguments': '{\"start_date\": \"Feb 5\", \"end_date\": \"Feb 10\", \"from_city\": \"None\", \"to_city\": \"None\"}', 'name': 'input_tool'}, 'type': 'function'}], 'refusal': None}, response_metadata={'token_usage': {'completion_tokens': 84, 'prompt_tokens': 324, 'total_tokens': 408, 'completion_tokens_details': {'accepted_prediction_tokens': 0, 'audio_tokens': 0, 'reasoning_tokens': 0, 'rejected_prediction_tokens': 0}, 'prompt_tokens_details': {'audio_tokens': 0, 'cached_tokens': 0}}, 'model_name': 'gpt-3.5-turbo-0125', 'system_fingerprint': None, 'finish_reason': 'tool_calls', 'logprobs': None}, id='run-58162032-2c88-4e28-b1fa-6f8267d0f8cc-0', tool_calls=[{'name': 'input_tool', 'args': {'start_date': 'Feb 5', 'end_date': 'Feb 10', 'from_city': 'None', 'to_city': 'None'}, 'id': 'call_GyfirsRuOl2ck57ACm51BvF5', 'type': 'tool_call'}, {'name': 'input_tool', 'args': {'start_date': 'Feb 5', 'end_date': 'Feb 10', 'from_city': 'None', 'to_city': 'None'}, 'id': 'call_zOYCYujtIwYeUgtrtZZkY8rx', 'type': 'tool_call'}], usage_metadata={'input_tokens': 324, 'output_tokens': 84, 'total_tokens': 408, 'input_token_details': {'audio': 0, 'cache_read': 0}, 'output_token_details': {'audio': 0, 'reasoning': 0}}), ToolMessage(content='{\"status\": \"inputs\", \"start_date\": \"Feb 5\", \"end_date\": \"Feb 10\", \"from_city\": \"None\", \"to_city\": \"None\"}', name='input_tool', id='45d844aa-451b-4790-962a-f658fb06b782', tool_call_id='call_GyfirsRuOl2ck57ACm51BvF5'), ToolMessage(content='{\"status\": \"inputs\", \"start_date\": \"Feb 5\", \"end_date\": \"Feb 10\", \"from_city\": \"None\", \"to_city\": \"None\"}', name='input_tool', id='542d234b-f636-45c1-bb59-afdae67e4e3e', tool_call_id='call_zOYCYujtIwYeUgtrtZZkY8rx'), AIMessage(content='', additional_kwargs={'tool_calls': [{'id': 'call_pSyCOZD34MaQwYQtxeWd6R6r', 'function': {'arguments': '{\"start_date\":\"Feb 5\",\"end_date\":\"Feb 10\",\"from_city\":\"None\",\"to_city\":\"None\"}', 'name': 'input_tool'}, 'type': 'function'}], 'refusal': None}, response_metadata={'token_usage': {'completion_tokens': 35, 'prompt_tokens': 499, 'total_tokens': 534, 'completion_tokens_details': {'accepted_prediction_tokens': 0, 'audio_tokens': 0, 'reasoning_tokens': 0, 'rejected_prediction_tokens': 0}, 'prompt_tokens_details': {'audio_tokens': 0, 'cached_tokens': 0}}, 'model_name': 'gpt-3.5-turbo-0125', 'system_fingerprint': None, 'finish_reason': 'tool_calls', 'logprobs': None}, id='run-a807f34d-7990-48ae-a5b9-c44ff084ccc7-0', tool_calls=[{'name': 'input_tool', 'args': {'start_date': 'Feb 5', 'end_date': 'Feb 10', 'from_city': 'None', 'to_city': 'None'}, 'id': 'call_pSyCOZD34MaQwYQtxeWd6R6r', 'type': 'tool_call'}], usage_metadata={'input_tokens': 499, 'output_tokens': 35, 'total_tokens': 534, 'input_token_details': {'audio': 0, 'cache_read': 0}, 'output_token_details': {'audio': 0, 'reasoning': 0}}), ToolMessage(content='{\"status\": \"inputs\", \"start_date\": \"Feb 5\", \"end_date\": \"Feb 10\", \"from_city\": \"None\", \"to_city\": \"None\"}', name='input_tool', id='c5cf5423-04e5-43ca-96bb-04507e091b39', tool_call_id='call_pSyCOZD34MaQwYQtxeWd6R6r'), AIMessage(content='Thank you for providing the rental start and end dates. Now, could you please specify the cities you will be driving from and to?', additional_kwargs={'refusal': None}, response_metadata={'token_usage': {'completion_tokens': 29, 'prompt_tokens': 579, 'total_tokens': 608, 'completion_tokens_details': {'accepted_prediction_tokens': 0, 'audio_tokens': 0, 'reasoning_tokens': 0, 'rejected_prediction_tokens': 0}, 'prompt_tokens_details': {'audio_tokens': 0, 'cached_tokens': 0}}, 'model_name': 'gpt-3.5-turbo-0125', 'system_fingerprint': None, 'finish_reason': 'stop', 'logprobs': None}, id='run-41dab068-007f-4463-b5c2-33590e768f19-0', usage_metadata={'input_tokens': 579, 'output_tokens': 29, 'total_tokens': 608, 'input_token_details': {'audio': 0, 'cache_read': 0}, 'output_token_details': {'audio': 0, 'reasoning': 0}})], 'start_date': 'Feb 5', 'end_date': 'Feb 10', 'from_city': 'None', 'to_city': 'None', 'status': 'inputs'}, next=(), config={'configurable': {'thread_id': '1', 'checkpoint_ns': '', 'checkpoint_id': '1efe0d54-b1f2-6f1f-800c-3ae704b7b37d'}}, metadata={'source': 'loop', 'writes': {'inputs': {'messages': [AIMessage(content='Thank you for providing the rental start and end dates. Now, could you please specify the cities you will be driving from and to?', additional_kwargs={'refusal': None}, response_metadata={'token_usage': {'completion_tokens': 29, 'prompt_tokens': 579, 'total_tokens': 608, 'completion_tokens_details': {'accepted_prediction_tokens': 0, 'audio_tokens': 0, 'reasoning_tokens': 0, 'rejected_prediction_tokens': 0}, 'prompt_tokens_details': {'audio_tokens': 0, 'cached_tokens': 0}}, 'model_name': 'gpt-3.5-turbo-0125', 'system_fingerprint': None, 'finish_reason': 'stop', 'logprobs': None}, id='run-41dab068-007f-4463-b5c2-33590e768f19-0', usage_metadata={'input_tokens': 579, 'output_tokens': 29, 'total_tokens': 608, 'input_token_details': {'audio': 0, 'cache_read': 0}, 'output_token_details': {'audio': 0, 'reasoning': 0}})]}}, 'thread_id': '1', 'step': 12, 'parents': {}}, created_at='2025-02-01T19:46:56.476499+00:00', parent_config={'configurable': {'thread_id': '1', 'checkpoint_ns': '', 'checkpoint_id': '1efe0d54-a9f8-650f-800b-67a7c5f5e0d1'}}, tasks=()),\n",
       " StateSnapshot(values={'messages': [HumanMessage(content='I would like to rent a car', additional_kwargs={}, response_metadata={}, id='49798cbe-549b-4ece-88db-1cdb3600041c'), AIMessage(content='', additional_kwargs={'tool_calls': [{'id': 'call_ivdY1Opold7yt3hHmQObOE1o', 'function': {'arguments': '{\"start_date\":\"None\",\"end_date\":\"None\",\"from_city\":\"None\",\"to_city\":\"None\"}', 'name': 'input_tool'}, 'type': 'function'}], 'refusal': None}, response_metadata={'token_usage': {'completion_tokens': 31, 'prompt_tokens': 201, 'total_tokens': 232, 'completion_tokens_details': {'accepted_prediction_tokens': 0, 'audio_tokens': 0, 'reasoning_tokens': 0, 'rejected_prediction_tokens': 0}, 'prompt_tokens_details': {'audio_tokens': 0, 'cached_tokens': 0}}, 'model_name': 'gpt-3.5-turbo-0125', 'system_fingerprint': None, 'finish_reason': 'tool_calls', 'logprobs': None}, id='run-8a78b369-1ec0-4ab3-8e82-dc36eca87404-0', tool_calls=[{'name': 'input_tool', 'args': {'start_date': 'None', 'end_date': 'None', 'from_city': 'None', 'to_city': 'None'}, 'id': 'call_ivdY1Opold7yt3hHmQObOE1o', 'type': 'tool_call'}], usage_metadata={'input_tokens': 201, 'output_tokens': 31, 'total_tokens': 232, 'input_token_details': {'audio': 0, 'cache_read': 0}, 'output_token_details': {'audio': 0, 'reasoning': 0}}), ToolMessage(content='{\"status\": \"inputs\", \"start_date\": \"None\", \"end_date\": \"None\", \"from_city\": \"None\", \"to_city\": \"None\"}', name='input_tool', id='005803be-a55f-453d-82cc-c48039393d2f', tool_call_id='call_ivdY1Opold7yt3hHmQObOE1o'), AIMessage(content='When would you like to start the car rental, and when will it end? Also, please provide the cities you will be driving from and to.', additional_kwargs={'refusal': None}, response_metadata={'token_usage': {'completion_tokens': 32, 'prompt_tokens': 273, 'total_tokens': 305, 'completion_tokens_details': {'accepted_prediction_tokens': 0, 'audio_tokens': 0, 'reasoning_tokens': 0, 'rejected_prediction_tokens': 0}, 'prompt_tokens_details': {'audio_tokens': 0, 'cached_tokens': 0}}, 'model_name': 'gpt-3.5-turbo-0125', 'system_fingerprint': None, 'finish_reason': 'stop', 'logprobs': None}, id='run-e7d3a979-7ba3-47c2-96fa-9114593f5b94-0', usage_metadata={'input_tokens': 273, 'output_tokens': 32, 'total_tokens': 305, 'input_token_details': {'audio': 0, 'cache_read': 0}, 'output_token_details': {'audio': 0, 'reasoning': 0}}), HumanMessage(content='pick up on Feb 5 and drop off on Feb 10', additional_kwargs={}, response_metadata={}, id='7100d5df-0e35-486c-9c8e-a75cc5d49606'), AIMessage(content='', additional_kwargs={'tool_calls': [{'id': 'call_GyfirsRuOl2ck57ACm51BvF5', 'function': {'arguments': '{\"start_date\": \"Feb 5\", \"end_date\": \"Feb 10\", \"from_city\": \"None\", \"to_city\": \"None\"}', 'name': 'input_tool'}, 'type': 'function'}, {'id': 'call_zOYCYujtIwYeUgtrtZZkY8rx', 'function': {'arguments': '{\"start_date\": \"Feb 5\", \"end_date\": \"Feb 10\", \"from_city\": \"None\", \"to_city\": \"None\"}', 'name': 'input_tool'}, 'type': 'function'}], 'refusal': None}, response_metadata={'token_usage': {'completion_tokens': 84, 'prompt_tokens': 324, 'total_tokens': 408, 'completion_tokens_details': {'accepted_prediction_tokens': 0, 'audio_tokens': 0, 'reasoning_tokens': 0, 'rejected_prediction_tokens': 0}, 'prompt_tokens_details': {'audio_tokens': 0, 'cached_tokens': 0}}, 'model_name': 'gpt-3.5-turbo-0125', 'system_fingerprint': None, 'finish_reason': 'tool_calls', 'logprobs': None}, id='run-58162032-2c88-4e28-b1fa-6f8267d0f8cc-0', tool_calls=[{'name': 'input_tool', 'args': {'start_date': 'Feb 5', 'end_date': 'Feb 10', 'from_city': 'None', 'to_city': 'None'}, 'id': 'call_GyfirsRuOl2ck57ACm51BvF5', 'type': 'tool_call'}, {'name': 'input_tool', 'args': {'start_date': 'Feb 5', 'end_date': 'Feb 10', 'from_city': 'None', 'to_city': 'None'}, 'id': 'call_zOYCYujtIwYeUgtrtZZkY8rx', 'type': 'tool_call'}], usage_metadata={'input_tokens': 324, 'output_tokens': 84, 'total_tokens': 408, 'input_token_details': {'audio': 0, 'cache_read': 0}, 'output_token_details': {'audio': 0, 'reasoning': 0}}), ToolMessage(content='{\"status\": \"inputs\", \"start_date\": \"Feb 5\", \"end_date\": \"Feb 10\", \"from_city\": \"None\", \"to_city\": \"None\"}', name='input_tool', id='45d844aa-451b-4790-962a-f658fb06b782', tool_call_id='call_GyfirsRuOl2ck57ACm51BvF5'), ToolMessage(content='{\"status\": \"inputs\", \"start_date\": \"Feb 5\", \"end_date\": \"Feb 10\", \"from_city\": \"None\", \"to_city\": \"None\"}', name='input_tool', id='542d234b-f636-45c1-bb59-afdae67e4e3e', tool_call_id='call_zOYCYujtIwYeUgtrtZZkY8rx'), AIMessage(content='', additional_kwargs={'tool_calls': [{'id': 'call_pSyCOZD34MaQwYQtxeWd6R6r', 'function': {'arguments': '{\"start_date\":\"Feb 5\",\"end_date\":\"Feb 10\",\"from_city\":\"None\",\"to_city\":\"None\"}', 'name': 'input_tool'}, 'type': 'function'}], 'refusal': None}, response_metadata={'token_usage': {'completion_tokens': 35, 'prompt_tokens': 499, 'total_tokens': 534, 'completion_tokens_details': {'accepted_prediction_tokens': 0, 'audio_tokens': 0, 'reasoning_tokens': 0, 'rejected_prediction_tokens': 0}, 'prompt_tokens_details': {'audio_tokens': 0, 'cached_tokens': 0}}, 'model_name': 'gpt-3.5-turbo-0125', 'system_fingerprint': None, 'finish_reason': 'tool_calls', 'logprobs': None}, id='run-a807f34d-7990-48ae-a5b9-c44ff084ccc7-0', tool_calls=[{'name': 'input_tool', 'args': {'start_date': 'Feb 5', 'end_date': 'Feb 10', 'from_city': 'None', 'to_city': 'None'}, 'id': 'call_pSyCOZD34MaQwYQtxeWd6R6r', 'type': 'tool_call'}], usage_metadata={'input_tokens': 499, 'output_tokens': 35, 'total_tokens': 534, 'input_token_details': {'audio': 0, 'cache_read': 0}, 'output_token_details': {'audio': 0, 'reasoning': 0}}), ToolMessage(content='{\"status\": \"inputs\", \"start_date\": \"Feb 5\", \"end_date\": \"Feb 10\", \"from_city\": \"None\", \"to_city\": \"None\"}', name='input_tool', id='c5cf5423-04e5-43ca-96bb-04507e091b39', tool_call_id='call_pSyCOZD34MaQwYQtxeWd6R6r')], 'start_date': 'Feb 5', 'end_date': 'Feb 10', 'from_city': 'None', 'to_city': 'None', 'status': 'inputs'}, next=('inputs',), config={'configurable': {'thread_id': '1', 'checkpoint_ns': '', 'checkpoint_id': '1efe0d54-a9f8-650f-800b-67a7c5f5e0d1'}}, metadata={'source': 'loop', 'writes': {'input_tool': {'messages': [ToolMessage(content='{\"status\": \"inputs\", \"start_date\": \"Feb 5\", \"end_date\": \"Feb 10\", \"from_city\": \"None\", \"to_city\": \"None\"}', name='input_tool', id='c5cf5423-04e5-43ca-96bb-04507e091b39', tool_call_id='call_pSyCOZD34MaQwYQtxeWd6R6r')], 'status': 'inputs', 'start_date': 'Feb 5', 'end_date': 'Feb 10', 'from_city': 'None', 'to_city': 'None'}}, 'thread_id': '1', 'step': 11, 'parents': {}}, created_at='2025-02-01T19:46:55.639851+00:00', parent_config={'configurable': {'thread_id': '1', 'checkpoint_ns': '', 'checkpoint_id': '1efe0d54-a9ea-60a3-800a-7ab0ab483aa1'}}, tasks=(PregelTask(id='d1016c7e-cd29-3ea5-288d-c01d3a2c413a', name='inputs', path=('__pregel_pull', 'inputs'), error=None, interrupts=(), state=None, result={'messages': [AIMessage(content='Thank you for providing the rental start and end dates. Now, could you please specify the cities you will be driving from and to?', additional_kwargs={'refusal': None}, response_metadata={'token_usage': {'completion_tokens': 29, 'prompt_tokens': 579, 'total_tokens': 608, 'completion_tokens_details': {'accepted_prediction_tokens': 0, 'audio_tokens': 0, 'reasoning_tokens': 0, 'rejected_prediction_tokens': 0}, 'prompt_tokens_details': {'audio_tokens': 0, 'cached_tokens': 0}}, 'model_name': 'gpt-3.5-turbo-0125', 'system_fingerprint': None, 'finish_reason': 'stop', 'logprobs': None}, id='run-41dab068-007f-4463-b5c2-33590e768f19-0', usage_metadata={'input_tokens': 579, 'output_tokens': 29, 'total_tokens': 608, 'input_token_details': {'audio': 0, 'cache_read': 0}, 'output_token_details': {'audio': 0, 'reasoning': 0}})]}),)),\n",
       " StateSnapshot(values={'messages': [HumanMessage(content='I would like to rent a car', additional_kwargs={}, response_metadata={}, id='49798cbe-549b-4ece-88db-1cdb3600041c'), AIMessage(content='', additional_kwargs={'tool_calls': [{'id': 'call_ivdY1Opold7yt3hHmQObOE1o', 'function': {'arguments': '{\"start_date\":\"None\",\"end_date\":\"None\",\"from_city\":\"None\",\"to_city\":\"None\"}', 'name': 'input_tool'}, 'type': 'function'}], 'refusal': None}, response_metadata={'token_usage': {'completion_tokens': 31, 'prompt_tokens': 201, 'total_tokens': 232, 'completion_tokens_details': {'accepted_prediction_tokens': 0, 'audio_tokens': 0, 'reasoning_tokens': 0, 'rejected_prediction_tokens': 0}, 'prompt_tokens_details': {'audio_tokens': 0, 'cached_tokens': 0}}, 'model_name': 'gpt-3.5-turbo-0125', 'system_fingerprint': None, 'finish_reason': 'tool_calls', 'logprobs': None}, id='run-8a78b369-1ec0-4ab3-8e82-dc36eca87404-0', tool_calls=[{'name': 'input_tool', 'args': {'start_date': 'None', 'end_date': 'None', 'from_city': 'None', 'to_city': 'None'}, 'id': 'call_ivdY1Opold7yt3hHmQObOE1o', 'type': 'tool_call'}], usage_metadata={'input_tokens': 201, 'output_tokens': 31, 'total_tokens': 232, 'input_token_details': {'audio': 0, 'cache_read': 0}, 'output_token_details': {'audio': 0, 'reasoning': 0}}), ToolMessage(content='{\"status\": \"inputs\", \"start_date\": \"None\", \"end_date\": \"None\", \"from_city\": \"None\", \"to_city\": \"None\"}', name='input_tool', id='005803be-a55f-453d-82cc-c48039393d2f', tool_call_id='call_ivdY1Opold7yt3hHmQObOE1o'), AIMessage(content='When would you like to start the car rental, and when will it end? Also, please provide the cities you will be driving from and to.', additional_kwargs={'refusal': None}, response_metadata={'token_usage': {'completion_tokens': 32, 'prompt_tokens': 273, 'total_tokens': 305, 'completion_tokens_details': {'accepted_prediction_tokens': 0, 'audio_tokens': 0, 'reasoning_tokens': 0, 'rejected_prediction_tokens': 0}, 'prompt_tokens_details': {'audio_tokens': 0, 'cached_tokens': 0}}, 'model_name': 'gpt-3.5-turbo-0125', 'system_fingerprint': None, 'finish_reason': 'stop', 'logprobs': None}, id='run-e7d3a979-7ba3-47c2-96fa-9114593f5b94-0', usage_metadata={'input_tokens': 273, 'output_tokens': 32, 'total_tokens': 305, 'input_token_details': {'audio': 0, 'cache_read': 0}, 'output_token_details': {'audio': 0, 'reasoning': 0}}), HumanMessage(content='pick up on Feb 5 and drop off on Feb 10', additional_kwargs={}, response_metadata={}, id='7100d5df-0e35-486c-9c8e-a75cc5d49606'), AIMessage(content='', additional_kwargs={'tool_calls': [{'id': 'call_GyfirsRuOl2ck57ACm51BvF5', 'function': {'arguments': '{\"start_date\": \"Feb 5\", \"end_date\": \"Feb 10\", \"from_city\": \"None\", \"to_city\": \"None\"}', 'name': 'input_tool'}, 'type': 'function'}, {'id': 'call_zOYCYujtIwYeUgtrtZZkY8rx', 'function': {'arguments': '{\"start_date\": \"Feb 5\", \"end_date\": \"Feb 10\", \"from_city\": \"None\", \"to_city\": \"None\"}', 'name': 'input_tool'}, 'type': 'function'}], 'refusal': None}, response_metadata={'token_usage': {'completion_tokens': 84, 'prompt_tokens': 324, 'total_tokens': 408, 'completion_tokens_details': {'accepted_prediction_tokens': 0, 'audio_tokens': 0, 'reasoning_tokens': 0, 'rejected_prediction_tokens': 0}, 'prompt_tokens_details': {'audio_tokens': 0, 'cached_tokens': 0}}, 'model_name': 'gpt-3.5-turbo-0125', 'system_fingerprint': None, 'finish_reason': 'tool_calls', 'logprobs': None}, id='run-58162032-2c88-4e28-b1fa-6f8267d0f8cc-0', tool_calls=[{'name': 'input_tool', 'args': {'start_date': 'Feb 5', 'end_date': 'Feb 10', 'from_city': 'None', 'to_city': 'None'}, 'id': 'call_GyfirsRuOl2ck57ACm51BvF5', 'type': 'tool_call'}, {'name': 'input_tool', 'args': {'start_date': 'Feb 5', 'end_date': 'Feb 10', 'from_city': 'None', 'to_city': 'None'}, 'id': 'call_zOYCYujtIwYeUgtrtZZkY8rx', 'type': 'tool_call'}], usage_metadata={'input_tokens': 324, 'output_tokens': 84, 'total_tokens': 408, 'input_token_details': {'audio': 0, 'cache_read': 0}, 'output_token_details': {'audio': 0, 'reasoning': 0}}), ToolMessage(content='{\"status\": \"inputs\", \"start_date\": \"Feb 5\", \"end_date\": \"Feb 10\", \"from_city\": \"None\", \"to_city\": \"None\"}', name='input_tool', id='45d844aa-451b-4790-962a-f658fb06b782', tool_call_id='call_GyfirsRuOl2ck57ACm51BvF5'), ToolMessage(content='{\"status\": \"inputs\", \"start_date\": \"Feb 5\", \"end_date\": \"Feb 10\", \"from_city\": \"None\", \"to_city\": \"None\"}', name='input_tool', id='542d234b-f636-45c1-bb59-afdae67e4e3e', tool_call_id='call_zOYCYujtIwYeUgtrtZZkY8rx'), AIMessage(content='', additional_kwargs={'tool_calls': [{'id': 'call_pSyCOZD34MaQwYQtxeWd6R6r', 'function': {'arguments': '{\"start_date\":\"Feb 5\",\"end_date\":\"Feb 10\",\"from_city\":\"None\",\"to_city\":\"None\"}', 'name': 'input_tool'}, 'type': 'function'}], 'refusal': None}, response_metadata={'token_usage': {'completion_tokens': 35, 'prompt_tokens': 499, 'total_tokens': 534, 'completion_tokens_details': {'accepted_prediction_tokens': 0, 'audio_tokens': 0, 'reasoning_tokens': 0, 'rejected_prediction_tokens': 0}, 'prompt_tokens_details': {'audio_tokens': 0, 'cached_tokens': 0}}, 'model_name': 'gpt-3.5-turbo-0125', 'system_fingerprint': None, 'finish_reason': 'tool_calls', 'logprobs': None}, id='run-a807f34d-7990-48ae-a5b9-c44ff084ccc7-0', tool_calls=[{'name': 'input_tool', 'args': {'start_date': 'Feb 5', 'end_date': 'Feb 10', 'from_city': 'None', 'to_city': 'None'}, 'id': 'call_pSyCOZD34MaQwYQtxeWd6R6r', 'type': 'tool_call'}], usage_metadata={'input_tokens': 499, 'output_tokens': 35, 'total_tokens': 534, 'input_token_details': {'audio': 0, 'cache_read': 0}, 'output_token_details': {'audio': 0, 'reasoning': 0}})], 'start_date': 'Feb 5', 'end_date': 'Feb 10', 'from_city': 'None', 'to_city': 'None', 'status': 'inputs'}, next=('input_tool',), config={'configurable': {'thread_id': '1', 'checkpoint_ns': '', 'checkpoint_id': '1efe0d54-a9ea-60a3-800a-7ab0ab483aa1'}}, metadata={'source': 'loop', 'writes': {'inputs': {'messages': [AIMessage(content='', additional_kwargs={'tool_calls': [{'id': 'call_pSyCOZD34MaQwYQtxeWd6R6r', 'function': {'arguments': '{\"start_date\":\"Feb 5\",\"end_date\":\"Feb 10\",\"from_city\":\"None\",\"to_city\":\"None\"}', 'name': 'input_tool'}, 'type': 'function'}], 'refusal': None}, response_metadata={'token_usage': {'completion_tokens': 35, 'prompt_tokens': 499, 'total_tokens': 534, 'completion_tokens_details': {'accepted_prediction_tokens': 0, 'audio_tokens': 0, 'reasoning_tokens': 0, 'rejected_prediction_tokens': 0}, 'prompt_tokens_details': {'audio_tokens': 0, 'cached_tokens': 0}}, 'model_name': 'gpt-3.5-turbo-0125', 'system_fingerprint': None, 'finish_reason': 'tool_calls', 'logprobs': None}, id='run-a807f34d-7990-48ae-a5b9-c44ff084ccc7-0', tool_calls=[{'name': 'input_tool', 'args': {'start_date': 'Feb 5', 'end_date': 'Feb 10', 'from_city': 'None', 'to_city': 'None'}, 'id': 'call_pSyCOZD34MaQwYQtxeWd6R6r', 'type': 'tool_call'}], usage_metadata={'input_tokens': 499, 'output_tokens': 35, 'total_tokens': 534, 'input_token_details': {'audio': 0, 'cache_read': 0}, 'output_token_details': {'audio': 0, 'reasoning': 0}})]}}, 'thread_id': '1', 'step': 10, 'parents': {}}, created_at='2025-02-01T19:46:55.633998+00:00', parent_config={'configurable': {'thread_id': '1', 'checkpoint_ns': '', 'checkpoint_id': '1efe0d54-a478-67a0-8009-4f031161205d'}}, tasks=(PregelTask(id='0b3b69b4-5d5a-919e-203a-0e20404c5c73', name='input_tool', path=('__pregel_pull', 'input_tool'), error=None, interrupts=(), state=None, result={'messages': [ToolMessage(content='{\"status\": \"inputs\", \"start_date\": \"Feb 5\", \"end_date\": \"Feb 10\", \"from_city\": \"None\", \"to_city\": \"None\"}', name='input_tool', tool_call_id='call_pSyCOZD34MaQwYQtxeWd6R6r')], 'status': 'inputs', 'start_date': 'Feb 5', 'end_date': 'Feb 10', 'from_city': 'None', 'to_city': 'None'}),)),\n",
       " StateSnapshot(values={'messages': [HumanMessage(content='I would like to rent a car', additional_kwargs={}, response_metadata={}, id='49798cbe-549b-4ece-88db-1cdb3600041c'), AIMessage(content='', additional_kwargs={'tool_calls': [{'id': 'call_ivdY1Opold7yt3hHmQObOE1o', 'function': {'arguments': '{\"start_date\":\"None\",\"end_date\":\"None\",\"from_city\":\"None\",\"to_city\":\"None\"}', 'name': 'input_tool'}, 'type': 'function'}], 'refusal': None}, response_metadata={'token_usage': {'completion_tokens': 31, 'prompt_tokens': 201, 'total_tokens': 232, 'completion_tokens_details': {'accepted_prediction_tokens': 0, 'audio_tokens': 0, 'reasoning_tokens': 0, 'rejected_prediction_tokens': 0}, 'prompt_tokens_details': {'audio_tokens': 0, 'cached_tokens': 0}}, 'model_name': 'gpt-3.5-turbo-0125', 'system_fingerprint': None, 'finish_reason': 'tool_calls', 'logprobs': None}, id='run-8a78b369-1ec0-4ab3-8e82-dc36eca87404-0', tool_calls=[{'name': 'input_tool', 'args': {'start_date': 'None', 'end_date': 'None', 'from_city': 'None', 'to_city': 'None'}, 'id': 'call_ivdY1Opold7yt3hHmQObOE1o', 'type': 'tool_call'}], usage_metadata={'input_tokens': 201, 'output_tokens': 31, 'total_tokens': 232, 'input_token_details': {'audio': 0, 'cache_read': 0}, 'output_token_details': {'audio': 0, 'reasoning': 0}}), ToolMessage(content='{\"status\": \"inputs\", \"start_date\": \"None\", \"end_date\": \"None\", \"from_city\": \"None\", \"to_city\": \"None\"}', name='input_tool', id='005803be-a55f-453d-82cc-c48039393d2f', tool_call_id='call_ivdY1Opold7yt3hHmQObOE1o'), AIMessage(content='When would you like to start the car rental, and when will it end? Also, please provide the cities you will be driving from and to.', additional_kwargs={'refusal': None}, response_metadata={'token_usage': {'completion_tokens': 32, 'prompt_tokens': 273, 'total_tokens': 305, 'completion_tokens_details': {'accepted_prediction_tokens': 0, 'audio_tokens': 0, 'reasoning_tokens': 0, 'rejected_prediction_tokens': 0}, 'prompt_tokens_details': {'audio_tokens': 0, 'cached_tokens': 0}}, 'model_name': 'gpt-3.5-turbo-0125', 'system_fingerprint': None, 'finish_reason': 'stop', 'logprobs': None}, id='run-e7d3a979-7ba3-47c2-96fa-9114593f5b94-0', usage_metadata={'input_tokens': 273, 'output_tokens': 32, 'total_tokens': 305, 'input_token_details': {'audio': 0, 'cache_read': 0}, 'output_token_details': {'audio': 0, 'reasoning': 0}}), HumanMessage(content='pick up on Feb 5 and drop off on Feb 10', additional_kwargs={}, response_metadata={}, id='7100d5df-0e35-486c-9c8e-a75cc5d49606'), AIMessage(content='', additional_kwargs={'tool_calls': [{'id': 'call_GyfirsRuOl2ck57ACm51BvF5', 'function': {'arguments': '{\"start_date\": \"Feb 5\", \"end_date\": \"Feb 10\", \"from_city\": \"None\", \"to_city\": \"None\"}', 'name': 'input_tool'}, 'type': 'function'}, {'id': 'call_zOYCYujtIwYeUgtrtZZkY8rx', 'function': {'arguments': '{\"start_date\": \"Feb 5\", \"end_date\": \"Feb 10\", \"from_city\": \"None\", \"to_city\": \"None\"}', 'name': 'input_tool'}, 'type': 'function'}], 'refusal': None}, response_metadata={'token_usage': {'completion_tokens': 84, 'prompt_tokens': 324, 'total_tokens': 408, 'completion_tokens_details': {'accepted_prediction_tokens': 0, 'audio_tokens': 0, 'reasoning_tokens': 0, 'rejected_prediction_tokens': 0}, 'prompt_tokens_details': {'audio_tokens': 0, 'cached_tokens': 0}}, 'model_name': 'gpt-3.5-turbo-0125', 'system_fingerprint': None, 'finish_reason': 'tool_calls', 'logprobs': None}, id='run-58162032-2c88-4e28-b1fa-6f8267d0f8cc-0', tool_calls=[{'name': 'input_tool', 'args': {'start_date': 'Feb 5', 'end_date': 'Feb 10', 'from_city': 'None', 'to_city': 'None'}, 'id': 'call_GyfirsRuOl2ck57ACm51BvF5', 'type': 'tool_call'}, {'name': 'input_tool', 'args': {'start_date': 'Feb 5', 'end_date': 'Feb 10', 'from_city': 'None', 'to_city': 'None'}, 'id': 'call_zOYCYujtIwYeUgtrtZZkY8rx', 'type': 'tool_call'}], usage_metadata={'input_tokens': 324, 'output_tokens': 84, 'total_tokens': 408, 'input_token_details': {'audio': 0, 'cache_read': 0}, 'output_token_details': {'audio': 0, 'reasoning': 0}}), ToolMessage(content='{\"status\": \"inputs\", \"start_date\": \"Feb 5\", \"end_date\": \"Feb 10\", \"from_city\": \"None\", \"to_city\": \"None\"}', name='input_tool', id='45d844aa-451b-4790-962a-f658fb06b782', tool_call_id='call_GyfirsRuOl2ck57ACm51BvF5'), ToolMessage(content='{\"status\": \"inputs\", \"start_date\": \"Feb 5\", \"end_date\": \"Feb 10\", \"from_city\": \"None\", \"to_city\": \"None\"}', name='input_tool', id='542d234b-f636-45c1-bb59-afdae67e4e3e', tool_call_id='call_zOYCYujtIwYeUgtrtZZkY8rx')], 'start_date': 'Feb 5', 'end_date': 'Feb 10', 'from_city': 'None', 'to_city': 'None', 'status': 'inputs'}, next=('inputs',), config={'configurable': {'thread_id': '1', 'checkpoint_ns': '', 'checkpoint_id': '1efe0d54-a478-67a0-8009-4f031161205d'}}, metadata={'source': 'loop', 'writes': {'input_tool': {'messages': [ToolMessage(content='{\"status\": \"inputs\", \"start_date\": \"Feb 5\", \"end_date\": \"Feb 10\", \"from_city\": \"None\", \"to_city\": \"None\"}', name='input_tool', id='45d844aa-451b-4790-962a-f658fb06b782', tool_call_id='call_GyfirsRuOl2ck57ACm51BvF5'), ToolMessage(content='{\"status\": \"inputs\", \"start_date\": \"Feb 5\", \"end_date\": \"Feb 10\", \"from_city\": \"None\", \"to_city\": \"None\"}', name='input_tool', id='542d234b-f636-45c1-bb59-afdae67e4e3e', tool_call_id='call_zOYCYujtIwYeUgtrtZZkY8rx')], 'status': 'inputs', 'start_date': 'Feb 5', 'end_date': 'Feb 10', 'from_city': 'None', 'to_city': 'None'}}, 'thread_id': '1', 'step': 9, 'parents': {}}, created_at='2025-02-01T19:46:55.063188+00:00', parent_config={'configurable': {'thread_id': '1', 'checkpoint_ns': '', 'checkpoint_id': '1efe0d54-a464-6e7b-8008-a6e07a7461e8'}}, tasks=(PregelTask(id='cb938aeb-d091-5e0a-cba8-0a3f9316f344', name='inputs', path=('__pregel_pull', 'inputs'), error=None, interrupts=(), state=None, result={'messages': [AIMessage(content='', additional_kwargs={'tool_calls': [{'id': 'call_pSyCOZD34MaQwYQtxeWd6R6r', 'function': {'arguments': '{\"start_date\":\"Feb 5\",\"end_date\":\"Feb 10\",\"from_city\":\"None\",\"to_city\":\"None\"}', 'name': 'input_tool'}, 'type': 'function'}], 'refusal': None}, response_metadata={'token_usage': {'completion_tokens': 35, 'prompt_tokens': 499, 'total_tokens': 534, 'completion_tokens_details': {'accepted_prediction_tokens': 0, 'audio_tokens': 0, 'reasoning_tokens': 0, 'rejected_prediction_tokens': 0}, 'prompt_tokens_details': {'audio_tokens': 0, 'cached_tokens': 0}}, 'model_name': 'gpt-3.5-turbo-0125', 'system_fingerprint': None, 'finish_reason': 'tool_calls', 'logprobs': None}, id='run-a807f34d-7990-48ae-a5b9-c44ff084ccc7-0', tool_calls=[{'name': 'input_tool', 'args': {'start_date': 'Feb 5', 'end_date': 'Feb 10', 'from_city': 'None', 'to_city': 'None'}, 'id': 'call_pSyCOZD34MaQwYQtxeWd6R6r', 'type': 'tool_call'}], usage_metadata={'input_tokens': 499, 'output_tokens': 35, 'total_tokens': 534, 'input_token_details': {'audio': 0, 'cache_read': 0}, 'output_token_details': {'audio': 0, 'reasoning': 0}})]}),)),\n",
       " StateSnapshot(values={'messages': [HumanMessage(content='I would like to rent a car', additional_kwargs={}, response_metadata={}, id='49798cbe-549b-4ece-88db-1cdb3600041c'), AIMessage(content='', additional_kwargs={'tool_calls': [{'id': 'call_ivdY1Opold7yt3hHmQObOE1o', 'function': {'arguments': '{\"start_date\":\"None\",\"end_date\":\"None\",\"from_city\":\"None\",\"to_city\":\"None\"}', 'name': 'input_tool'}, 'type': 'function'}], 'refusal': None}, response_metadata={'token_usage': {'completion_tokens': 31, 'prompt_tokens': 201, 'total_tokens': 232, 'completion_tokens_details': {'accepted_prediction_tokens': 0, 'audio_tokens': 0, 'reasoning_tokens': 0, 'rejected_prediction_tokens': 0}, 'prompt_tokens_details': {'audio_tokens': 0, 'cached_tokens': 0}}, 'model_name': 'gpt-3.5-turbo-0125', 'system_fingerprint': None, 'finish_reason': 'tool_calls', 'logprobs': None}, id='run-8a78b369-1ec0-4ab3-8e82-dc36eca87404-0', tool_calls=[{'name': 'input_tool', 'args': {'start_date': 'None', 'end_date': 'None', 'from_city': 'None', 'to_city': 'None'}, 'id': 'call_ivdY1Opold7yt3hHmQObOE1o', 'type': 'tool_call'}], usage_metadata={'input_tokens': 201, 'output_tokens': 31, 'total_tokens': 232, 'input_token_details': {'audio': 0, 'cache_read': 0}, 'output_token_details': {'audio': 0, 'reasoning': 0}}), ToolMessage(content='{\"status\": \"inputs\", \"start_date\": \"None\", \"end_date\": \"None\", \"from_city\": \"None\", \"to_city\": \"None\"}', name='input_tool', id='005803be-a55f-453d-82cc-c48039393d2f', tool_call_id='call_ivdY1Opold7yt3hHmQObOE1o'), AIMessage(content='When would you like to start the car rental, and when will it end? Also, please provide the cities you will be driving from and to.', additional_kwargs={'refusal': None}, response_metadata={'token_usage': {'completion_tokens': 32, 'prompt_tokens': 273, 'total_tokens': 305, 'completion_tokens_details': {'accepted_prediction_tokens': 0, 'audio_tokens': 0, 'reasoning_tokens': 0, 'rejected_prediction_tokens': 0}, 'prompt_tokens_details': {'audio_tokens': 0, 'cached_tokens': 0}}, 'model_name': 'gpt-3.5-turbo-0125', 'system_fingerprint': None, 'finish_reason': 'stop', 'logprobs': None}, id='run-e7d3a979-7ba3-47c2-96fa-9114593f5b94-0', usage_metadata={'input_tokens': 273, 'output_tokens': 32, 'total_tokens': 305, 'input_token_details': {'audio': 0, 'cache_read': 0}, 'output_token_details': {'audio': 0, 'reasoning': 0}}), HumanMessage(content='pick up on Feb 5 and drop off on Feb 10', additional_kwargs={}, response_metadata={}, id='7100d5df-0e35-486c-9c8e-a75cc5d49606'), AIMessage(content='', additional_kwargs={'tool_calls': [{'id': 'call_GyfirsRuOl2ck57ACm51BvF5', 'function': {'arguments': '{\"start_date\": \"Feb 5\", \"end_date\": \"Feb 10\", \"from_city\": \"None\", \"to_city\": \"None\"}', 'name': 'input_tool'}, 'type': 'function'}, {'id': 'call_zOYCYujtIwYeUgtrtZZkY8rx', 'function': {'arguments': '{\"start_date\": \"Feb 5\", \"end_date\": \"Feb 10\", \"from_city\": \"None\", \"to_city\": \"None\"}', 'name': 'input_tool'}, 'type': 'function'}], 'refusal': None}, response_metadata={'token_usage': {'completion_tokens': 84, 'prompt_tokens': 324, 'total_tokens': 408, 'completion_tokens_details': {'accepted_prediction_tokens': 0, 'audio_tokens': 0, 'reasoning_tokens': 0, 'rejected_prediction_tokens': 0}, 'prompt_tokens_details': {'audio_tokens': 0, 'cached_tokens': 0}}, 'model_name': 'gpt-3.5-turbo-0125', 'system_fingerprint': None, 'finish_reason': 'tool_calls', 'logprobs': None}, id='run-58162032-2c88-4e28-b1fa-6f8267d0f8cc-0', tool_calls=[{'name': 'input_tool', 'args': {'start_date': 'Feb 5', 'end_date': 'Feb 10', 'from_city': 'None', 'to_city': 'None'}, 'id': 'call_GyfirsRuOl2ck57ACm51BvF5', 'type': 'tool_call'}, {'name': 'input_tool', 'args': {'start_date': 'Feb 5', 'end_date': 'Feb 10', 'from_city': 'None', 'to_city': 'None'}, 'id': 'call_zOYCYujtIwYeUgtrtZZkY8rx', 'type': 'tool_call'}], usage_metadata={'input_tokens': 324, 'output_tokens': 84, 'total_tokens': 408, 'input_token_details': {'audio': 0, 'cache_read': 0}, 'output_token_details': {'audio': 0, 'reasoning': 0}})], 'start_date': 'None', 'end_date': 'None', 'from_city': 'None', 'to_city': 'None', 'status': 'inputs'}, next=('input_tool',), config={'configurable': {'thread_id': '1', 'checkpoint_ns': '', 'checkpoint_id': '1efe0d54-a464-6e7b-8008-a6e07a7461e8'}}, metadata={'source': 'loop', 'writes': {'inputs': {'messages': [AIMessage(content='', additional_kwargs={'tool_calls': [{'id': 'call_GyfirsRuOl2ck57ACm51BvF5', 'function': {'arguments': '{\"start_date\": \"Feb 5\", \"end_date\": \"Feb 10\", \"from_city\": \"None\", \"to_city\": \"None\"}', 'name': 'input_tool'}, 'type': 'function'}, {'id': 'call_zOYCYujtIwYeUgtrtZZkY8rx', 'function': {'arguments': '{\"start_date\": \"Feb 5\", \"end_date\": \"Feb 10\", \"from_city\": \"None\", \"to_city\": \"None\"}', 'name': 'input_tool'}, 'type': 'function'}], 'refusal': None}, response_metadata={'token_usage': {'completion_tokens': 84, 'prompt_tokens': 324, 'total_tokens': 408, 'completion_tokens_details': {'accepted_prediction_tokens': 0, 'audio_tokens': 0, 'reasoning_tokens': 0, 'rejected_prediction_tokens': 0}, 'prompt_tokens_details': {'audio_tokens': 0, 'cached_tokens': 0}}, 'model_name': 'gpt-3.5-turbo-0125', 'system_fingerprint': None, 'finish_reason': 'tool_calls', 'logprobs': None}, id='run-58162032-2c88-4e28-b1fa-6f8267d0f8cc-0', tool_calls=[{'name': 'input_tool', 'args': {'start_date': 'Feb 5', 'end_date': 'Feb 10', 'from_city': 'None', 'to_city': 'None'}, 'id': 'call_GyfirsRuOl2ck57ACm51BvF5', 'type': 'tool_call'}, {'name': 'input_tool', 'args': {'start_date': 'Feb 5', 'end_date': 'Feb 10', 'from_city': 'None', 'to_city': 'None'}, 'id': 'call_zOYCYujtIwYeUgtrtZZkY8rx', 'type': 'tool_call'}], usage_metadata={'input_tokens': 324, 'output_tokens': 84, 'total_tokens': 408, 'input_token_details': {'audio': 0, 'cache_read': 0}, 'output_token_details': {'audio': 0, 'reasoning': 0}})]}}, 'thread_id': '1', 'step': 8, 'parents': {}}, created_at='2025-02-01T19:46:55.055173+00:00', parent_config={'configurable': {'thread_id': '1', 'checkpoint_ns': '', 'checkpoint_id': '1efe0d54-9b3b-66f2-8007-0685d97c3f9f'}}, tasks=(PregelTask(id='3ddfb65e-f780-5216-ff07-d1a43d5ab1c5', name='input_tool', path=('__pregel_pull', 'input_tool'), error=None, interrupts=(), state=None, result={'messages': [ToolMessage(content='{\"status\": \"inputs\", \"start_date\": \"Feb 5\", \"end_date\": \"Feb 10\", \"from_city\": \"None\", \"to_city\": \"None\"}', name='input_tool', id='45d844aa-451b-4790-962a-f658fb06b782', tool_call_id='call_GyfirsRuOl2ck57ACm51BvF5'), ToolMessage(content='{\"status\": \"inputs\", \"start_date\": \"Feb 5\", \"end_date\": \"Feb 10\", \"from_city\": \"None\", \"to_city\": \"None\"}', name='input_tool', id='542d234b-f636-45c1-bb59-afdae67e4e3e', tool_call_id='call_zOYCYujtIwYeUgtrtZZkY8rx')], 'status': 'inputs', 'start_date': 'Feb 5', 'end_date': 'Feb 10', 'from_city': 'None', 'to_city': 'None'}),)),\n",
       " StateSnapshot(values={'messages': [HumanMessage(content='I would like to rent a car', additional_kwargs={}, response_metadata={}, id='49798cbe-549b-4ece-88db-1cdb3600041c'), AIMessage(content='', additional_kwargs={'tool_calls': [{'id': 'call_ivdY1Opold7yt3hHmQObOE1o', 'function': {'arguments': '{\"start_date\":\"None\",\"end_date\":\"None\",\"from_city\":\"None\",\"to_city\":\"None\"}', 'name': 'input_tool'}, 'type': 'function'}], 'refusal': None}, response_metadata={'token_usage': {'completion_tokens': 31, 'prompt_tokens': 201, 'total_tokens': 232, 'completion_tokens_details': {'accepted_prediction_tokens': 0, 'audio_tokens': 0, 'reasoning_tokens': 0, 'rejected_prediction_tokens': 0}, 'prompt_tokens_details': {'audio_tokens': 0, 'cached_tokens': 0}}, 'model_name': 'gpt-3.5-turbo-0125', 'system_fingerprint': None, 'finish_reason': 'tool_calls', 'logprobs': None}, id='run-8a78b369-1ec0-4ab3-8e82-dc36eca87404-0', tool_calls=[{'name': 'input_tool', 'args': {'start_date': 'None', 'end_date': 'None', 'from_city': 'None', 'to_city': 'None'}, 'id': 'call_ivdY1Opold7yt3hHmQObOE1o', 'type': 'tool_call'}], usage_metadata={'input_tokens': 201, 'output_tokens': 31, 'total_tokens': 232, 'input_token_details': {'audio': 0, 'cache_read': 0}, 'output_token_details': {'audio': 0, 'reasoning': 0}}), ToolMessage(content='{\"status\": \"inputs\", \"start_date\": \"None\", \"end_date\": \"None\", \"from_city\": \"None\", \"to_city\": \"None\"}', name='input_tool', id='005803be-a55f-453d-82cc-c48039393d2f', tool_call_id='call_ivdY1Opold7yt3hHmQObOE1o'), AIMessage(content='When would you like to start the car rental, and when will it end? Also, please provide the cities you will be driving from and to.', additional_kwargs={'refusal': None}, response_metadata={'token_usage': {'completion_tokens': 32, 'prompt_tokens': 273, 'total_tokens': 305, 'completion_tokens_details': {'accepted_prediction_tokens': 0, 'audio_tokens': 0, 'reasoning_tokens': 0, 'rejected_prediction_tokens': 0}, 'prompt_tokens_details': {'audio_tokens': 0, 'cached_tokens': 0}}, 'model_name': 'gpt-3.5-turbo-0125', 'system_fingerprint': None, 'finish_reason': 'stop', 'logprobs': None}, id='run-e7d3a979-7ba3-47c2-96fa-9114593f5b94-0', usage_metadata={'input_tokens': 273, 'output_tokens': 32, 'total_tokens': 305, 'input_token_details': {'audio': 0, 'cache_read': 0}, 'output_token_details': {'audio': 0, 'reasoning': 0}}), HumanMessage(content='pick up on Feb 5 and drop off on Feb 10', additional_kwargs={}, response_metadata={}, id='7100d5df-0e35-486c-9c8e-a75cc5d49606')], 'start_date': 'None', 'end_date': 'None', 'from_city': 'None', 'to_city': 'None', 'status': 'inputs'}, next=('inputs',), config={'configurable': {'thread_id': '1', 'checkpoint_ns': '', 'checkpoint_id': '1efe0d54-9b3b-66f2-8007-0685d97c3f9f'}}, metadata={'source': 'loop', 'writes': None, 'thread_id': '1', 'step': 7, 'parents': {}}, created_at='2025-02-01T19:46:54.094461+00:00', parent_config={'configurable': {'thread_id': '1', 'checkpoint_ns': '', 'checkpoint_id': '1efe0d54-9b34-6bdc-8006-46b3c1e4c608'}}, tasks=(PregelTask(id='52497cdf-f052-1fba-36ca-926daf268422', name='inputs', path=('__pregel_pull', 'inputs'), error=None, interrupts=(), state=None, result={'messages': [AIMessage(content='', additional_kwargs={'tool_calls': [{'id': 'call_GyfirsRuOl2ck57ACm51BvF5', 'function': {'arguments': '{\"start_date\": \"Feb 5\", \"end_date\": \"Feb 10\", \"from_city\": \"None\", \"to_city\": \"None\"}', 'name': 'input_tool'}, 'type': 'function'}, {'id': 'call_zOYCYujtIwYeUgtrtZZkY8rx', 'function': {'arguments': '{\"start_date\": \"Feb 5\", \"end_date\": \"Feb 10\", \"from_city\": \"None\", \"to_city\": \"None\"}', 'name': 'input_tool'}, 'type': 'function'}], 'refusal': None}, response_metadata={'token_usage': {'completion_tokens': 84, 'prompt_tokens': 324, 'total_tokens': 408, 'completion_tokens_details': {'accepted_prediction_tokens': 0, 'audio_tokens': 0, 'reasoning_tokens': 0, 'rejected_prediction_tokens': 0}, 'prompt_tokens_details': {'audio_tokens': 0, 'cached_tokens': 0}}, 'model_name': 'gpt-3.5-turbo-0125', 'system_fingerprint': None, 'finish_reason': 'tool_calls', 'logprobs': None}, id='run-58162032-2c88-4e28-b1fa-6f8267d0f8cc-0', tool_calls=[{'name': 'input_tool', 'args': {'start_date': 'Feb 5', 'end_date': 'Feb 10', 'from_city': 'None', 'to_city': 'None'}, 'id': 'call_GyfirsRuOl2ck57ACm51BvF5', 'type': 'tool_call'}, {'name': 'input_tool', 'args': {'start_date': 'Feb 5', 'end_date': 'Feb 10', 'from_city': 'None', 'to_city': 'None'}, 'id': 'call_zOYCYujtIwYeUgtrtZZkY8rx', 'type': 'tool_call'}], usage_metadata={'input_tokens': 324, 'output_tokens': 84, 'total_tokens': 408, 'input_token_details': {'audio': 0, 'cache_read': 0}, 'output_token_details': {'audio': 0, 'reasoning': 0}})]}),)),\n",
       " StateSnapshot(values={'messages': [HumanMessage(content='I would like to rent a car', additional_kwargs={}, response_metadata={}, id='49798cbe-549b-4ece-88db-1cdb3600041c'), AIMessage(content='', additional_kwargs={'tool_calls': [{'id': 'call_ivdY1Opold7yt3hHmQObOE1o', 'function': {'arguments': '{\"start_date\":\"None\",\"end_date\":\"None\",\"from_city\":\"None\",\"to_city\":\"None\"}', 'name': 'input_tool'}, 'type': 'function'}], 'refusal': None}, response_metadata={'token_usage': {'completion_tokens': 31, 'prompt_tokens': 201, 'total_tokens': 232, 'completion_tokens_details': {'accepted_prediction_tokens': 0, 'audio_tokens': 0, 'reasoning_tokens': 0, 'rejected_prediction_tokens': 0}, 'prompt_tokens_details': {'audio_tokens': 0, 'cached_tokens': 0}}, 'model_name': 'gpt-3.5-turbo-0125', 'system_fingerprint': None, 'finish_reason': 'tool_calls', 'logprobs': None}, id='run-8a78b369-1ec0-4ab3-8e82-dc36eca87404-0', tool_calls=[{'name': 'input_tool', 'args': {'start_date': 'None', 'end_date': 'None', 'from_city': 'None', 'to_city': 'None'}, 'id': 'call_ivdY1Opold7yt3hHmQObOE1o', 'type': 'tool_call'}], usage_metadata={'input_tokens': 201, 'output_tokens': 31, 'total_tokens': 232, 'input_token_details': {'audio': 0, 'cache_read': 0}, 'output_token_details': {'audio': 0, 'reasoning': 0}}), ToolMessage(content='{\"status\": \"inputs\", \"start_date\": \"None\", \"end_date\": \"None\", \"from_city\": \"None\", \"to_city\": \"None\"}', name='input_tool', id='005803be-a55f-453d-82cc-c48039393d2f', tool_call_id='call_ivdY1Opold7yt3hHmQObOE1o'), AIMessage(content='When would you like to start the car rental, and when will it end? Also, please provide the cities you will be driving from and to.', additional_kwargs={'refusal': None}, response_metadata={'token_usage': {'completion_tokens': 32, 'prompt_tokens': 273, 'total_tokens': 305, 'completion_tokens_details': {'accepted_prediction_tokens': 0, 'audio_tokens': 0, 'reasoning_tokens': 0, 'rejected_prediction_tokens': 0}, 'prompt_tokens_details': {'audio_tokens': 0, 'cached_tokens': 0}}, 'model_name': 'gpt-3.5-turbo-0125', 'system_fingerprint': None, 'finish_reason': 'stop', 'logprobs': None}, id='run-e7d3a979-7ba3-47c2-96fa-9114593f5b94-0', usage_metadata={'input_tokens': 273, 'output_tokens': 32, 'total_tokens': 305, 'input_token_details': {'audio': 0, 'cache_read': 0}, 'output_token_details': {'audio': 0, 'reasoning': 0}})], 'start_date': 'None', 'end_date': 'None', 'from_city': 'None', 'to_city': 'None', 'status': 'inputs'}, next=('__start__',), config={'configurable': {'thread_id': '1', 'checkpoint_ns': '', 'checkpoint_id': '1efe0d54-9b34-6bdc-8006-46b3c1e4c608'}}, metadata={'source': 'input', 'writes': {'__start__': {'messages': 'pick up on Feb 5 and drop off on Feb 10'}}, 'thread_id': '1', 'step': 6, 'parents': {}}, created_at='2025-02-01T19:46:54.091714+00:00', parent_config={'configurable': {'thread_id': '1', 'checkpoint_ns': '', 'checkpoint_id': '1efe0d53-be7f-6a00-8005-013b6ea439e3'}}, tasks=(PregelTask(id='d34b073d-228e-e27d-9306-49eebcb3dc22', name='__start__', path=('__pregel_pull', '__start__'), error=None, interrupts=(), state=None, result={'messages': 'pick up on Feb 5 and drop off on Feb 10'}),)),\n",
       " StateSnapshot(values={'messages': [HumanMessage(content='I would like to rent a car', additional_kwargs={}, response_metadata={}, id='49798cbe-549b-4ece-88db-1cdb3600041c'), AIMessage(content='', additional_kwargs={'tool_calls': [{'id': 'call_ivdY1Opold7yt3hHmQObOE1o', 'function': {'arguments': '{\"start_date\":\"None\",\"end_date\":\"None\",\"from_city\":\"None\",\"to_city\":\"None\"}', 'name': 'input_tool'}, 'type': 'function'}], 'refusal': None}, response_metadata={'token_usage': {'completion_tokens': 31, 'prompt_tokens': 201, 'total_tokens': 232, 'completion_tokens_details': {'accepted_prediction_tokens': 0, 'audio_tokens': 0, 'reasoning_tokens': 0, 'rejected_prediction_tokens': 0}, 'prompt_tokens_details': {'audio_tokens': 0, 'cached_tokens': 0}}, 'model_name': 'gpt-3.5-turbo-0125', 'system_fingerprint': None, 'finish_reason': 'tool_calls', 'logprobs': None}, id='run-8a78b369-1ec0-4ab3-8e82-dc36eca87404-0', tool_calls=[{'name': 'input_tool', 'args': {'start_date': 'None', 'end_date': 'None', 'from_city': 'None', 'to_city': 'None'}, 'id': 'call_ivdY1Opold7yt3hHmQObOE1o', 'type': 'tool_call'}], usage_metadata={'input_tokens': 201, 'output_tokens': 31, 'total_tokens': 232, 'input_token_details': {'audio': 0, 'cache_read': 0}, 'output_token_details': {'audio': 0, 'reasoning': 0}}), ToolMessage(content='{\"status\": \"inputs\", \"start_date\": \"None\", \"end_date\": \"None\", \"from_city\": \"None\", \"to_city\": \"None\"}', name='input_tool', id='005803be-a55f-453d-82cc-c48039393d2f', tool_call_id='call_ivdY1Opold7yt3hHmQObOE1o'), AIMessage(content='When would you like to start the car rental, and when will it end? Also, please provide the cities you will be driving from and to.', additional_kwargs={'refusal': None}, response_metadata={'token_usage': {'completion_tokens': 32, 'prompt_tokens': 273, 'total_tokens': 305, 'completion_tokens_details': {'accepted_prediction_tokens': 0, 'audio_tokens': 0, 'reasoning_tokens': 0, 'rejected_prediction_tokens': 0}, 'prompt_tokens_details': {'audio_tokens': 0, 'cached_tokens': 0}}, 'model_name': 'gpt-3.5-turbo-0125', 'system_fingerprint': None, 'finish_reason': 'stop', 'logprobs': None}, id='run-e7d3a979-7ba3-47c2-96fa-9114593f5b94-0', usage_metadata={'input_tokens': 273, 'output_tokens': 32, 'total_tokens': 305, 'input_token_details': {'audio': 0, 'cache_read': 0}, 'output_token_details': {'audio': 0, 'reasoning': 0}})], 'start_date': 'None', 'end_date': 'None', 'from_city': 'None', 'to_city': 'None', 'status': 'inputs'}, next=(), config={'configurable': {'thread_id': '1', 'checkpoint_ns': '', 'checkpoint_id': '1efe0d53-be7f-6a00-8005-013b6ea439e3'}}, metadata={'source': 'loop', 'writes': {'inputs': {'messages': [AIMessage(content='When would you like to start the car rental, and when will it end? Also, please provide the cities you will be driving from and to.', additional_kwargs={'refusal': None}, response_metadata={'token_usage': {'completion_tokens': 32, 'prompt_tokens': 273, 'total_tokens': 305, 'completion_tokens_details': {'accepted_prediction_tokens': 0, 'audio_tokens': 0, 'reasoning_tokens': 0, 'rejected_prediction_tokens': 0}, 'prompt_tokens_details': {'audio_tokens': 0, 'cached_tokens': 0}}, 'model_name': 'gpt-3.5-turbo-0125', 'system_fingerprint': None, 'finish_reason': 'stop', 'logprobs': None}, id='run-e7d3a979-7ba3-47c2-96fa-9114593f5b94-0', usage_metadata={'input_tokens': 273, 'output_tokens': 32, 'total_tokens': 305, 'input_token_details': {'audio': 0, 'cache_read': 0}, 'output_token_details': {'audio': 0, 'reasoning': 0}})]}}, 'thread_id': '1', 'step': 5, 'parents': {}}, created_at='2025-02-01T19:46:30.948875+00:00', parent_config={'configurable': {'thread_id': '1', 'checkpoint_ns': '', 'checkpoint_id': '1efe0d53-b934-6cc7-8004-d98584a99502'}}, tasks=()),\n",
       " StateSnapshot(values={'messages': [HumanMessage(content='I would like to rent a car', additional_kwargs={}, response_metadata={}, id='49798cbe-549b-4ece-88db-1cdb3600041c'), AIMessage(content='', additional_kwargs={'tool_calls': [{'id': 'call_ivdY1Opold7yt3hHmQObOE1o', 'function': {'arguments': '{\"start_date\":\"None\",\"end_date\":\"None\",\"from_city\":\"None\",\"to_city\":\"None\"}', 'name': 'input_tool'}, 'type': 'function'}], 'refusal': None}, response_metadata={'token_usage': {'completion_tokens': 31, 'prompt_tokens': 201, 'total_tokens': 232, 'completion_tokens_details': {'accepted_prediction_tokens': 0, 'audio_tokens': 0, 'reasoning_tokens': 0, 'rejected_prediction_tokens': 0}, 'prompt_tokens_details': {'audio_tokens': 0, 'cached_tokens': 0}}, 'model_name': 'gpt-3.5-turbo-0125', 'system_fingerprint': None, 'finish_reason': 'tool_calls', 'logprobs': None}, id='run-8a78b369-1ec0-4ab3-8e82-dc36eca87404-0', tool_calls=[{'name': 'input_tool', 'args': {'start_date': 'None', 'end_date': 'None', 'from_city': 'None', 'to_city': 'None'}, 'id': 'call_ivdY1Opold7yt3hHmQObOE1o', 'type': 'tool_call'}], usage_metadata={'input_tokens': 201, 'output_tokens': 31, 'total_tokens': 232, 'input_token_details': {'audio': 0, 'cache_read': 0}, 'output_token_details': {'audio': 0, 'reasoning': 0}}), ToolMessage(content='{\"status\": \"inputs\", \"start_date\": \"None\", \"end_date\": \"None\", \"from_city\": \"None\", \"to_city\": \"None\"}', name='input_tool', id='005803be-a55f-453d-82cc-c48039393d2f', tool_call_id='call_ivdY1Opold7yt3hHmQObOE1o')], 'start_date': 'None', 'end_date': 'None', 'from_city': 'None', 'to_city': 'None', 'status': 'inputs'}, next=('inputs',), config={'configurable': {'thread_id': '1', 'checkpoint_ns': '', 'checkpoint_id': '1efe0d53-b934-6cc7-8004-d98584a99502'}}, metadata={'source': 'loop', 'writes': {'input_tool': {'messages': [ToolMessage(content='{\"status\": \"inputs\", \"start_date\": \"None\", \"end_date\": \"None\", \"from_city\": \"None\", \"to_city\": \"None\"}', name='input_tool', id='005803be-a55f-453d-82cc-c48039393d2f', tool_call_id='call_ivdY1Opold7yt3hHmQObOE1o')], 'status': 'inputs', 'start_date': 'None', 'end_date': 'None', 'from_city': 'None', 'to_city': 'None'}}, 'thread_id': '1', 'step': 4, 'parents': {}}, created_at='2025-02-01T19:46:30.393767+00:00', parent_config={'configurable': {'thread_id': '1', 'checkpoint_ns': '', 'checkpoint_id': '1efe0d53-b926-62f9-8003-ec58140ca270'}}, tasks=(PregelTask(id='dcb1967c-2c0f-dde2-8fda-24d16cec800d', name='inputs', path=('__pregel_pull', 'inputs'), error=None, interrupts=(), state=None, result={'messages': [AIMessage(content='When would you like to start the car rental, and when will it end? Also, please provide the cities you will be driving from and to.', additional_kwargs={'refusal': None}, response_metadata={'token_usage': {'completion_tokens': 32, 'prompt_tokens': 273, 'total_tokens': 305, 'completion_tokens_details': {'accepted_prediction_tokens': 0, 'audio_tokens': 0, 'reasoning_tokens': 0, 'rejected_prediction_tokens': 0}, 'prompt_tokens_details': {'audio_tokens': 0, 'cached_tokens': 0}}, 'model_name': 'gpt-3.5-turbo-0125', 'system_fingerprint': None, 'finish_reason': 'stop', 'logprobs': None}, id='run-e7d3a979-7ba3-47c2-96fa-9114593f5b94-0', usage_metadata={'input_tokens': 273, 'output_tokens': 32, 'total_tokens': 305, 'input_token_details': {'audio': 0, 'cache_read': 0}, 'output_token_details': {'audio': 0, 'reasoning': 0}})]}),)),\n",
       " StateSnapshot(values={'messages': [HumanMessage(content='I would like to rent a car', additional_kwargs={}, response_metadata={}, id='49798cbe-549b-4ece-88db-1cdb3600041c'), AIMessage(content='', additional_kwargs={'tool_calls': [{'id': 'call_ivdY1Opold7yt3hHmQObOE1o', 'function': {'arguments': '{\"start_date\":\"None\",\"end_date\":\"None\",\"from_city\":\"None\",\"to_city\":\"None\"}', 'name': 'input_tool'}, 'type': 'function'}], 'refusal': None}, response_metadata={'token_usage': {'completion_tokens': 31, 'prompt_tokens': 201, 'total_tokens': 232, 'completion_tokens_details': {'accepted_prediction_tokens': 0, 'audio_tokens': 0, 'reasoning_tokens': 0, 'rejected_prediction_tokens': 0}, 'prompt_tokens_details': {'audio_tokens': 0, 'cached_tokens': 0}}, 'model_name': 'gpt-3.5-turbo-0125', 'system_fingerprint': None, 'finish_reason': 'tool_calls', 'logprobs': None}, id='run-8a78b369-1ec0-4ab3-8e82-dc36eca87404-0', tool_calls=[{'name': 'input_tool', 'args': {'start_date': 'None', 'end_date': 'None', 'from_city': 'None', 'to_city': 'None'}, 'id': 'call_ivdY1Opold7yt3hHmQObOE1o', 'type': 'tool_call'}], usage_metadata={'input_tokens': 201, 'output_tokens': 31, 'total_tokens': 232, 'input_token_details': {'audio': 0, 'cache_read': 0}, 'output_token_details': {'audio': 0, 'reasoning': 0}})], 'status': 'inputs'}, next=('input_tool',), config={'configurable': {'thread_id': '1', 'checkpoint_ns': '', 'checkpoint_id': '1efe0d53-b926-62f9-8003-ec58140ca270'}}, metadata={'source': 'loop', 'writes': {'inputs': {'messages': [AIMessage(content='', additional_kwargs={'tool_calls': [{'id': 'call_ivdY1Opold7yt3hHmQObOE1o', 'function': {'arguments': '{\"start_date\":\"None\",\"end_date\":\"None\",\"from_city\":\"None\",\"to_city\":\"None\"}', 'name': 'input_tool'}, 'type': 'function'}], 'refusal': None}, response_metadata={'token_usage': {'completion_tokens': 31, 'prompt_tokens': 201, 'total_tokens': 232, 'completion_tokens_details': {'accepted_prediction_tokens': 0, 'audio_tokens': 0, 'reasoning_tokens': 0, 'rejected_prediction_tokens': 0}, 'prompt_tokens_details': {'audio_tokens': 0, 'cached_tokens': 0}}, 'model_name': 'gpt-3.5-turbo-0125', 'system_fingerprint': None, 'finish_reason': 'tool_calls', 'logprobs': None}, id='run-8a78b369-1ec0-4ab3-8e82-dc36eca87404-0', tool_calls=[{'name': 'input_tool', 'args': {'start_date': 'None', 'end_date': 'None', 'from_city': 'None', 'to_city': 'None'}, 'id': 'call_ivdY1Opold7yt3hHmQObOE1o', 'type': 'tool_call'}], usage_metadata={'input_tokens': 201, 'output_tokens': 31, 'total_tokens': 232, 'input_token_details': {'audio': 0, 'cache_read': 0}, 'output_token_details': {'audio': 0, 'reasoning': 0}})]}}, 'thread_id': '1', 'step': 3, 'parents': {}}, created_at='2025-02-01T19:46:30.387935+00:00', parent_config={'configurable': {'thread_id': '1', 'checkpoint_ns': '', 'checkpoint_id': '1efe0d53-b367-6f29-8002-796cc4372d77'}}, tasks=(PregelTask(id='00474da8-5b2d-22c1-bd4a-ac64ef2d1898', name='input_tool', path=('__pregel_pull', 'input_tool'), error=None, interrupts=(), state=None, result={'messages': [ToolMessage(content='{\"status\": \"inputs\", \"start_date\": \"None\", \"end_date\": \"None\", \"from_city\": \"None\", \"to_city\": \"None\"}', name='input_tool', id='005803be-a55f-453d-82cc-c48039393d2f', tool_call_id='call_ivdY1Opold7yt3hHmQObOE1o')], 'status': 'inputs', 'start_date': 'None', 'end_date': 'None', 'from_city': 'None', 'to_city': 'None'}),)),\n",
       " StateSnapshot(values={'messages': [HumanMessage(content='I would like to rent a car', additional_kwargs={}, response_metadata={}, id='49798cbe-549b-4ece-88db-1cdb3600041c')], 'status': 'inputs'}, next=('inputs',), config={'configurable': {'thread_id': '1', 'checkpoint_ns': '', 'checkpoint_id': '1efe0d53-b367-6f29-8002-796cc4372d77'}}, metadata={'source': 'loop', 'writes': None, 'thread_id': '1', 'step': 2, 'parents': {}}, created_at='2025-02-01T19:46:29.785754+00:00', parent_config={'configurable': {'thread_id': '1', 'checkpoint_ns': '', 'checkpoint_id': '1efe0d53-b360-671d-8001-26df13c28e9c'}}, tasks=(PregelTask(id='4f0027ba-666b-3c90-d71c-51c332ed1e51', name='inputs', path=('__pregel_pull', 'inputs'), error=None, interrupts=(), state=None, result={'messages': [AIMessage(content='', additional_kwargs={'tool_calls': [{'id': 'call_ivdY1Opold7yt3hHmQObOE1o', 'function': {'arguments': '{\"start_date\":\"None\",\"end_date\":\"None\",\"from_city\":\"None\",\"to_city\":\"None\"}', 'name': 'input_tool'}, 'type': 'function'}], 'refusal': None}, response_metadata={'token_usage': {'completion_tokens': 31, 'prompt_tokens': 201, 'total_tokens': 232, 'completion_tokens_details': {'accepted_prediction_tokens': 0, 'audio_tokens': 0, 'reasoning_tokens': 0, 'rejected_prediction_tokens': 0}, 'prompt_tokens_details': {'audio_tokens': 0, 'cached_tokens': 0}}, 'model_name': 'gpt-3.5-turbo-0125', 'system_fingerprint': None, 'finish_reason': 'tool_calls', 'logprobs': None}, id='run-8a78b369-1ec0-4ab3-8e82-dc36eca87404-0', tool_calls=[{'name': 'input_tool', 'args': {'start_date': 'None', 'end_date': 'None', 'from_city': 'None', 'to_city': 'None'}, 'id': 'call_ivdY1Opold7yt3hHmQObOE1o', 'type': 'tool_call'}], usage_metadata={'input_tokens': 201, 'output_tokens': 31, 'total_tokens': 232, 'input_token_details': {'audio': 0, 'cache_read': 0}, 'output_token_details': {'audio': 0, 'reasoning': 0}})]}),)),\n",
       " StateSnapshot(values={'messages': [], 'status': 'inputs'}, next=('__start__',), config={'configurable': {'thread_id': '1', 'checkpoint_ns': '', 'checkpoint_id': '1efe0d53-b360-671d-8001-26df13c28e9c'}}, metadata={'source': 'input', 'writes': {'__start__': {'messages': 'I would like to rent a car'}}, 'thread_id': '1', 'step': 1, 'parents': {}}, created_at='2025-02-01T19:46:29.782689+00:00', parent_config={'configurable': {'thread_id': '1', 'checkpoint_ns': '', 'checkpoint_id': '1efe0d53-b35d-6407-8000-fae89e08c61b'}}, tasks=(PregelTask(id='20867b01-95fd-ac08-7039-82eed8f7b39e', name='__start__', path=('__pregel_pull', '__start__'), error=None, interrupts=(), state=None, result={'messages': 'I would like to rent a car'}),)),\n",
       " StateSnapshot(values={'messages': [], 'status': 'inputs'}, next=('inputs',), config={'configurable': {'thread_id': '1', 'checkpoint_ns': '', 'checkpoint_id': '1efe0d53-b35d-6407-8000-fae89e08c61b'}}, metadata={'thread_id': '1', 'source': 'update', 'step': 0, 'writes': {'__start__': {'status': 'inputs'}}, 'parents': {}}, created_at='2025-02-01T19:46:29.781382+00:00', parent_config=None, tasks=(PregelTask(id='aecadc28-88c6-c2d9-8134-d25db1f37965', name='inputs', path=('__pregel_pull', 'inputs'), error=None, interrupts=(), state=None, result=None),))]"
      ]
     },
     "execution_count": 206,
     "metadata": {},
     "output_type": "execute_result"
    }
   ],
   "source": [
    "config = {\"configurable\": {\"thread_id\": \"1\"}}\n",
    "list(graph.get_state_history(config))"
   ]
  },
  {
   "cell_type": "code",
   "execution_count": null,
   "metadata": {
    "id": "-P6sq4Kaxqaj"
   },
   "outputs": [],
   "source": []
  }
 ],
 "metadata": {
  "colab": {
   "authorship_tag": "ABX9TyMngBtp/c3UORx2ECKNMLAk",
   "provenance": [
    {
     "file_id": "1dkx6X7gppm16e1knGV5aednDyZOytShg",
     "timestamp": 1738421588224
    },
    {
     "file_id": "1kX1nGNKY3Rd1Oa5NZj2pRbbRiev-j1yL",
     "timestamp": 1738346022403
    }
   ]
  },
  "kernelspec": {
   "display_name": "Python 3 (ipykernel)",
   "language": "python",
   "name": "python3"
  },
  "language_info": {
   "codemirror_mode": {
    "name": "ipython",
    "version": 3
   },
   "file_extension": ".py",
   "mimetype": "text/x-python",
   "name": "python",
   "nbconvert_exporter": "python",
   "pygments_lexer": "ipython3",
   "version": "3.10.16"
  }
 },
 "nbformat": 4,
 "nbformat_minor": 4
}
