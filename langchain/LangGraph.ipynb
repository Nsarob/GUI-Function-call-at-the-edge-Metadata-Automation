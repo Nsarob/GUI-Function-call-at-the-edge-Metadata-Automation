{
 "cells": [
  {
   "cell_type": "code",
   "execution_count": 1,
   "metadata": {
    "colab": {
     "base_uri": "https://localhost:8080/"
    },
    "executionInfo": {
     "elapsed": 7478,
     "status": "ok",
     "timestamp": 1738846961871,
     "user": {
      "displayName": "Charles Wiecha",
      "userId": "08158400620140352840"
     },
     "user_tz": 300
    },
    "id": "cj8tNqpV3OMJ",
    "outputId": "0c089f77-ae39-43a9-e686-05f85db36f72"
   },
   "outputs": [
    {
     "name": "stdout",
     "output_type": "stream",
     "text": [
      "/bin/bash: line 1: capture: command not found\n",
      "Collecting langgraph\n",
      "  Downloading langgraph-0.2.69-py3-none-any.whl.metadata (17 kB)\n",
      "Requirement already satisfied: langsmith in /usr/local/lib/python3.11/dist-packages (0.3.2)\n",
      "Collecting langsmith\n",
      "  Downloading langsmith-0.3.6-py3-none-any.whl.metadata (14 kB)\n",
      "Collecting langchain_anthropic\n",
      "  Downloading langchain_anthropic-0.3.6-py3-none-any.whl.metadata (2.3 kB)\n",
      "Requirement already satisfied: langchain-core!=0.3.0,!=0.3.1,!=0.3.10,!=0.3.11,!=0.3.12,!=0.3.13,!=0.3.14,!=0.3.15,!=0.3.16,!=0.3.17,!=0.3.18,!=0.3.19,!=0.3.2,!=0.3.20,!=0.3.21,!=0.3.22,!=0.3.3,!=0.3.4,!=0.3.5,!=0.3.6,!=0.3.7,!=0.3.8,!=0.3.9,<0.4.0,>=0.2.43 in /usr/local/lib/python3.11/dist-packages (from langgraph) (0.3.32)\n",
      "Collecting langgraph-checkpoint<3.0.0,>=2.0.10 (from langgraph)\n",
      "  Downloading langgraph_checkpoint-2.0.10-py3-none-any.whl.metadata (4.6 kB)\n",
      "Collecting langgraph-sdk<0.2.0,>=0.1.42 (from langgraph)\n",
      "  Downloading langgraph_sdk-0.1.51-py3-none-any.whl.metadata (1.8 kB)\n",
      "Requirement already satisfied: httpx<1,>=0.23.0 in /usr/local/lib/python3.11/dist-packages (from langsmith) (0.28.1)\n",
      "Requirement already satisfied: orjson<4.0.0,>=3.9.14 in /usr/local/lib/python3.11/dist-packages (from langsmith) (3.10.15)\n",
      "Requirement already satisfied: pydantic<3,>=1 in /usr/local/lib/python3.11/dist-packages (from langsmith) (2.10.6)\n",
      "Requirement already satisfied: requests<3,>=2 in /usr/local/lib/python3.11/dist-packages (from langsmith) (2.32.3)\n",
      "Requirement already satisfied: requests-toolbelt<2.0.0,>=1.0.0 in /usr/local/lib/python3.11/dist-packages (from langsmith) (1.0.0)\n",
      "Requirement already satisfied: zstandard<0.24.0,>=0.23.0 in /usr/local/lib/python3.11/dist-packages (from langsmith) (0.23.0)\n",
      "Collecting anthropic<1,>=0.45.0 (from langchain_anthropic)\n",
      "  Downloading anthropic-0.45.2-py3-none-any.whl.metadata (23 kB)\n",
      "Requirement already satisfied: defusedxml<0.8.0,>=0.7.1 in /usr/local/lib/python3.11/dist-packages (from langchain_anthropic) (0.7.1)\n",
      "Collecting langchain-core!=0.3.0,!=0.3.1,!=0.3.10,!=0.3.11,!=0.3.12,!=0.3.13,!=0.3.14,!=0.3.15,!=0.3.16,!=0.3.17,!=0.3.18,!=0.3.19,!=0.3.2,!=0.3.20,!=0.3.21,!=0.3.22,!=0.3.3,!=0.3.4,!=0.3.5,!=0.3.6,!=0.3.7,!=0.3.8,!=0.3.9,<0.4.0,>=0.2.43 (from langgraph)\n",
      "  Downloading langchain_core-0.3.33-py3-none-any.whl.metadata (6.3 kB)\n",
      "Requirement already satisfied: anyio<5,>=3.5.0 in /usr/local/lib/python3.11/dist-packages (from anthropic<1,>=0.45.0->langchain_anthropic) (3.7.1)\n",
      "Requirement already satisfied: distro<2,>=1.7.0 in /usr/local/lib/python3.11/dist-packages (from anthropic<1,>=0.45.0->langchain_anthropic) (1.9.0)\n",
      "Requirement already satisfied: jiter<1,>=0.4.0 in /usr/local/lib/python3.11/dist-packages (from anthropic<1,>=0.45.0->langchain_anthropic) (0.8.2)\n",
      "Requirement already satisfied: sniffio in /usr/local/lib/python3.11/dist-packages (from anthropic<1,>=0.45.0->langchain_anthropic) (1.3.1)\n",
      "Requirement already satisfied: typing-extensions<5,>=4.10 in /usr/local/lib/python3.11/dist-packages (from anthropic<1,>=0.45.0->langchain_anthropic) (4.12.2)\n",
      "Requirement already satisfied: certifi in /usr/local/lib/python3.11/dist-packages (from httpx<1,>=0.23.0->langsmith) (2024.12.14)\n",
      "Requirement already satisfied: httpcore==1.* in /usr/local/lib/python3.11/dist-packages (from httpx<1,>=0.23.0->langsmith) (1.0.7)\n",
      "Requirement already satisfied: idna in /usr/local/lib/python3.11/dist-packages (from httpx<1,>=0.23.0->langsmith) (3.10)\n",
      "Requirement already satisfied: h11<0.15,>=0.13 in /usr/local/lib/python3.11/dist-packages (from httpcore==1.*->httpx<1,>=0.23.0->langsmith) (0.14.0)\n",
      "Requirement already satisfied: PyYAML>=5.3 in /usr/local/lib/python3.11/dist-packages (from langchain-core!=0.3.0,!=0.3.1,!=0.3.10,!=0.3.11,!=0.3.12,!=0.3.13,!=0.3.14,!=0.3.15,!=0.3.16,!=0.3.17,!=0.3.18,!=0.3.19,!=0.3.2,!=0.3.20,!=0.3.21,!=0.3.22,!=0.3.3,!=0.3.4,!=0.3.5,!=0.3.6,!=0.3.7,!=0.3.8,!=0.3.9,<0.4.0,>=0.2.43->langgraph) (6.0.2)\n",
      "Requirement already satisfied: jsonpatch<2.0,>=1.33 in /usr/local/lib/python3.11/dist-packages (from langchain-core!=0.3.0,!=0.3.1,!=0.3.10,!=0.3.11,!=0.3.12,!=0.3.13,!=0.3.14,!=0.3.15,!=0.3.16,!=0.3.17,!=0.3.18,!=0.3.19,!=0.3.2,!=0.3.20,!=0.3.21,!=0.3.22,!=0.3.3,!=0.3.4,!=0.3.5,!=0.3.6,!=0.3.7,!=0.3.8,!=0.3.9,<0.4.0,>=0.2.43->langgraph) (1.33)\n",
      "Requirement already satisfied: packaging<25,>=23.2 in /usr/local/lib/python3.11/dist-packages (from langchain-core!=0.3.0,!=0.3.1,!=0.3.10,!=0.3.11,!=0.3.12,!=0.3.13,!=0.3.14,!=0.3.15,!=0.3.16,!=0.3.17,!=0.3.18,!=0.3.19,!=0.3.2,!=0.3.20,!=0.3.21,!=0.3.22,!=0.3.3,!=0.3.4,!=0.3.5,!=0.3.6,!=0.3.7,!=0.3.8,!=0.3.9,<0.4.0,>=0.2.43->langgraph) (24.2)\n",
      "Requirement already satisfied: tenacity!=8.4.0,<10.0.0,>=8.1.0 in /usr/local/lib/python3.11/dist-packages (from langchain-core!=0.3.0,!=0.3.1,!=0.3.10,!=0.3.11,!=0.3.12,!=0.3.13,!=0.3.14,!=0.3.15,!=0.3.16,!=0.3.17,!=0.3.18,!=0.3.19,!=0.3.2,!=0.3.20,!=0.3.21,!=0.3.22,!=0.3.3,!=0.3.4,!=0.3.5,!=0.3.6,!=0.3.7,!=0.3.8,!=0.3.9,<0.4.0,>=0.2.43->langgraph) (9.0.0)\n",
      "Requirement already satisfied: msgpack<2.0.0,>=1.1.0 in /usr/local/lib/python3.11/dist-packages (from langgraph-checkpoint<3.0.0,>=2.0.10->langgraph) (1.1.0)\n",
      "Requirement already satisfied: annotated-types>=0.6.0 in /usr/local/lib/python3.11/dist-packages (from pydantic<3,>=1->langsmith) (0.7.0)\n",
      "Requirement already satisfied: pydantic-core==2.27.2 in /usr/local/lib/python3.11/dist-packages (from pydantic<3,>=1->langsmith) (2.27.2)\n",
      "Requirement already satisfied: charset-normalizer<4,>=2 in /usr/local/lib/python3.11/dist-packages (from requests<3,>=2->langsmith) (3.4.1)\n",
      "Requirement already satisfied: urllib3<3,>=1.21.1 in /usr/local/lib/python3.11/dist-packages (from requests<3,>=2->langsmith) (2.3.0)\n",
      "Requirement already satisfied: jsonpointer>=1.9 in /usr/local/lib/python3.11/dist-packages (from jsonpatch<2.0,>=1.33->langchain-core!=0.3.0,!=0.3.1,!=0.3.10,!=0.3.11,!=0.3.12,!=0.3.13,!=0.3.14,!=0.3.15,!=0.3.16,!=0.3.17,!=0.3.18,!=0.3.19,!=0.3.2,!=0.3.20,!=0.3.21,!=0.3.22,!=0.3.3,!=0.3.4,!=0.3.5,!=0.3.6,!=0.3.7,!=0.3.8,!=0.3.9,<0.4.0,>=0.2.43->langgraph) (3.0.0)\n",
      "Downloading langgraph-0.2.69-py3-none-any.whl (148 kB)\n",
      "\u001b[2K   \u001b[90m━━━━━━━━━━━━━━━━━━━━━━━━━━━━━━━━━━━━━━━━\u001b[0m \u001b[32m148.7/148.7 kB\u001b[0m \u001b[31m6.1 MB/s\u001b[0m eta \u001b[36m0:00:00\u001b[0m\n",
      "\u001b[?25hDownloading langsmith-0.3.6-py3-none-any.whl (332 kB)\n",
      "\u001b[2K   \u001b[90m━━━━━━━━━━━━━━━━━━━━━━━━━━━━━━━━━━━━━━━━\u001b[0m \u001b[32m332.8/332.8 kB\u001b[0m \u001b[31m18.2 MB/s\u001b[0m eta \u001b[36m0:00:00\u001b[0m\n",
      "\u001b[?25hDownloading langchain_anthropic-0.3.6-py3-none-any.whl (22 kB)\n",
      "Downloading anthropic-0.45.2-py3-none-any.whl (222 kB)\n",
      "\u001b[2K   \u001b[90m━━━━━━━━━━━━━━━━━━━━━━━━━━━━━━━━━━━━━━━━\u001b[0m \u001b[32m222.8/222.8 kB\u001b[0m \u001b[31m15.4 MB/s\u001b[0m eta \u001b[36m0:00:00\u001b[0m\n",
      "\u001b[?25hDownloading langchain_core-0.3.33-py3-none-any.whl (412 kB)\n",
      "\u001b[2K   \u001b[90m━━━━━━━━━━━━━━━━━━━━━━━━━━━━━━━━━━━━━━━━\u001b[0m \u001b[32m412.7/412.7 kB\u001b[0m \u001b[31m26.1 MB/s\u001b[0m eta \u001b[36m0:00:00\u001b[0m\n",
      "\u001b[?25hDownloading langgraph_checkpoint-2.0.10-py3-none-any.whl (37 kB)\n",
      "Downloading langgraph_sdk-0.1.51-py3-none-any.whl (44 kB)\n",
      "\u001b[2K   \u001b[90m━━━━━━━━━━━━━━━━━━━━━━━━━━━━━━━━━━━━━━━━\u001b[0m \u001b[32m44.7/44.7 kB\u001b[0m \u001b[31m3.2 MB/s\u001b[0m eta \u001b[36m0:00:00\u001b[0m\n",
      "\u001b[?25hInstalling collected packages: langsmith, langgraph-sdk, anthropic, langchain-core, langgraph-checkpoint, langchain_anthropic, langgraph\n",
      "  Attempting uninstall: langsmith\n",
      "    Found existing installation: langsmith 0.3.2\n",
      "    Uninstalling langsmith-0.3.2:\n",
      "      Successfully uninstalled langsmith-0.3.2\n",
      "  Attempting uninstall: langchain-core\n",
      "    Found existing installation: langchain-core 0.3.32\n",
      "    Uninstalling langchain-core-0.3.32:\n",
      "      Successfully uninstalled langchain-core-0.3.32\n",
      "Successfully installed anthropic-0.45.2 langchain-core-0.3.33 langchain_anthropic-0.3.6 langgraph-0.2.69 langgraph-checkpoint-2.0.10 langgraph-sdk-0.1.51 langsmith-0.3.6\n"
     ]
    }
   ],
   "source": [
    "!capture --no-stderr\n",
    "!pip install -U langgraph langsmith langchain_anthropic"
   ]
  },
  {
   "cell_type": "code",
   "execution_count": 2,
   "metadata": {
    "colab": {
     "base_uri": "https://localhost:8080/"
    },
    "executionInfo": {
     "elapsed": 18640,
     "status": "ok",
     "timestamp": 1738846989448,
     "user": {
      "displayName": "Charles Wiecha",
      "userId": "08158400620140352840"
     },
     "user_tz": 300
    },
    "id": "G9jf_gdy3XXk",
    "outputId": "24605685-f56e-40a7-d4c3-ec7f9353215a"
   },
   "outputs": [
    {
     "name": "stdout",
     "output_type": "stream",
     "text": [
      "ANTHROPIC_API_KEY: ··········\n"
     ]
    }
   ],
   "source": [
    "import getpass\n",
    "import os\n",
    "\n",
    "\n",
    "def _set_env(var: str):\n",
    "    if not os.environ.get(var):\n",
    "        os.environ[var] = getpass.getpass(f\"{var}: \")\n",
    "\n",
    "\n",
    "_set_env(\"ANTHROPIC_API_KEY\")"
   ]
  },
  {
   "cell_type": "code",
   "execution_count": null,
   "metadata": {
    "id": "dYpbv9JI3h8v"
   },
   "outputs": [],
   "source": [
    "from typing import Annotated\n",
    "\n",
    "from typing_extensions import TypedDict\n",
    "\n",
    "from langgraph.graph import StateGraph, START, END\n",
    "from langgraph.graph.message import add_messages\n",
    "\n",
    "\n",
    "class State(TypedDict):\n",
    "    # Messages have the type \"list\". The `add_messages` function\n",
    "    # in the annotation defines how this state key should be updated\n",
    "    # (in this case, it appends messages to the list, rather than overwriting them)\n",
    "    messages: Annotated[list, add_messages]\n",
    "\n",
    "\n",
    "graph_builder = StateGraph(State)"
   ]
  },
  {
   "cell_type": "code",
   "execution_count": null,
   "metadata": {
    "colab": {
     "base_uri": "https://localhost:8080/"
    },
    "executionInfo": {
     "elapsed": 463,
     "status": "ok",
     "timestamp": 1738169058547,
     "user": {
      "displayName": "Charles Wiecha",
      "userId": "08158400620140352840"
     },
     "user_tz": 300
    },
    "id": "2c6xyrbj5S3O",
    "outputId": "43cd323e-10f2-4b32-c339-fa8cee1c80f1"
   },
   "outputs": [
    {
     "data": {
      "text/plain": [
       "<langgraph.graph.state.StateGraph at 0x7e5d48e29710>"
      ]
     },
     "execution_count": 4,
     "metadata": {},
     "output_type": "execute_result"
    }
   ],
   "source": [
    "from langchain_anthropic import ChatAnthropic\n",
    "\n",
    "llm = ChatAnthropic(model=\"claude-3-5-sonnet-20240620\")\n",
    "\n",
    "\n",
    "def chatbot(state: State):\n",
    "    return {\"messages\": [llm.invoke(state[\"messages\"])]}\n",
    "\n",
    "\n",
    "# The first argument is the unique node name\n",
    "# The second argument is the function or object that will be called whenever\n",
    "# the node is used.\n",
    "graph_builder.add_node(\"chatbot\", chatbot)"
   ]
  },
  {
   "cell_type": "code",
   "execution_count": null,
   "metadata": {
    "colab": {
     "base_uri": "https://localhost:8080/"
    },
    "executionInfo": {
     "elapsed": 130,
     "status": "ok",
     "timestamp": 1738169060407,
     "user": {
      "displayName": "Charles Wiecha",
      "userId": "08158400620140352840"
     },
     "user_tz": 300
    },
    "id": "WVt0WIqd5dZK",
    "outputId": "2ed7e4ae-3538-4a73-be70-c267f9ae08fd"
   },
   "outputs": [
    {
     "data": {
      "text/plain": [
       "<langgraph.graph.state.StateGraph at 0x7e5d48e29710>"
      ]
     },
     "execution_count": 5,
     "metadata": {},
     "output_type": "execute_result"
    }
   ],
   "source": [
    "graph_builder.add_edge(START, \"chatbot\")"
   ]
  },
  {
   "cell_type": "code",
   "execution_count": null,
   "metadata": {
    "id": "sGMGM8zh5hnf"
   },
   "outputs": [],
   "source": [
    "graph = graph_builder.compile()"
   ]
  },
  {
   "cell_type": "code",
   "execution_count": null,
   "metadata": {
    "colab": {
     "base_uri": "https://localhost:8080/",
     "height": 152
    },
    "executionInfo": {
     "elapsed": 171,
     "status": "ok",
     "timestamp": 1738169063200,
     "user": {
      "displayName": "Charles Wiecha",
      "userId": "08158400620140352840"
     },
     "user_tz": 300
    },
    "id": "gOa1dyYy5j7I",
    "outputId": "84cc0388-7c4b-4842-e15d-5cffdb2ac778"
   },
   "outputs": [
    {
     "data": {
      "image/png": "[encoded data removed]",
      "text/plain": [
       "<IPython.core.display.Image object>"
      ]
     },
     "metadata": {},
     "output_type": "display_data"
    }
   ],
   "source": [
    "from IPython.display import Image, display\n",
    "\n",
    "try:\n",
    "    display(Image(graph.get_graph().draw_mermaid_png()))\n",
    "except Exception:\n",
    "    # This requires some extra dependencies and is optional\n",
    "    pass"
   ]
  },
  {
   "cell_type": "code",
   "execution_count": null,
   "metadata": {
    "colab": {
     "base_uri": "https://localhost:8080/"
    },
    "executionInfo": {
     "elapsed": 20178,
     "status": "ok",
     "timestamp": 1738169084915,
     "user": {
      "displayName": "Charles Wiecha",
      "userId": "08158400620140352840"
     },
     "user_tz": 300
    },
    "id": "hcvcgGmG5m9k",
    "outputId": "5d9ef92d-3538-4ad9-a896-ee55ff9efbfe"
   },
   "outputs": [
    {
     "name": "stdout",
     "output_type": "stream",
     "text": [
      "User: how are you today\n",
      "Assistant: As an AI language model, I don't have feelings or experiences, but I'm functioning well and ready to assist you with any questions or information you need. How can I help you today?\n",
      "User: quit\n",
      "Goodbye!\n"
     ]
    }
   ],
   "source": [
    "def stream_graph_updates(user_input: str):\n",
    "    for event in graph.stream({\"messages\": [{\"role\": \"user\", \"content\": user_input}]}):\n",
    "        for value in event.values():\n",
    "            print(\"Assistant:\", value[\"messages\"][-1].content)\n",
    "\n",
    "\n",
    "while True:\n",
    "    try:\n",
    "        user_input = input(\"User: \")\n",
    "        if user_input.lower() in [\"quit\", \"exit\", \"q\"]:\n",
    "            print(\"Goodbye!\")\n",
    "            break\n",
    "\n",
    "        stream_graph_updates(user_input)\n",
    "    except:\n",
    "        # fallback if input() is not available\n",
    "        user_input = \"What do you know about LangGraph?\"\n",
    "        print(\"User: \" + user_input)\n",
    "        stream_graph_updates(user_input)\n",
    "        break"
   ]
  },
  {
   "cell_type": "code",
   "execution_count": 3,
   "metadata": {
    "colab": {
     "base_uri": "https://localhost:8080/"
    },
    "collapsed": true,
    "executionInfo": {
     "elapsed": 7099,
     "status": "ok",
     "timestamp": 1738847015424,
     "user": {
      "displayName": "Charles Wiecha",
      "userId": "08158400620140352840"
     },
     "user_tz": 300
    },
    "id": "6sCGKtYH7Ov0",
    "jupyter": {
     "outputs_hidden": true
    },
    "outputId": "01235ce1-af40-42a1-f430-4b3a09220821"
   },
   "outputs": [
    {
     "name": "stdout",
     "output_type": "stream",
     "text": [
      "Collecting tavily-python\n",
      "  Downloading tavily_python-0.5.0-py3-none-any.whl.metadata (11 kB)\n",
      "Collecting langchain_community\n",
      "  Downloading langchain_community-0.3.16-py3-none-any.whl.metadata (2.9 kB)\n",
      "Requirement already satisfied: requests in /usr/local/lib/python3.11/dist-packages (from tavily-python) (2.32.3)\n",
      "Collecting tiktoken>=0.5.1 (from tavily-python)\n",
      "  Downloading tiktoken-0.8.0-cp311-cp311-manylinux_2_17_x86_64.manylinux2014_x86_64.whl.metadata (6.6 kB)\n",
      "Requirement already satisfied: httpx in /usr/local/lib/python3.11/dist-packages (from tavily-python) (0.28.1)\n",
      "Requirement already satisfied: PyYAML>=5.3 in /usr/local/lib/python3.11/dist-packages (from langchain_community) (6.0.2)\n",
      "Requirement already satisfied: SQLAlchemy<3,>=1.4 in /usr/local/lib/python3.11/dist-packages (from langchain_community) (2.0.37)\n",
      "Requirement already satisfied: aiohttp<4.0.0,>=3.8.3 in /usr/local/lib/python3.11/dist-packages (from langchain_community) (3.11.11)\n",
      "Collecting dataclasses-json<0.7,>=0.5.7 (from langchain_community)\n",
      "  Downloading dataclasses_json-0.6.7-py3-none-any.whl.metadata (25 kB)\n",
      "Collecting httpx-sse<0.5.0,>=0.4.0 (from langchain_community)\n",
      "  Downloading httpx_sse-0.4.0-py3-none-any.whl.metadata (9.0 kB)\n",
      "Requirement already satisfied: langchain<0.4.0,>=0.3.16 in /usr/local/lib/python3.11/dist-packages (from langchain_community) (0.3.16)\n",
      "Requirement already satisfied: langchain-core<0.4.0,>=0.3.32 in /usr/local/lib/python3.11/dist-packages (from langchain_community) (0.3.33)\n",
      "Requirement already satisfied: langsmith<0.4,>=0.1.125 in /usr/local/lib/python3.11/dist-packages (from langchain_community) (0.3.6)\n",
      "Requirement already satisfied: numpy<2,>=1.22.4 in /usr/local/lib/python3.11/dist-packages (from langchain_community) (1.26.4)\n",
      "Collecting pydantic-settings<3.0.0,>=2.4.0 (from langchain_community)\n",
      "  Downloading pydantic_settings-2.7.1-py3-none-any.whl.metadata (3.5 kB)\n",
      "Requirement already satisfied: tenacity!=8.4.0,<10,>=8.1.0 in /usr/local/lib/python3.11/dist-packages (from langchain_community) (9.0.0)\n",
      "Requirement already satisfied: aiohappyeyeballs>=2.3.0 in /usr/local/lib/python3.11/dist-packages (from aiohttp<4.0.0,>=3.8.3->langchain_community) (2.4.4)\n",
      "Requirement already satisfied: aiosignal>=1.1.2 in /usr/local/lib/python3.11/dist-packages (from aiohttp<4.0.0,>=3.8.3->langchain_community) (1.3.2)\n",
      "Requirement already satisfied: attrs>=17.3.0 in /usr/local/lib/python3.11/dist-packages (from aiohttp<4.0.0,>=3.8.3->langchain_community) (25.1.0)\n",
      "Requirement already satisfied: frozenlist>=1.1.1 in /usr/local/lib/python3.11/dist-packages (from aiohttp<4.0.0,>=3.8.3->langchain_community) (1.5.0)\n",
      "Requirement already satisfied: multidict<7.0,>=4.5 in /usr/local/lib/python3.11/dist-packages (from aiohttp<4.0.0,>=3.8.3->langchain_community) (6.1.0)\n",
      "Requirement already satisfied: propcache>=0.2.0 in /usr/local/lib/python3.11/dist-packages (from aiohttp<4.0.0,>=3.8.3->langchain_community) (0.2.1)\n",
      "Requirement already satisfied: yarl<2.0,>=1.17.0 in /usr/local/lib/python3.11/dist-packages (from aiohttp<4.0.0,>=3.8.3->langchain_community) (1.18.3)\n",
      "Collecting marshmallow<4.0.0,>=3.18.0 (from dataclasses-json<0.7,>=0.5.7->langchain_community)\n",
      "  Downloading marshmallow-3.26.1-py3-none-any.whl.metadata (7.3 kB)\n",
      "Collecting typing-inspect<1,>=0.4.0 (from dataclasses-json<0.7,>=0.5.7->langchain_community)\n",
      "  Downloading typing_inspect-0.9.0-py3-none-any.whl.metadata (1.5 kB)\n",
      "Requirement already satisfied: langchain-text-splitters<0.4.0,>=0.3.3 in /usr/local/lib/python3.11/dist-packages (from langchain<0.4.0,>=0.3.16->langchain_community) (0.3.5)\n",
      "Requirement already satisfied: pydantic<3.0.0,>=2.7.4 in /usr/local/lib/python3.11/dist-packages (from langchain<0.4.0,>=0.3.16->langchain_community) (2.10.6)\n",
      "Requirement already satisfied: jsonpatch<2.0,>=1.33 in /usr/local/lib/python3.11/dist-packages (from langchain-core<0.4.0,>=0.3.32->langchain_community) (1.33)\n",
      "Requirement already satisfied: packaging<25,>=23.2 in /usr/local/lib/python3.11/dist-packages (from langchain-core<0.4.0,>=0.3.32->langchain_community) (24.2)\n",
      "Requirement already satisfied: typing-extensions>=4.7 in /usr/local/lib/python3.11/dist-packages (from langchain-core<0.4.0,>=0.3.32->langchain_community) (4.12.2)\n",
      "Requirement already satisfied: orjson<4.0.0,>=3.9.14 in /usr/local/lib/python3.11/dist-packages (from langsmith<0.4,>=0.1.125->langchain_community) (3.10.15)\n",
      "Requirement already satisfied: requests-toolbelt<2.0.0,>=1.0.0 in /usr/local/lib/python3.11/dist-packages (from langsmith<0.4,>=0.1.125->langchain_community) (1.0.0)\n",
      "Requirement already satisfied: zstandard<0.24.0,>=0.23.0 in /usr/local/lib/python3.11/dist-packages (from langsmith<0.4,>=0.1.125->langchain_community) (0.23.0)\n",
      "Requirement already satisfied: anyio in /usr/local/lib/python3.11/dist-packages (from httpx->tavily-python) (3.7.1)\n",
      "Requirement already satisfied: certifi in /usr/local/lib/python3.11/dist-packages (from httpx->tavily-python) (2024.12.14)\n",
      "Requirement already satisfied: httpcore==1.* in /usr/local/lib/python3.11/dist-packages (from httpx->tavily-python) (1.0.7)\n",
      "Requirement already satisfied: idna in /usr/local/lib/python3.11/dist-packages (from httpx->tavily-python) (3.10)\n",
      "Requirement already satisfied: h11<0.15,>=0.13 in /usr/local/lib/python3.11/dist-packages (from httpcore==1.*->httpx->tavily-python) (0.14.0)\n",
      "Collecting python-dotenv>=0.21.0 (from pydantic-settings<3.0.0,>=2.4.0->langchain_community)\n",
      "  Downloading python_dotenv-1.0.1-py3-none-any.whl.metadata (23 kB)\n",
      "Requirement already satisfied: charset-normalizer<4,>=2 in /usr/local/lib/python3.11/dist-packages (from requests->tavily-python) (3.4.1)\n",
      "Requirement already satisfied: urllib3<3,>=1.21.1 in /usr/local/lib/python3.11/dist-packages (from requests->tavily-python) (2.3.0)\n",
      "Requirement already satisfied: greenlet!=0.4.17 in /usr/local/lib/python3.11/dist-packages (from SQLAlchemy<3,>=1.4->langchain_community) (3.1.1)\n",
      "Requirement already satisfied: regex>=2022.1.18 in /usr/local/lib/python3.11/dist-packages (from tiktoken>=0.5.1->tavily-python) (2024.11.6)\n",
      "Requirement already satisfied: jsonpointer>=1.9 in /usr/local/lib/python3.11/dist-packages (from jsonpatch<2.0,>=1.33->langchain-core<0.4.0,>=0.3.32->langchain_community) (3.0.0)\n",
      "Requirement already satisfied: annotated-types>=0.6.0 in /usr/local/lib/python3.11/dist-packages (from pydantic<3.0.0,>=2.7.4->langchain<0.4.0,>=0.3.16->langchain_community) (0.7.0)\n",
      "Requirement already satisfied: pydantic-core==2.27.2 in /usr/local/lib/python3.11/dist-packages (from pydantic<3.0.0,>=2.7.4->langchain<0.4.0,>=0.3.16->langchain_community) (2.27.2)\n",
      "Collecting mypy-extensions>=0.3.0 (from typing-inspect<1,>=0.4.0->dataclasses-json<0.7,>=0.5.7->langchain_community)\n",
      "  Downloading mypy_extensions-1.0.0-py3-none-any.whl.metadata (1.1 kB)\n",
      "Requirement already satisfied: sniffio>=1.1 in /usr/local/lib/python3.11/dist-packages (from anyio->httpx->tavily-python) (1.3.1)\n",
      "Downloading tavily_python-0.5.0-py3-none-any.whl (14 kB)\n",
      "Downloading langchain_community-0.3.16-py3-none-any.whl (2.5 MB)\n",
      "\u001b[2K   \u001b[90m━━━━━━━━━━━━━━━━━━━━━━━━━━━━━━━━━━━━━━━━\u001b[0m \u001b[32m2.5/2.5 MB\u001b[0m \u001b[31m43.4 MB/s\u001b[0m eta \u001b[36m0:00:00\u001b[0m\n",
      "\u001b[?25hDownloading dataclasses_json-0.6.7-py3-none-any.whl (28 kB)\n",
      "Downloading httpx_sse-0.4.0-py3-none-any.whl (7.8 kB)\n",
      "Downloading pydantic_settings-2.7.1-py3-none-any.whl (29 kB)\n",
      "Downloading tiktoken-0.8.0-cp311-cp311-manylinux_2_17_x86_64.manylinux2014_x86_64.whl (1.2 MB)\n",
      "\u001b[2K   \u001b[90m━━━━━━━━━━━━━━━━━━━━━━━━━━━━━━━━━━━━━━━━\u001b[0m \u001b[32m1.2/1.2 MB\u001b[0m \u001b[31m47.1 MB/s\u001b[0m eta \u001b[36m0:00:00\u001b[0m\n",
      "\u001b[?25hDownloading marshmallow-3.26.1-py3-none-any.whl (50 kB)\n",
      "\u001b[2K   \u001b[90m━━━━━━━━━━━━━━━━━━━━━━━━━━━━━━━━━━━━━━━━\u001b[0m \u001b[32m50.9/50.9 kB\u001b[0m \u001b[31m4.4 MB/s\u001b[0m eta \u001b[36m0:00:00\u001b[0m\n",
      "\u001b[?25hDownloading python_dotenv-1.0.1-py3-none-any.whl (19 kB)\n",
      "Downloading typing_inspect-0.9.0-py3-none-any.whl (8.8 kB)\n",
      "Downloading mypy_extensions-1.0.0-py3-none-any.whl (4.7 kB)\n",
      "Installing collected packages: python-dotenv, mypy-extensions, marshmallow, httpx-sse, typing-inspect, tiktoken, tavily-python, pydantic-settings, dataclasses-json, langchain_community\n",
      "Successfully installed dataclasses-json-0.6.7 httpx-sse-0.4.0 langchain_community-0.3.16 marshmallow-3.26.1 mypy-extensions-1.0.0 pydantic-settings-2.7.1 python-dotenv-1.0.1 tavily-python-0.5.0 tiktoken-0.8.0 typing-inspect-0.9.0\n"
     ]
    }
   ],
   "source": [
    "!pip install -U tavily-python langchain_community"
   ]
  },
  {
   "cell_type": "code",
   "execution_count": 4,
   "metadata": {
    "colab": {
     "base_uri": "https://localhost:8080/"
    },
    "executionInfo": {
     "elapsed": 23533,
     "status": "ok",
     "timestamp": 1738847043335,
     "user": {
      "displayName": "Charles Wiecha",
      "userId": "08158400620140352840"
     },
     "user_tz": 300
    },
    "id": "F1ChhfL49BVI",
    "outputId": "0ce3cbe4-3322-4680-f8fc-a696475b2a24"
   },
   "outputs": [
    {
     "name": "stdout",
     "output_type": "stream",
     "text": [
      "TAVILY_API_KEY: ··········\n"
     ]
    }
   ],
   "source": [
    "_set_env(\"TAVILY_API_KEY\")"
   ]
  },
  {
   "cell_type": "code",
   "execution_count": 5,
   "metadata": {
    "colab": {
     "base_uri": "https://localhost:8080/"
    },
    "executionInfo": {
     "elapsed": 3454,
     "status": "ok",
     "timestamp": 1738847063697,
     "user": {
      "displayName": "Charles Wiecha",
      "userId": "08158400620140352840"
     },
     "user_tz": 300
    },
    "id": "iIXuGfkd9EbY",
    "outputId": "fc0fba70-85a7-4a1a-b67f-afe8842f4ae9"
   },
   "outputs": [
    {
     "data": {
      "text/plain": [
       "[{'url': 'https://www.datacamp.com/tutorial/langgraph-tutorial',\n",
       "  'content': 'Nodes: Nodes represent units of work within your LangGraph. They are typically Python functions that perform a specific task, such as:.'},\n",
       " {'url': 'https://medium.com/@cplog/introduction-to-langgraph-a-beginners-guide-14f9be027141',\n",
       "  'content': 'Nodes: Nodes are the building blocks of your LangGraph. Each node represents a function or a computation step . You define nodes to perform'}]"
      ]
     },
     "execution_count": 5,
     "metadata": {},
     "output_type": "execute_result"
    }
   ],
   "source": [
    "from langchain_community.tools.tavily_search import TavilySearchResults\n",
    "\n",
    "tool = TavilySearchResults(max_results=2)\n",
    "tools = [tool]\n",
    "tool.invoke(\"What's a 'node' in LangGraph?\")"
   ]
  },
  {
   "cell_type": "code",
   "execution_count": 6,
   "metadata": {
    "colab": {
     "base_uri": "https://localhost:8080/"
    },
    "executionInfo": {
     "elapsed": 724,
     "status": "ok",
     "timestamp": 1738847074890,
     "user": {
      "displayName": "Charles Wiecha",
      "userId": "08158400620140352840"
     },
     "user_tz": 300
    },
    "id": "VwlFGh-99MyV",
    "outputId": "0169f0ea-b0b1-448b-ab05-4d9ed1e26f7e"
   },
   "outputs": [
    {
     "data": {
      "text/plain": [
       "<langgraph.graph.state.StateGraph at 0x7fadb4ea6090>"
      ]
     },
     "execution_count": 6,
     "metadata": {},
     "output_type": "execute_result"
    }
   ],
   "source": [
    "from typing import Annotated\n",
    "\n",
    "from langchain_anthropic import ChatAnthropic\n",
    "from typing_extensions import TypedDict\n",
    "\n",
    "from langgraph.graph import StateGraph, START, END\n",
    "from langgraph.graph.message import add_messages\n",
    "\n",
    "\n",
    "class State(TypedDict):\n",
    "    messages: Annotated[list, add_messages]\n",
    "\n",
    "\n",
    "graph_builder = StateGraph(State)\n",
    "\n",
    "\n",
    "llm = ChatAnthropic(model=\"claude-3-5-sonnet-20240620\")\n",
    "# Modification: tell the LLM which tools it can call\n",
    "llm_with_tools = llm.bind_tools(tools)\n",
    "\n",
    "\n",
    "def chatbot(state: State):\n",
    "    return {\"messages\": [llm_with_tools.invoke(state[\"messages\"])]}\n",
    "\n",
    "\n",
    "graph_builder.add_node(\"chatbot\", chatbot)"
   ]
  },
  {
   "cell_type": "code",
   "execution_count": 9,
   "metadata": {
    "colab": {
     "base_uri": "https://localhost:8080/"
    },
    "executionInfo": {
     "elapsed": 128,
     "status": "ok",
     "timestamp": 1738847712225,
     "user": {
      "displayName": "Charles Wiecha",
      "userId": "08158400620140352840"
     },
     "user_tz": 300
    },
    "id": "V9E4b1dc9WMi",
    "outputId": "34cd7342-9414-4d6e-eb5a-361b963f0136"
   },
   "outputs": [
    {
     "data": {
      "text/plain": [
       "<langgraph.graph.state.StateGraph at 0x7fadb4ea6090>"
      ]
     },
     "execution_count": 9,
     "metadata": {},
     "output_type": "execute_result"
    }
   ],
   "source": [
    "import json\n",
    "\n",
    "from langchain_core.messages import ToolMessage\n",
    "\n",
    "\n",
    "class BasicToolNode:\n",
    "    \"\"\"A node that runs the tools requested in the last AIMessage.\"\"\"\n",
    "\n",
    "    def __init__(self, tools: list) -> None:\n",
    "        self.tools_by_name = {tool.name: tool for tool in tools}\n",
    "\n",
    "    def __call__(self, inputs: dict):\n",
    "        if messages := inputs.get(\"messages\", []):\n",
    "            message = messages[-1]\n",
    "        else:\n",
    "            raise ValueError(\"No message found in input\")\n",
    "        outputs = []\n",
    "        for tool_call in message.tool_calls:\n",
    "            tool_result = self.tools_by_name[tool_call[\"name\"]].invoke(\n",
    "                tool_call[\"args\"]\n",
    "            )\n",
    "            outputs.append(\n",
    "                ToolMessage(\n",
    "                    content=json.dumps(tool_result),\n",
    "                    name=tool_call[\"name\"],\n",
    "                    tool_call_id=tool_call[\"id\"],\n",
    "                )\n",
    "            )\n",
    "        return {\"messages\": outputs}\n",
    "\n",
    "\n",
    "tool_node = BasicToolNode(tools=[tool])\n",
    "graph_builder.add_node(\"tools\", tool_node)"
   ]
  },
  {
   "cell_type": "code",
   "execution_count": 10,
   "metadata": {
    "executionInfo": {
     "elapsed": 179,
     "status": "ok",
     "timestamp": 1738847992400,
     "user": {
      "displayName": "Charles Wiecha",
      "userId": "08158400620140352840"
     },
     "user_tz": 300
    },
    "id": "JhNuO3eV9hw7"
   },
   "outputs": [],
   "source": [
    "def route_tools(\n",
    "    state: State,\n",
    "):\n",
    "    \"\"\"\n",
    "    Use in the conditional_edge to route to the ToolNode if the last message\n",
    "    has tool calls. Otherwise, route to the end.\n",
    "    \"\"\"\n",
    "    if isinstance(state, list):\n",
    "        ai_message = state[-1]\n",
    "    elif messages := state.get(\"messages\", []):\n",
    "        ai_message = messages[-1]\n",
    "    else:\n",
    "        raise ValueError(f\"No messages found in input state to tool_edge: {state}\")\n",
    "    if hasattr(ai_message, \"tool_calls\") and len(ai_message.tool_calls) > 0:\n",
    "        return \"tools\"\n",
    "    return END\n",
    "\n",
    "\n",
    "# The `tools_condition` function returns \"tools\" if the chatbot asks to use a tool, and \"END\" if\n",
    "# it is fine directly responding. This conditional routing defines the main agent loop.\n",
    "graph_builder.add_conditional_edges(\n",
    "    \"chatbot\",\n",
    "    route_tools,\n",
    "    # The following dictionary lets you tell the graph to interpret the condition's outputs as a specific node\n",
    "    # It defaults to the identity function, but if you\n",
    "    # want to use a node named something else apart from \"tools\",\n",
    "    # You can update the value of the dictionary to something else\n",
    "    # e.g., \"tools\": \"my_tools\"\n",
    "    {\"tools\": \"tools\", END: END},\n",
    ")\n",
    "# Any time a tool is called, we return to the chatbot to decide the next step\n",
    "graph_builder.add_edge(\"tools\", \"chatbot\")\n",
    "graph_builder.add_edge(START, \"chatbot\")\n",
    "graph = graph_builder.compile()"
   ]
  },
  {
   "cell_type": "code",
   "execution_count": 11,
   "metadata": {
    "colab": {
     "base_uri": "https://localhost:8080/",
     "height": 286
    },
    "executionInfo": {
     "elapsed": 322,
     "status": "ok",
     "timestamp": 1738847997544,
     "user": {
      "displayName": "Charles Wiecha",
      "userId": "08158400620140352840"
     },
     "user_tz": 300
    },
    "id": "4eIQpTG99tqv",
    "outputId": "8c581ba5-d87d-4ecd-ba82-9d16cd4036cd"
   },
   "outputs": [
    {
     "data": {
      "image/png": "[encoded data removed]",
      "text/plain": [
       "<IPython.core.display.Image object>"
      ]
     },
     "metadata": {},
     "output_type": "display_data"
    }
   ],
   "source": [
    "from IPython.display import Image, display\n",
    "\n",
    "try:\n",
    "    display(Image(graph.get_graph().draw_mermaid_png()))\n",
    "except Exception:\n",
    "    # This requires some extra dependencies and is optional\n",
    "    pass"
   ]
  },
  {
   "cell_type": "code",
   "execution_count": 13,
   "metadata": {
    "colab": {
     "base_uri": "https://localhost:8080/"
    },
    "executionInfo": {
     "elapsed": 146799,
     "status": "ok",
     "timestamp": 1738848956479,
     "user": {
      "displayName": "Charles Wiecha",
      "userId": "08158400620140352840"
     },
     "user_tz": 300
    },
    "id": "pawoRhu6-Ap6",
    "outputId": "2a1bd641-b504-471a-eaae-b7afbdc75d13"
   },
   "outputs": [
    {
     "name": "stdout",
     "output_type": "stream",
     "text": [
      "User: what is the temperature in NYC now?\n",
      "Assistant: [{'text': \"To answer your question about the current temperature in New York City, I'll need to search for real-time weather information. Let me use the search function to find this information for you.\", 'type': 'text'}, {'id': 'toolu_01BDzFZveDPGTae7gc8b6bjr', 'input': {'query': 'current temperature in New York City'}, 'name': 'tavily_search_results_json', 'type': 'tool_use'}]\n",
      "Assistant: [{\"url\": \"https://www.accuweather.com/en/us/new-york/10021/current-weather/349727\", \"content\": \"Current Weather. 11:47 PM. 32\\u00b0F. Cloudy.\"}, {\"url\": \"https://www.timeanddate.com/weather/usa/new-york\", \"content\": \"Home \\u00a0 Weather \\u00a0 USA \\u00a0 New York Weather 62\\u00a0\\u00b0F Current Time:   Nov 18, 2024 at 5:36:58 pm Forecast for the next 48 hours Forecast                           * Updated Monday, November 18, 2024 2:02:54 pm New York time - Weather by CustomWeather, \\u00a9 2024 62 / 45\\u00a0\\u00b0F More weather last week 63\\u00a0\\u00b0F 62\\u00a0\\u00b0F 64\\u00a0\\u00b0F More weather in USA 60 / 45\\u00a0\\u00b0F 57 / 49\\u00a0\\u00b0F 55 / 40\\u00a0\\u00b0F 45 / 37\\u00a0\\u00b0F 52 / 38\\u00a0\\u00b0F 50 / 42\\u00a0\\u00b0F 52 / 41\\u00a0\\u00b0F 49 / 42\\u00a0\\u00b0F 44 / 39\\u00a0\\u00b0F 48 / 40\\u00a0\\u00b0F 48 / 42\\u00a0\\u00b0F 49 / 40\\u00a0\\u00b0F 52 / 42\\u00a0\\u00b0F 51 / 44\\u00a0\\u00b0F 52 / 41\\u00a0\\u00b0F Privacy Policy Weather\"}]\n",
      "Assistant: Based on the search results, I can provide you with the current temperature in New York City. However, I noticed that there are two different sources with slightly different information, likely due to the time of the search and the specific location within NYC. Let me break it down for you:\n",
      "\n",
      "1. According to AccuWeather (which seems to be more current):\n",
      "   The temperature in New York City is 32°F (0°C).\n",
      "   This information was reported at 11:47 PM, and the weather is described as cloudy.\n",
      "\n",
      "2. Another source (timeanddate.com) shows:\n",
      "   The temperature in New York City is 62°F (about 17°C).\n",
      "   This information seems to be from a different time (5:36:58 pm) and possibly a different day.\n",
      "\n",
      "Given the significant difference between these two temperatures, it's likely that the AccuWeather information is more current and accurate for the present moment, especially since it includes a specific time that seems more recent.\n",
      "\n",
      "To summarize: The current temperature in New York City is most likely 32°F (0°C), and it's cloudy. However, please note that temperatures can change quickly, and there might be variations depending on the exact location within the city.\n",
      "\n",
      "If you need a more precise or up-to-the-minute temperature, you might want to check a local weather service or a reliable weather app for the most current information.\n",
      "User: what are rob colors\n",
      "Assistant: I apologize, but I'm not entirely sure what you mean by \"rob colors.\" There are a few possibilities:\n",
      "\n",
      "1. You might have meant \"RGB colors,\" which refers to the Red, Green, Blue color model used in digital displays.\n",
      "2. You could be asking about colors associated with someone named Rob.\n",
      "3. There might be a specific context or brand called \"rob colors\" that I'm not aware of.\n",
      "\n",
      "To provide you with the most accurate information, could you please clarify what you meant by \"rob colors\"? Once you provide more context, I'll be able to search for the relevant information and give you a more helpful answer.\n",
      "User: how do I make an omlette\n",
      "Assistant: To answer your question about how to make an omelette, I don't need to use any external tools as this is a basic cooking technique that doesn't require current information. I can provide you with a general guide on how to make an omelette:\n",
      "\n",
      "1. Crack 2-3 eggs into a bowl and beat them with a fork or whisk until well combined. You can add a splash of milk or water if you like for a fluffier texture.\n",
      "\n",
      "2. Season the eggs with salt and pepper to taste.\n",
      "\n",
      "3. Heat a non-stick frying pan over medium heat and add a small amount of butter or oil.\n",
      "\n",
      "4. Once the pan is hot, pour in the beaten eggs.\n",
      "\n",
      "5. As the eggs begin to set, use a spatula to gently push the cooked edges towards the center of the pan, tilting the pan to allow the uncooked egg to flow to the edges.\n",
      "\n",
      "6. When the omelette is mostly set but still slightly runny on top, add your chosen fillings (like cheese, ham, vegetables) to one half of the omelette.\n",
      "\n",
      "7. Fold the other half of the omelette over the fillings.\n",
      "\n",
      "8. Cook for another minute or so until the cheese melts (if using) and the omelette is fully set.\n",
      "\n",
      "9. Slide the omelette onto a plate and serve immediately.\n",
      "\n",
      "This is a basic method, but there are many variations and personal preferences when it comes to making omelettes. If you'd like more specific information or have any questions about particular techniques or ingredients, please feel free to ask!\n",
      "User: quit\n",
      "Goodbye!\n"
     ]
    }
   ],
   "source": [
    "def stream_graph_updates(user_input: str):\n",
    "    for event in graph.stream({\"messages\": [{\"role\": \"user\", \"content\": user_input}]}):\n",
    "        for value in event.values():\n",
    "            print(\"Assistant:\", value[\"messages\"][-1].content)\n",
    "\n",
    "while True:\n",
    "    try:\n",
    "        user_input = input(\"User: \")\n",
    "        if user_input.lower() in [\"quit\", \"exit\", \"q\"]:\n",
    "            print(\"Goodbye!\")\n",
    "            break\n",
    "\n",
    "        stream_graph_updates(user_input)\n",
    "    except:\n",
    "        # fallback if input() is not available\n",
    "        user_input = \"What do you know about LangGraph?\"\n",
    "        print(\"User: \" + user_input)\n",
    "        stream_graph_updates(user_input)\n",
    "        break"
   ]
  },
  {
   "cell_type": "code",
   "execution_count": 15,
   "metadata": {
    "colab": {
     "base_uri": "https://localhost:8080/",
     "height": 292
    },
    "executionInfo": {
     "elapsed": 213,
     "status": "error",
     "timestamp": 1738848997625,
     "user": {
      "displayName": "Charles Wiecha",
      "userId": "08158400620140352840"
     },
     "user_tz": 300
    },
    "id": "ZmySuhyeebc1",
    "outputId": "891e6f75-5d58-45d3-d470-a86ccc64583c"
   },
   "outputs": [
    {
     "ename": "ValueError",
     "evalue": "No checkpointer set",
     "output_type": "error",
     "traceback": [
      "\u001b[0;31m---------------------------------------------------------------------------\u001b[0m",
      "\u001b[0;31mValueError\u001b[0m                                Traceback (most recent call last)",
      "\u001b[0;32m<ipython-input-15-cd52240e342b>\u001b[0m in \u001b[0;36m<cell line: 0>\u001b[0;34m()\u001b[0m\n\u001b[1;32m      1\u001b[0m \u001b[0mconfig\u001b[0m \u001b[0;34m=\u001b[0m \u001b[0;34m{\u001b[0m\u001b[0;34m\"configurable\"\u001b[0m\u001b[0;34m:\u001b[0m \u001b[0;34m{\u001b[0m\u001b[0;34m\"thread_id\"\u001b[0m\u001b[0;34m:\u001b[0m \u001b[0;34m\"1\"\u001b[0m\u001b[0;34m}\u001b[0m\u001b[0;34m}\u001b[0m\u001b[0;34m\u001b[0m\u001b[0;34m\u001b[0m\u001b[0m\n\u001b[0;32m----> 2\u001b[0;31m \u001b[0mlist\u001b[0m\u001b[0;34m(\u001b[0m\u001b[0mgraph\u001b[0m\u001b[0;34m.\u001b[0m\u001b[0mget_state_history\u001b[0m\u001b[0;34m(\u001b[0m\u001b[0mconfig\u001b[0m\u001b[0;34m)\u001b[0m\u001b[0;34m)\u001b[0m\u001b[0;34m\u001b[0m\u001b[0;34m\u001b[0m\u001b[0m\n\u001b[0m",
      "\u001b[0;32m/usr/local/lib/python3.11/dist-packages/langgraph/pregel/__init__.py\u001b[0m in \u001b[0;36mget_state_history\u001b[0;34m(self, config, filter, before, limit)\u001b[0m\n\u001b[1;32m    768\u001b[0m         )\n\u001b[1;32m    769\u001b[0m         \u001b[0;32mif\u001b[0m \u001b[0;32mnot\u001b[0m \u001b[0mcheckpointer\u001b[0m\u001b[0;34m:\u001b[0m\u001b[0;34m\u001b[0m\u001b[0;34m\u001b[0m\u001b[0m\n\u001b[0;32m--> 770\u001b[0;31m             \u001b[0;32mraise\u001b[0m \u001b[0mValueError\u001b[0m\u001b[0;34m(\u001b[0m\u001b[0;34m\"No checkpointer set\"\u001b[0m\u001b[0;34m)\u001b[0m\u001b[0;34m\u001b[0m\u001b[0;34m\u001b[0m\u001b[0m\n\u001b[0m\u001b[1;32m    771\u001b[0m \u001b[0;34m\u001b[0m\u001b[0m\n\u001b[1;32m    772\u001b[0m         if (\n",
      "\u001b[0;31mValueError\u001b[0m: No checkpointer set"
     ]
    }
   ],
   "source": [
    "config = {\"configurable\": {\"thread_id\": \"1\"}}\n",
    "list(graph.get_state_history(config))"
   ]
  },
  {
   "cell_type": "code",
   "execution_count": 14,
   "metadata": {
    "executionInfo": {
     "elapsed": 3,
     "status": "ok",
     "timestamp": 1738848956479,
     "user": {
      "displayName": "Charles Wiecha",
      "userId": "08158400620140352840"
     },
     "user_tz": 300
    },
    "id": "DK6NxjPm--8W"
   },
   "outputs": [],
   "source": [
    "from langgraph.checkpoint.memory import MemorySaver\n",
    "\n",
    "memory = MemorySaver()"
   ]
  },
  {
   "cell_type": "code",
   "execution_count": null,
   "metadata": {
    "colab": {
     "base_uri": "https://localhost:8080/"
    },
    "executionInfo": {
     "elapsed": 4,
     "status": "ok",
     "timestamp": 1738169919159,
     "user": {
      "displayName": "Charles Wiecha",
      "userId": "08158400620140352840"
     },
     "user_tz": 300
    },
    "id": "GIw4UMMp_WSa",
    "outputId": "b2ef505f-fde8-4808-a837-0ab24cf5511c"
   },
   "outputs": [
    {
     "data": {
      "text/plain": [
       "<langgraph.graph.state.StateGraph at 0x7e5d48a3ac10>"
      ]
     },
     "execution_count": 18,
     "metadata": {},
     "output_type": "execute_result"
    }
   ],
   "source": [
    "from typing import Annotated\n",
    "\n",
    "from langchain_anthropic import ChatAnthropic\n",
    "from langchain_community.tools.tavily_search import TavilySearchResults\n",
    "from langchain_core.messages import BaseMessage\n",
    "from typing_extensions import TypedDict\n",
    "\n",
    "from langgraph.graph import StateGraph, START, END\n",
    "from langgraph.graph.message import add_messages\n",
    "from langgraph.prebuilt import ToolNode, tools_condition\n",
    "\n",
    "\n",
    "class State(TypedDict):\n",
    "    messages: Annotated[list, add_messages]\n",
    "\n",
    "\n",
    "graph_builder = StateGraph(State)\n",
    "\n",
    "\n",
    "tool = TavilySearchResults(max_results=2)\n",
    "tools = [tool]\n",
    "llm = ChatAnthropic(model=\"claude-3-5-sonnet-20240620\")\n",
    "llm_with_tools = llm.bind_tools(tools)\n",
    "\n",
    "\n",
    "def chatbot(state: State):\n",
    "    return {\"messages\": [llm_with_tools.invoke(state[\"messages\"])]}\n",
    "\n",
    "\n",
    "graph_builder.add_node(\"chatbot\", chatbot)\n",
    "\n",
    "tool_node = ToolNode(tools=[tool])\n",
    "graph_builder.add_node(\"tools\", tool_node)\n",
    "\n",
    "graph_builder.add_conditional_edges(\n",
    "    \"chatbot\",\n",
    "    tools_condition,\n",
    ")\n",
    "# Any time a tool is called, we return to the chatbot to decide the next step\n",
    "graph_builder.add_edge(\"tools\", \"chatbot\")\n",
    "graph_builder.add_edge(START, \"chatbot\")"
   ]
  },
  {
   "cell_type": "code",
   "execution_count": null,
   "metadata": {
    "id": "hIo4b7m8_d9J"
   },
   "outputs": [],
   "source": [
    "graph = graph_builder.compile(checkpointer=memory)"
   ]
  },
  {
   "cell_type": "code",
   "execution_count": null,
   "metadata": {
    "colab": {
     "base_uri": "https://localhost:8080/",
     "height": 266
    },
    "executionInfo": {
     "elapsed": 196,
     "status": "ok",
     "timestamp": 1738169919352,
     "user": {
      "displayName": "Charles Wiecha",
      "userId": "08158400620140352840"
     },
     "user_tz": 300
    },
    "id": "1UBjvm77_4Qs",
    "outputId": "db331621-ef9e-4aca-e84d-9cb78d0126bf"
   },
   "outputs": [
    {
     "data": {
      "image/png": "[encoded data removed]",
      "text/plain": [
       "<IPython.core.display.Image object>"
      ]
     },
     "metadata": {},
     "output_type": "display_data"
    }
   ],
   "source": [
    "from IPython.display import Image, display\n",
    "\n",
    "try:\n",
    "    display(Image(graph.get_graph().draw_mermaid_png()))\n",
    "except Exception:\n",
    "    # This requires some extra dependencies and is optional\n",
    "    pass"
   ]
  },
  {
   "cell_type": "code",
   "execution_count": null,
   "metadata": {
    "id": "79yNDJ8s_56n"
   },
   "outputs": [],
   "source": [
    "config = {\"configurable\": {\"thread_id\": \"1\"}}"
   ]
  },
  {
   "cell_type": "code",
   "execution_count": null,
   "metadata": {
    "colab": {
     "base_uri": "https://localhost:8080/"
    },
    "executionInfo": {
     "elapsed": 4774,
     "status": "ok",
     "timestamp": 1738170057959,
     "user": {
      "displayName": "Charles Wiecha",
      "userId": "08158400620140352840"
     },
     "user_tz": 300
    },
    "id": "4ox3cRaYAL8J",
    "outputId": "0c86c8e6-88f0-4d10-d0d7-ad1d22540838"
   },
   "outputs": [
    {
     "name": "stdout",
     "output_type": "stream",
     "text": [
      "================================\u001b[1m Human Message \u001b[0m=================================\n",
      "\n",
      "cyan.\n",
      "==================================\u001b[1m Ai Message \u001b[0m==================================\n",
      "\n",
      "Certainly! I'd be happy to provide you with the RGB value for cyan. Like magenta and yellow, cyan is a standard color that I have information about without needing to use external tools.\n",
      "\n",
      "The RGB value for cyan is:\n",
      "\n",
      "R: 0\n",
      "G: 255\n",
      "B: 255\n",
      "\n",
      "In hexadecimal notation, this is represented as #00FFFF.\n",
      "\n",
      "Some interesting facts about cyan:\n",
      "\n",
      "1. Cyan is created by combining full green and full blue, with no red.\n",
      "2. It's one of the primary colors in the subtractive color model (CMYK) used in printing, along with magenta and yellow.\n",
      "3. In the additive color model (RGB) used in digital displays, cyan is considered a secondary color.\n",
      "4. Cyan is often associated with calmness, cleanliness, and technology.\n",
      "5. In nature, cyan can be seen in the color of clear skies and tropical waters.\n",
      "6. The name \"cyan\" comes from the Greek word \"kyanos,\" meaning dark blue enamel or lapis lazuli.\n",
      "\n",
      "Cyan, along with magenta and yellow that we discussed earlier, form the basis of the CMYK color model used in color printing. When combined in various amounts, these three colors (plus black) can create a wide range of colors on printed materials.\n",
      "\n",
      "Is there anything else you'd like to know about cyan or any other colors? Or perhaps you're interested in how these colors relate to each other in different color models?\n"
     ]
    }
   ],
   "source": [
    "user_input = \"cyan.\"\n",
    "\n",
    "# The config is the **second positional argument** to stream() or invoke()!\n",
    "events = graph.stream(\n",
    "    {\"messages\": [{\"role\": \"user\", \"content\": user_input}]},\n",
    "    config,\n",
    "    stream_mode=\"values\",\n",
    ")\n",
    "for event in events:\n",
    "    event[\"messages\"][-1].pretty_print()"
   ]
  },
  {
   "cell_type": "code",
   "execution_count": null,
   "metadata": {
    "colab": {
     "base_uri": "https://localhost:8080/"
    },
    "executionInfo": {
     "elapsed": 194,
     "status": "ok",
     "timestamp": 1738170098836,
     "user": {
      "displayName": "Charles Wiecha",
      "userId": "08158400620140352840"
     },
     "user_tz": 300
    },
    "id": "GnSMAP3eAV7h",
    "outputId": "71537b04-d2bf-4720-b374-f8b223cfbfa4"
   },
   "outputs": [
    {
     "data": {
      "text/plain": [
       "StateSnapshot(values={'messages': [HumanMessage(content='what is the rgb value for magenta.', additional_kwargs={}, response_metadata={}, id='a5b16d48-4dab-42d7-9d29-179fbff51688'), AIMessage(content=\"To answer your question about the RGB value for magenta, I don't need to use any external tools as this is a standard color definition that I already know. \\n\\nThe RGB value for magenta is:\\n\\nR: 255\\nG: 0\\nB: 255\\n\\nIn hexadecimal notation, this is represented as #FF00FF.\\n\\nMagenta is a pure, vivid color that is created by combining full red and full blue, with no green. It's one of the primary colors in the subtractive color model (CMYK) used in printing, and it's also one of the secondary colors in the additive color model (RGB) used in digital displays.\\n\\nIs there anything else you'd like to know about magenta or color values?\", additional_kwargs={}, response_metadata={'id': 'msg_016eK2YsPjvwBksVwhcwUvQe', 'model': 'claude-3-5-sonnet-20240620', 'stop_reason': 'end_turn', 'stop_sequence': None, 'usage': {'cache_creation_input_tokens': 0, 'cache_read_input_tokens': 0, 'input_tokens': 406, 'output_tokens': 167}}, id='run-4aec97c5-3269-4dad-af42-fd44b52c013a-0', usage_metadata={'input_tokens': 406, 'output_tokens': 167, 'total_tokens': 573, 'input_token_details': {'cache_creation': 0, 'cache_read': 0}}), HumanMessage(content='what about yellow.', additional_kwargs={}, response_metadata={}, id='871b3609-853e-49a8-9f95-ad81dfe04e07'), AIMessage(content=\"Certainly! I'd be happy to provide you with the RGB value for yellow. Like magenta, yellow is a standard color that I have information about without needing to use external tools.\\n\\nThe RGB value for yellow is:\\n\\nR: 255\\nG: 255\\nB: 0\\n\\nIn hexadecimal notation, this is represented as #FFFF00.\\n\\nYellow is created by combining full red and full green, with no blue. It's one of the primary colors in subtractive color mixing (used in printing, along with cyan and magenta), and it's a secondary color in additive color mixing (used in digital displays).\\n\\nSome interesting facts about yellow:\\n\\n1. It's often associated with happiness, optimism, and energy.\\n2. In nature, yellow is commonly seen in flowers, fruits, and some animals as a warning color.\\n3. Yellow is one of the most visible colors in daylight, which is why it's often used for safety equipment and warning signs.\\n\\nIs there any other color you'd like to know about, or do you have any other questions related to color values or color theory?\", additional_kwargs={}, response_metadata={'id': 'msg_016wA2LjyuEfG4nykyUSh1cD', 'model': 'claude-3-5-sonnet-20240620', 'stop_reason': 'end_turn', 'stop_sequence': None, 'usage': {'cache_creation_input_tokens': 0, 'cache_read_input_tokens': 0, 'input_tokens': 580, 'output_tokens': 244}}, id='run-cc69f13b-23bf-4283-b641-3608db235538-0', usage_metadata={'input_tokens': 580, 'output_tokens': 244, 'total_tokens': 824, 'input_token_details': {'cache_creation': 0, 'cache_read': 0}}), HumanMessage(content='cyan.', additional_kwargs={}, response_metadata={}, id='c3cfdccd-eaf8-4c8f-bff0-d1d1b25804ac'), AIMessage(content='Certainly! I\\'d be happy to provide you with the RGB value for cyan. Like magenta and yellow, cyan is a standard color that I have information about without needing to use external tools.\\n\\nThe RGB value for cyan is:\\n\\nR: 0\\nG: 255\\nB: 255\\n\\nIn hexadecimal notation, this is represented as #00FFFF.\\n\\nSome interesting facts about cyan:\\n\\n1. Cyan is created by combining full green and full blue, with no red.\\n2. It\\'s one of the primary colors in the subtractive color model (CMYK) used in printing, along with magenta and yellow.\\n3. In the additive color model (RGB) used in digital displays, cyan is considered a secondary color.\\n4. Cyan is often associated with calmness, cleanliness, and technology.\\n5. In nature, cyan can be seen in the color of clear skies and tropical waters.\\n6. The name \"cyan\" comes from the Greek word \"kyanos,\" meaning dark blue enamel or lapis lazuli.\\n\\nCyan, along with magenta and yellow that we discussed earlier, form the basis of the CMYK color model used in color printing. When combined in various amounts, these three colors (plus black) can create a wide range of colors on printed materials.\\n\\nIs there anything else you\\'d like to know about cyan or any other colors? Or perhaps you\\'re interested in how these colors relate to each other in different color models?', additional_kwargs={}, response_metadata={'id': 'msg_017hoQeJc5UNqAMq93aXTgFg', 'model': 'claude-3-5-sonnet-20240620', 'stop_reason': 'end_turn', 'stop_sequence': None, 'usage': {'cache_creation_input_tokens': 0, 'cache_read_input_tokens': 0, 'input_tokens': 829, 'output_tokens': 327}}, id='run-941b46cc-9300-4ee4-98d5-fb7028c536d6-0', usage_metadata={'input_tokens': 829, 'output_tokens': 327, 'total_tokens': 1156, 'input_token_details': {'cache_creation': 0, 'cache_read': 0}})]}, next=(), config={'configurable': {'thread_id': '1', 'checkpoint_ns': '', 'checkpoint_id': '1efde629-c061-6e69-8007-a6d09ba59164'}}, metadata={'source': 'loop', 'writes': {'chatbot': {'messages': [AIMessage(content='Certainly! I\\'d be happy to provide you with the RGB value for cyan. Like magenta and yellow, cyan is a standard color that I have information about without needing to use external tools.\\n\\nThe RGB value for cyan is:\\n\\nR: 0\\nG: 255\\nB: 255\\n\\nIn hexadecimal notation, this is represented as #00FFFF.\\n\\nSome interesting facts about cyan:\\n\\n1. Cyan is created by combining full green and full blue, with no red.\\n2. It\\'s one of the primary colors in the subtractive color model (CMYK) used in printing, along with magenta and yellow.\\n3. In the additive color model (RGB) used in digital displays, cyan is considered a secondary color.\\n4. Cyan is often associated with calmness, cleanliness, and technology.\\n5. In nature, cyan can be seen in the color of clear skies and tropical waters.\\n6. The name \"cyan\" comes from the Greek word \"kyanos,\" meaning dark blue enamel or lapis lazuli.\\n\\nCyan, along with magenta and yellow that we discussed earlier, form the basis of the CMYK color model used in color printing. When combined in various amounts, these three colors (plus black) can create a wide range of colors on printed materials.\\n\\nIs there anything else you\\'d like to know about cyan or any other colors? Or perhaps you\\'re interested in how these colors relate to each other in different color models?', additional_kwargs={}, response_metadata={'id': 'msg_017hoQeJc5UNqAMq93aXTgFg', 'model': 'claude-3-5-sonnet-20240620', 'stop_reason': 'end_turn', 'stop_sequence': None, 'usage': {'cache_creation_input_tokens': 0, 'cache_read_input_tokens': 0, 'input_tokens': 829, 'output_tokens': 327}}, id='run-941b46cc-9300-4ee4-98d5-fb7028c536d6-0', usage_metadata={'input_tokens': 829, 'output_tokens': 327, 'total_tokens': 1156, 'input_token_details': {'cache_creation': 0, 'cache_read': 0}})]}}, 'thread_id': '1', 'step': 7, 'parents': {}}, created_at='2025-01-29T17:00:57.758236+00:00', parent_config={'configurable': {'thread_id': '1', 'checkpoint_ns': '', 'checkpoint_id': '1efde629-941b-61cb-8006-ddda106a3557'}}, tasks=())"
      ]
     },
     "execution_count": 25,
     "metadata": {},
     "output_type": "execute_result"
    }
   ],
   "source": [
    "snapshot = graph.get_state(config)\n",
    "snapshot"
   ]
  },
  {
   "cell_type": "code",
   "execution_count": null,
   "metadata": {
    "colab": {
     "base_uri": "https://localhost:8080/"
    },
    "executionInfo": {
     "elapsed": 158,
     "status": "ok",
     "timestamp": 1738173324979,
     "user": {
      "displayName": "Charles Wiecha",
      "userId": "08158400620140352840"
     },
     "user_tz": 300
    },
    "id": "zb47dqedAuMz",
    "outputId": "a325b6d7-8565-4eff-89fa-9a7b63a1d88e"
   },
   "outputs": [
    {
     "data": {
      "text/plain": [
       "<langgraph.graph.state.StateGraph at 0x7e5d4821a010>"
      ]
     },
     "execution_count": 26,
     "metadata": {},
     "output_type": "execute_result"
    }
   ],
   "source": [
    "from typing import Annotated\n",
    "\n",
    "from langchain_anthropic import ChatAnthropic\n",
    "from langchain_community.tools.tavily_search import TavilySearchResults\n",
    "from langchain_core.tools import tool\n",
    "from typing_extensions import TypedDict\n",
    "\n",
    "from langgraph.checkpoint.memory import MemorySaver\n",
    "from langgraph.graph import StateGraph, START, END\n",
    "from langgraph.graph.message import add_messages\n",
    "from langgraph.prebuilt import ToolNode, tools_condition\n",
    "\n",
    "from langgraph.types import Command, interrupt\n",
    "\n",
    "\n",
    "class State(TypedDict):\n",
    "    messages: Annotated[list, add_messages]\n",
    "\n",
    "\n",
    "graph_builder = StateGraph(State)\n",
    "\n",
    "\n",
    "@tool\n",
    "def human_assistance(query: str) -> str:\n",
    "    \"\"\"Request assistance from a human.\"\"\"\n",
    "    human_response = interrupt({\"query\": query})\n",
    "    return human_response[\"data\"]\n",
    "\n",
    "\n",
    "tool = TavilySearchResults(max_results=2)\n",
    "tools = [tool, human_assistance]\n",
    "llm = ChatAnthropic(model=\"claude-3-5-sonnet-20240620\")\n",
    "llm_with_tools = llm.bind_tools(tools)\n",
    "\n",
    "\n",
    "def chatbot(state: State):\n",
    "    message = llm_with_tools.invoke(state[\"messages\"])\n",
    "    # Because we will be interrupting during tool execution,\n",
    "    # we disable parallel tool calling to avoid repeating any\n",
    "    # tool invocations when we resume.\n",
    "    assert len(message.tool_calls) <= 1\n",
    "    return {\"messages\": [message]}\n",
    "\n",
    "\n",
    "graph_builder.add_node(\"chatbot\", chatbot)\n",
    "\n",
    "tool_node = ToolNode(tools=tools)\n",
    "graph_builder.add_node(\"tools\", tool_node)\n",
    "\n",
    "graph_builder.add_conditional_edges(\n",
    "    \"chatbot\",\n",
    "    tools_condition,\n",
    ")\n",
    "graph_builder.add_edge(\"tools\", \"chatbot\")\n",
    "graph_builder.add_edge(START, \"chatbot\")"
   ]
  },
  {
   "cell_type": "code",
   "execution_count": null,
   "metadata": {
    "id": "XYdcoTAnNB1O"
   },
   "outputs": [],
   "source": [
    "memory = MemorySaver()\n",
    "\n",
    "graph = graph_builder.compile(checkpointer=memory)"
   ]
  },
  {
   "cell_type": "code",
   "execution_count": null,
   "metadata": {
    "colab": {
     "base_uri": "https://localhost:8080/",
     "height": 266
    },
    "executionInfo": {
     "elapsed": 158,
     "status": "ok",
     "timestamp": 1738173346204,
     "user": {
      "displayName": "Charles Wiecha",
      "userId": "08158400620140352840"
     },
     "user_tz": 300
    },
    "id": "9M1DoowwNFSW",
    "outputId": "b0809ed5-fd8a-4999-86dc-eb7aa179c571"
   },
   "outputs": [
    {
     "data": {
      "image/png": "[encoded data removed]",
      "text/plain": [
       "<IPython.core.display.Image object>"
      ]
     },
     "metadata": {},
     "output_type": "display_data"
    }
   ],
   "source": [
    "from IPython.display import Image, display\n",
    "\n",
    "try:\n",
    "    display(Image(graph.get_graph().draw_mermaid_png()))\n",
    "except Exception:\n",
    "    # This requires some extra dependencies and is optional\n",
    "    pass"
   ]
  },
  {
   "cell_type": "code",
   "execution_count": null,
   "metadata": {
    "colab": {
     "base_uri": "https://localhost:8080/"
    },
    "executionInfo": {
     "elapsed": 14270,
     "status": "ok",
     "timestamp": 1738174266910,
     "user": {
      "displayName": "Charles Wiecha",
      "userId": "08158400620140352840"
     },
     "user_tz": 300
    },
    "id": "iNMG21YXNHA1",
    "outputId": "07279273-102c-4dc9-9fb4-5db782f449be"
   },
   "outputs": [
    {
     "name": "stdout",
     "output_type": "stream",
     "text": [
      "================================\u001b[1m Human Message \u001b[0m=================================\n",
      "\n",
      "will there be a bird flu pandemic this year?\n",
      "==================================\u001b[1m Ai Message \u001b[0m==================================\n",
      "\n",
      "[{'citations': None, 'text': \"To answer this question about the potential for a bird flu pandemic this year, I'll need to search for the most current information from reliable sources. Let me do that for you.\", 'type': 'text'}, {'id': 'toolu_016CDNNG19A3ouGqMmeox9md', 'input': {'query': 'current risk of bird flu pandemic in humans'}, 'name': 'tavily_search_results_json', 'type': 'tool_use'}]\n",
      "Tool Calls:\n",
      "  tavily_search_results_json (toolu_016CDNNG19A3ouGqMmeox9md)\n",
      " Call ID: toolu_016CDNNG19A3ouGqMmeox9md\n",
      "  Args:\n",
      "    query: current risk of bird flu pandemic in humans\n",
      "=================================\u001b[1m Tool Message \u001b[0m=================================\n",
      "Name: tavily_search_results_json\n",
      "\n",
      "[{\"url\": \"https://www.wisfarmer.com/story/news/2025/01/29/is-bird-flu-the-next-global-pandemic-uw-madison-researchers-weigh-in/77980489007/\", \"content\": \"What is the threat to humans from bird flu? While officials stress that the current public health risk is low, the CDC has boosted its flu surveillance systems to monitor for H5 bird flu activity by testing people for bird flu in hospitals across the country, especially those in intensive care.\"}, {\"url\": \"https://www.today.com/health/disease/bird-flu-pandemic-rcna183174\", \"content\": \"The bird flu strain he's more worried about as a pandemic risk is H7N9, which was first reported in humans in China in 2013 and expanded to more than 1,500 people by 2017.\"}]\n",
      "==================================\u001b[1m Ai Message \u001b[0m==================================\n",
      "\n",
      "Based on the current information available, I can provide you with an overview of the situation regarding the risk of a bird flu pandemic this year:\n",
      "\n",
      "1. Current Risk Level: As of now, health officials are stating that the current public health risk from bird flu to humans is low. However, they are maintaining vigilance and have increased monitoring efforts.\n",
      "\n",
      "2. Ongoing Surveillance: The CDC (Centers for Disease Control and Prevention) has boosted its flu surveillance systems to monitor for H5 bird flu activity. This includes testing people for bird flu in hospitals across the country, especially those in intensive care units.\n",
      "\n",
      "3. Strain of Concern: While H5N1 is often in the news, some experts are more concerned about the H7N9 strain as a potential pandemic risk. This strain was first reported in humans in China in 2013 and had affected more than 1,500 people by 2017.\n",
      "\n",
      "4. No Immediate Pandemic Prediction: There's no definitive prediction of a bird flu pandemic occurring this year. Pandemics are difficult to predict with certainty.\n",
      "\n",
      "5. Continued Monitoring: Researchers and health organizations worldwide continue to closely monitor the situation and study the evolution of bird flu viruses.\n",
      "\n",
      "6. Preparation: Health authorities are preparing for various scenarios, including the potential for increased human-to-human transmission of bird flu viruses.\n",
      "\n",
      "It's important to note that while the risk of a pandemic is always present with zoonotic diseases like bird flu, the occurrence of a pandemic in any given year cannot be predicted with certainty. The situation can change rapidly, and new information may emerge at any time.\n",
      "\n",
      "For the most up-to-date and accurate information, it's best to follow updates from authoritative health organizations such as the World Health Organization (WHO), the Centers for Disease Control and Prevention (CDC), and your local health authorities.\n",
      "\n",
      "If you have specific concerns about bird flu or your personal health, it's always best to consult with a healthcare professional.\n"
     ]
    }
   ],
   "source": [
    "user_input = \"will there be a bird flu pandemic this year?\"\n",
    "config = {\"configurable\": {\"thread_id\": \"1\"}}\n",
    "\n",
    "events = graph.stream(\n",
    "    {\"messages\": [{\"role\": \"user\", \"content\": user_input}]},\n",
    "    config,\n",
    "    stream_mode=\"values\",\n",
    ")\n",
    "for event in events:\n",
    "    if \"messages\" in event:\n",
    "        event[\"messages\"][-1].pretty_print()"
   ]
  },
  {
   "cell_type": "code",
   "execution_count": null,
   "metadata": {
    "colab": {
     "base_uri": "https://localhost:8080/"
    },
    "executionInfo": {
     "elapsed": 6318,
     "status": "ok",
     "timestamp": 1738173635887,
     "user": {
      "displayName": "Charles Wiecha",
      "userId": "08158400620140352840"
     },
     "user_tz": 300
    },
    "id": "wlPgXlhZNwEj",
    "outputId": "34dda917-fcb3-47aa-88f3-71ffc0ead6be"
   },
   "outputs": [
    {
     "name": "stdout",
     "output_type": "stream",
     "text": [
      "==================================\u001b[1m Ai Message \u001b[0m==================================\n",
      "\n",
      "[{'citations': None, 'text': \"Certainly! I'd be happy to request expert assistance for you regarding building an AI agent. I'll use the human_assistance function to submit your request. Here's how I'll do that:\", 'type': 'text'}, {'id': 'toolu_0124nhkLrriLVX9EMK1ciopc', 'input': {'query': 'A user is seeking expert guidance for building an AI agent. Could you provide some key points or steps to consider when developing an AI agent?'}, 'name': 'human_assistance', 'type': 'tool_use'}]\n",
      "Tool Calls:\n",
      "  human_assistance (toolu_0124nhkLrriLVX9EMK1ciopc)\n",
      " Call ID: toolu_0124nhkLrriLVX9EMK1ciopc\n",
      "  Args:\n",
      "    query: A user is seeking expert guidance for building an AI agent. Could you provide some key points or steps to consider when developing an AI agent?\n",
      "=================================\u001b[1m Tool Message \u001b[0m=================================\n",
      "Name: human_assistance\n",
      "\n",
      "We, the experts are here to help! We'd recommend you check out LangGraph to build your agent. It's much more reliable and extensible than simple autonomous agents.\n",
      "==================================\u001b[1m Ai Message \u001b[0m==================================\n",
      "\n",
      "Thank you for your patience. I've received some expert advice regarding building an AI agent. Here's the guidance provided:\n",
      "\n",
      "The experts recommend checking out LangGraph for building your AI agent. They suggest that LangGraph is a more reliable and extensible option compared to simple autonomous agents.\n",
      "\n",
      "LangGraph is likely a framework or tool designed specifically for creating AI agents. Here are a few points to consider based on this recommendation:\n",
      "\n",
      "1. Research LangGraph: Look into the features, documentation, and capabilities of LangGraph to understand how it can help you build your AI agent.\n",
      "\n",
      "2. Reliability: The experts emphasize that LangGraph is more reliable than simple autonomous agents. This could mean it offers better stability, consistency in performance, or robust error handling.\n",
      "\n",
      "3. Extensibility: LangGraph is described as more extensible, which suggests it might offer more flexibility in terms of adding new features, integrating with other systems, or scaling your AI agent as needed.\n",
      "\n",
      "4. Compare with other options: While LangGraph is recommended, it's always good to compare it with other frameworks or methods for building AI agents to ensure it meets your specific requirements.\n",
      "\n",
      "5. Learning resources: Look for tutorials, guides, or courses related to LangGraph to help you get started and make the most of its features.\n",
      "\n",
      "6. Community support: Check if LangGraph has an active community of developers. This can be valuable for getting help, sharing ideas, and staying updated on best practices.\n",
      "\n",
      "If you'd like more detailed information about LangGraph or have any specific questions about building your AI agent, please feel free to ask, and I can request further assistance from the experts.\n"
     ]
    }
   ],
   "source": [
    "human_response = (\n",
    "    \"We, the experts are here to help! We'd recommend you check out LangGraph to build your agent.\"\n",
    "    \" It's much more reliable and extensible than simple autonomous agents.\"\n",
    ")\n",
    "\n",
    "human_command = Command(resume={\"data\": human_response})\n",
    "\n",
    "events = graph.stream(human_command, config, stream_mode=\"values\")\n",
    "for event in events:\n",
    "    if \"messages\" in event:\n",
    "        event[\"messages\"][-1].pretty_print()"
   ]
  },
  {
   "cell_type": "code",
   "execution_count": null,
   "metadata": {
    "colab": {
     "base_uri": "https://localhost:8080/",
     "height": 365
    },
    "executionInfo": {
     "elapsed": 164,
     "status": "ok",
     "timestamp": 1738176757912,
     "user": {
      "displayName": "Charles Wiecha",
      "userId": "08158400620140352840"
     },
     "user_tz": 300
    },
    "id": "iwVXym2qOMO-",
    "outputId": "f0033272-b36d-488c-efec-061ba2c1d804"
   },
   "outputs": [
    {
     "data": {
      "image/png": "[encoded data removed]",
      "text/plain": [
       "<IPython.core.display.Image object>"
      ]
     },
     "metadata": {},
     "output_type": "display_data"
    }
   ],
   "source": [
    "from typing_extensions import TypedDict, Literal\n",
    "from langgraph.graph import StateGraph, START, END, MessagesState\n",
    "from langgraph.checkpoint.memory import MemorySaver\n",
    "from langgraph.types import Command, interrupt\n",
    "from langchain_anthropic import ChatAnthropic\n",
    "from langchain_core.tools import tool\n",
    "from langchain_core.messages import AIMessage\n",
    "from IPython.display import Image, display\n",
    "\n",
    "\n",
    "@tool\n",
    "def weather_search(city: str):\n",
    "    \"\"\"Search for the weather\"\"\"\n",
    "    print(\"----\")\n",
    "    print(f\"Searching for: {city}\")\n",
    "    print(\"----\")\n",
    "    return \"Sunny!\"\n",
    "\n",
    "\n",
    "model = ChatAnthropic(model_name=\"claude-3-5-sonnet-latest\").bind_tools(\n",
    "    [weather_search]\n",
    ")\n",
    "\n",
    "\n",
    "class State(MessagesState):\n",
    "    \"\"\"Simple state.\"\"\"\n",
    "\n",
    "\n",
    "def call_llm(state):\n",
    "    return {\"messages\": [model.invoke(state[\"messages\"])]}\n",
    "\n",
    "\n",
    "def human_review_node(state) -> Command[Literal[\"call_llm\", \"run_tool\"]]:\n",
    "    last_message = state[\"messages\"][-1]\n",
    "    tool_call = last_message.tool_calls[-1]\n",
    "\n",
    "    # if we're asking about the weather in NYC, no need to confirm :-)\n",
    "    print(tool_call)\n",
    "\n",
    "    if tool_call[\"name\"] == \"weather_search\" and ( tool_call[\"args\"]['city'] == 'New York City' or tool_call[\"args\"]['city'] == 'NYC' ):\n",
    "        return Command(goto=\"run_tool\")\n",
    "\n",
    "    # this is the value we'll be providing via Command(resume=<human_review>)\n",
    "    human_review = interrupt(\n",
    "        {\n",
    "            \"question\": \"Is this correct?\",\n",
    "            # Surface tool calls for review\n",
    "            \"tool_call\": tool_call,\n",
    "        }\n",
    "    )\n",
    "\n",
    "    review_action = human_review[\"action\"]\n",
    "    review_data = human_review.get(\"data\")\n",
    "\n",
    "    # if approved, call the tool\n",
    "    if review_action == \"continue\":\n",
    "        return Command(goto=\"run_tool\")\n",
    "\n",
    "    # update the AI message AND call tools\n",
    "    elif review_action == \"update\":\n",
    "        updated_message = {\n",
    "            \"role\": \"ai\",\n",
    "            \"content\": last_message.content,\n",
    "            \"tool_calls\": [\n",
    "                {\n",
    "                    \"id\": tool_call[\"id\"],\n",
    "                    \"name\": tool_call[\"name\"],\n",
    "                    # This the update provided by the human\n",
    "                    \"args\": review_data,\n",
    "                }\n",
    "            ],\n",
    "            # This is important - this needs to be the same as the message you replacing!\n",
    "            # Otherwise, it will show up as a separate message\n",
    "            \"id\": last_message.id,\n",
    "        }\n",
    "        return Command(goto=\"run_tool\", update={\"messages\": [updated_message]})\n",
    "\n",
    "    # provide feedback to LLM\n",
    "    elif review_action == \"feedback\":\n",
    "        # NOTE: we're adding feedback message as a ToolMessage\n",
    "        # to preserve the correct order in the message history\n",
    "        # (AI messages with tool calls need to be followed by tool call messages)\n",
    "        tool_message = {\n",
    "            \"role\": \"tool\",\n",
    "            # This is our natural language feedback\n",
    "            \"content\": review_data,\n",
    "            \"name\": tool_call[\"name\"],\n",
    "            \"tool_call_id\": tool_call[\"id\"],\n",
    "        }\n",
    "        return Command(goto=\"call_llm\", update={\"messages\": [tool_message]})\n",
    "\n",
    "\n",
    "def run_tool(state):\n",
    "    new_messages = []\n",
    "    tools = {\"weather_search\": weather_search}\n",
    "    tool_calls = state[\"messages\"][-1].tool_calls\n",
    "    for tool_call in tool_calls:\n",
    "        tool = tools[tool_call[\"name\"]]\n",
    "        result = tool.invoke(tool_call[\"args\"])\n",
    "        new_messages.append(\n",
    "            {\n",
    "                \"role\": \"tool\",\n",
    "                \"name\": tool_call[\"name\"],\n",
    "                \"content\": result,\n",
    "                \"tool_call_id\": tool_call[\"id\"],\n",
    "            }\n",
    "        )\n",
    "    return {\"messages\": new_messages}\n",
    "\n",
    "\n",
    "def route_after_llm(state) -> Literal[END, \"human_review_node\"]:\n",
    "    if len(state[\"messages\"][-1].tool_calls) == 0:\n",
    "        return END\n",
    "    else:\n",
    "        return \"human_review_node\"\n",
    "\n",
    "\n",
    "builder = StateGraph(State)\n",
    "builder.add_node(call_llm)\n",
    "builder.add_node(run_tool)\n",
    "builder.add_node(human_review_node)\n",
    "builder.add_edge(START, \"call_llm\")\n",
    "builder.add_conditional_edges(\"call_llm\", route_after_llm)\n",
    "builder.add_edge(\"run_tool\", \"call_llm\")\n",
    "\n",
    "# Set up memory\n",
    "memory = MemorySaver()\n",
    "\n",
    "# Add\n",
    "graph = builder.compile(checkpointer=memory)\n",
    "\n",
    "# View\n",
    "display(Image(graph.get_graph().draw_mermaid_png()))"
   ]
  },
  {
   "cell_type": "code",
   "execution_count": null,
   "metadata": {
    "colab": {
     "base_uri": "https://localhost:8080/"
    },
    "executionInfo": {
     "elapsed": 2402,
     "status": "ok",
     "timestamp": 1738175015222,
     "user": {
      "displayName": "Charles Wiecha",
      "userId": "08158400620140352840"
     },
     "user_tz": 300
    },
    "id": "zW-n23gxQ1N5",
    "outputId": "0ab9a06d-5af4-4258-87b5-372628ac41bc"
   },
   "outputs": [
    {
     "name": "stdout",
     "output_type": "stream",
     "text": [
      "{'call_llm': {'messages': [AIMessage(content=\"Hello! I'm here to help you! I can assist you with checking weather information for different cities. Would you like to know the weather for a specific city? Just let me know which city you're interested in and I'll look that up for you.\", additional_kwargs={}, response_metadata={'id': 'msg_01PTkmVYLu84hgntWEY55Miq', 'model': 'claude-3-5-sonnet-20241022', 'stop_reason': 'end_turn', 'stop_sequence': None, 'usage': {'cache_creation_input_tokens': 0, 'cache_read_input_tokens': 0, 'input_tokens': 374, 'output_tokens': 55}}, id='run-286de05e-1596-4b89-9355-767a1e170e34-0', usage_metadata={'input_tokens': 374, 'output_tokens': 55, 'total_tokens': 429, 'input_token_details': {'cache_read': 0, 'cache_creation': 0}})]}}\n",
      "\n",
      "\n"
     ]
    }
   ],
   "source": [
    "# Input\n",
    "initial_input = {\"messages\": [{\"role\": \"user\", \"content\": \"hi!\"}]}\n",
    "\n",
    "# Thread\n",
    "thread = {\"configurable\": {\"thread_id\": \"1\"}}\n",
    "\n",
    "# Run the graph until the first interruption\n",
    "for event in graph.stream(initial_input, thread, stream_mode=\"updates\"):\n",
    "    print(event)\n",
    "    print(\"\\n\")"
   ]
  },
  {
   "cell_type": "code",
   "execution_count": null,
   "metadata": {
    "colab": {
     "base_uri": "https://localhost:8080/"
    },
    "executionInfo": {
     "elapsed": 2297,
     "status": "ok",
     "timestamp": 1738176786102,
     "user": {
      "displayName": "Charles Wiecha",
      "userId": "08158400620140352840"
     },
     "user_tz": 300
    },
    "id": "Do9PNFogTd7E",
    "outputId": "0dc568fd-c0e0-43a5-ac80-60fca65a752f"
   },
   "outputs": [
    {
     "name": "stdout",
     "output_type": "stream",
     "text": [
      "{'call_llm': {'messages': [AIMessage(content=[{'citations': None, 'text': \"I'll check the weather in San Francisco.\", 'type': 'text'}, {'id': 'toolu_01CJ2LY8vbeEHT8hgS78FTi8', 'input': {'city': 'SF'}, 'name': 'weather_search', 'type': 'tool_use'}], additional_kwargs={}, response_metadata={'id': 'msg_015DLJAA6jbn7mBNvN5g779C', 'model': 'claude-3-5-sonnet-20241022', 'stop_reason': 'tool_use', 'stop_sequence': None, 'usage': {'cache_creation_input_tokens': 0, 'cache_read_input_tokens': 0, 'input_tokens': 485, 'output_tokens': 63}}, id='run-509394dd-db4d-4803-b175-9cf561ae7ca3-0', tool_calls=[{'name': 'weather_search', 'args': {'city': 'SF'}, 'id': 'toolu_01CJ2LY8vbeEHT8hgS78FTi8', 'type': 'tool_call'}], usage_metadata={'input_tokens': 485, 'output_tokens': 63, 'total_tokens': 548, 'input_token_details': {'cache_read': 0, 'cache_creation': 0}})]}}\n",
      "\n",
      "\n",
      "{'name': 'weather_search', 'args': {'city': 'SF'}, 'id': 'toolu_01CJ2LY8vbeEHT8hgS78FTi8', 'type': 'tool_call'}\n",
      "{'__interrupt__': (Interrupt(value={'question': 'Is this correct?', 'tool_call': {'name': 'weather_search', 'args': {'city': 'SF'}, 'id': 'toolu_01CJ2LY8vbeEHT8hgS78FTi8', 'type': 'tool_call'}}, resumable=True, ns=['human_review_node:131029e7-ca3a-5914-278b-8e509ecd675e'], when='during'),)}\n",
      "\n",
      "\n"
     ]
    }
   ],
   "source": [
    "# Input\n",
    "initial_input = {\"messages\": [{\"role\": \"user\", \"content\": \"what's the weather in SF?\"}]}\n",
    "\n",
    "# Thread\n",
    "thread = {\"configurable\": {\"thread_id\": \"2\"}}\n",
    "\n",
    "# Run the graph until the first interruption\n",
    "for event in graph.stream(initial_input, thread, stream_mode=\"updates\"):\n",
    "    print(event)\n",
    "    print(\"\\n\")"
   ]
  },
  {
   "cell_type": "code",
   "execution_count": null,
   "metadata": {
    "colab": {
     "base_uri": "https://localhost:8080/"
    },
    "executionInfo": {
     "elapsed": 1740,
     "status": "ok",
     "timestamp": 1738176797990,
     "user": {
      "displayName": "Charles Wiecha",
      "userId": "08158400620140352840"
     },
     "user_tz": 300
    },
    "id": "nIpQ0wHwTp90",
    "outputId": "8378f264-da40-40cf-a130-ec27f7a1908d"
   },
   "outputs": [
    {
     "name": "stdout",
     "output_type": "stream",
     "text": [
      "{'name': 'weather_search', 'args': {'city': 'SF'}, 'id': 'toolu_01CJ2LY8vbeEHT8hgS78FTi8', 'type': 'tool_call'}\n",
      "{'human_review_node': None}\n",
      "\n",
      "\n",
      "----\n",
      "Searching for: SF\n",
      "----\n",
      "{'run_tool': {'messages': [{'role': 'tool', 'name': 'weather_search', 'content': 'Sunny!', 'tool_call_id': 'toolu_01CJ2LY8vbeEHT8hgS78FTi8'}]}}\n",
      "\n",
      "\n",
      "{'call_llm': {'messages': [AIMessage(content=\"It's sunny in SF right now!\", additional_kwargs={}, response_metadata={'id': 'msg_01X4R2GJCAXEEDRGaakkLJdg', 'model': 'claude-3-5-sonnet-20241022', 'stop_reason': 'end_turn', 'stop_sequence': None, 'usage': {'cache_creation_input_tokens': 0, 'cache_read_input_tokens': 0, 'input_tokens': 561, 'output_tokens': 12}}, id='run-0306e607-6f23-42a8-a83e-e260882f40e6-0', usage_metadata={'input_tokens': 561, 'output_tokens': 12, 'total_tokens': 573, 'input_token_details': {'cache_read': 0, 'cache_creation': 0}})]}}\n",
      "\n",
      "\n"
     ]
    }
   ],
   "source": [
    "for event in graph.stream(\n",
    "    # provide value\n",
    "    Command(resume={\"action\": \"continue\"}),\n",
    "    thread,\n",
    "    stream_mode=\"updates\",\n",
    "):\n",
    "    print(event)\n",
    "    print(\"\\n\")"
   ]
  },
  {
   "cell_type": "code",
   "execution_count": null,
   "metadata": {
    "colab": {
     "base_uri": "https://localhost:8080/"
    },
    "executionInfo": {
     "elapsed": 2279,
     "status": "ok",
     "timestamp": 1738175209260,
     "user": {
      "displayName": "Charles Wiecha",
      "userId": "08158400620140352840"
     },
     "user_tz": 300
    },
    "id": "5Y76CLujTzIf",
    "outputId": "8adf55d7-9426-496d-8801-53f879763e04"
   },
   "outputs": [
    {
     "name": "stdout",
     "output_type": "stream",
     "text": [
      "{'human_review_node': {'messages': [{'role': 'ai', 'content': [{'citations': None, 'text': \"I'll help you check the weather in San Francisco.\", 'type': 'text'}, {'id': 'toolu_01ABoshDduk9SCqw8tkcS2jW', 'input': {'city': 'sf'}, 'name': 'weather_search', 'type': 'tool_use'}], 'tool_calls': [{'id': 'toolu_01ABoshDduk9SCqw8tkcS2jW', 'name': 'weather_search', 'args': {'city': 'Santa Fe, USA'}}], 'id': 'run-2af398cf-3271-45d5-8bd2-6dc9cb97ddbd-0'}]}}\n",
      "\n",
      "\n",
      "----\n",
      "Searching for: Santa Fe, USA\n",
      "----\n",
      "{'run_tool': {'messages': [{'role': 'tool', 'name': 'weather_search', 'content': 'Sunny!', 'tool_call_id': 'toolu_01ABoshDduk9SCqw8tkcS2jW'}]}}\n",
      "\n",
      "\n",
      "{'call_llm': {'messages': [AIMessage(content='According to the search, it\\'s sunny in Santa Fe right now! \\n\\n(Note: When you say \"sf\", did you mean San Francisco or Santa Fe? Please let me know so I can provide the correct weather information for your desired location.)', additional_kwargs={}, response_metadata={'id': 'msg_01VGvPht4CZeA8Ro43LNQbTT', 'model': 'claude-3-5-sonnet-20241022', 'stop_reason': 'end_turn', 'stop_sequence': None, 'usage': {'cache_creation_input_tokens': 0, 'cache_read_input_tokens': 0, 'input_tokens': 566, 'output_tokens': 55}}, id='run-486628c6-25ef-496e-85b9-84dbdbc56ede-0', usage_metadata={'input_tokens': 566, 'output_tokens': 55, 'total_tokens': 621, 'input_token_details': {'cache_read': 0, 'cache_creation': 0}})]}}\n",
      "\n",
      "\n"
     ]
    }
   ],
   "source": [
    "# Let's now continue executing from here\n",
    "for event in graph.stream(\n",
    "    Command(resume={\"action\": \"update\", \"data\": {\"city\": \"Santa Fe, USA\"}}),\n",
    "    thread,\n",
    "    stream_mode=\"updates\",\n",
    "):\n",
    "    print(event)\n",
    "    print(\"\\n\")"
   ]
  },
  {
   "cell_type": "code",
   "execution_count": null,
   "metadata": {
    "id": "0o_FRDjWUNWW"
   },
   "outputs": [],
   "source": []
  }
 ],
 "metadata": {
  "colab": {
   "authorship_tag": "ABX9TyOuOj+0SqhUjAectzRjVyo1",
   "provenance": []
  },
  "kernelspec": {
   "display_name": "Python 3 (ipykernel)",
   "language": "python",
   "name": "python3"
  },
  "language_info": {
   "codemirror_mode": {
    "name": "ipython",
    "version": 3
   },
   "file_extension": ".py",
   "mimetype": "text/x-python",
   "name": "python",
   "nbconvert_exporter": "python",
   "pygments_lexer": "ipython3",
   "version": "3.10.16"
  }
 },
 "nbformat": 4,
 "nbformat_minor": 4
}
